{
 "cells": [
  {
   "cell_type": "markdown",
   "id": "253770a5",
   "metadata": {},
   "source": [
    "# Word Embedding Translator"
   ]
  },
  {
   "cell_type": "markdown",
   "id": "2e015f1b",
   "metadata": {},
   "source": [
    "## Libraries"
   ]
  },
  {
   "cell_type": "code",
   "execution_count": 5,
   "id": "7230eb8f",
   "metadata": {},
   "outputs": [],
   "source": [
    "import numpy as np\n",
    "import pandas as pd\n",
    "import itertools as it\n",
    "\n",
    "from gensim.models import KeyedVectors"
   ]
  },
  {
   "cell_type": "markdown",
   "id": "a36ae151",
   "metadata": {},
   "source": [
    "## 1 - Loading data\n",
    "Loading the models and sentences used.\n",
    "- Models: https://fasttext.cc/docs/en/crawl-vectors.html\n",
    "- Sentences: https://github.com/alexa/massive"
   ]
  },
  {
   "cell_type": "code",
   "execution_count": 6,
   "id": "f117e715",
   "metadata": {},
   "outputs": [],
   "source": [
    "def load_files(model_path, sentences_path, limit = None):\n",
    "    '''\n",
    "    Load models from FastText folder and sentences from Amazon Massive folder.\n",
    "    \n",
    "    Params:\n",
    "    - model_path: path to the folder containing all models used, i.e., FastText\n",
    "    - sentences_path: path to the folder containing all sentences used, i.e., Amazon_Massive\n",
    "    - limit: define a limit in case your have low computer power, e.g., 5000\n",
    "    \n",
    "    Return:\n",
    "    Tuple containing the language model and its corresponding sentences\n",
    "    '''\n",
    "\n",
    "    model = KeyedVectors.load_word2vec_format(model_path, unicode_errors = 'replace', limit = limit)\n",
    "    sentences = pd.read_json(sentences_path, lines = True)['utt']\n",
    "    \n",
    "    return model, sentences"
   ]
  },
  {
   "cell_type": "code",
   "execution_count": 7,
   "id": "d4f7b818",
   "metadata": {},
   "outputs": [],
   "source": [
    "FASTTEXT_PATH = 'Datasets/FastText/'\n",
    "MASSIVE_PATH = 'Datasets/Amazon_Massive/'"
   ]
  },
  {
   "cell_type": "code",
   "execution_count": 8,
   "id": "553117db",
   "metadata": {},
   "outputs": [],
   "source": [
    "PATHS = {\n",
    "    'en': [ FASTTEXT_PATH + 'cc.en.300.vec', MASSIVE_PATH + 'en-US.jsonl' ],\n",
    "    'pt': [ FASTTEXT_PATH + 'cc.pt.300.vec', MASSIVE_PATH + 'pt-PT.jsonl' ],\n",
    "    'es': [ FASTTEXT_PATH + 'cc.es.300.vec', MASSIVE_PATH + 'es-ES.jsonl' ]\n",
    "}\n",
    "\n",
    "LANGUAGES = PATHS.keys()"
   ]
  },
  {
   "cell_type": "markdown",
   "id": "c564e517",
   "metadata": {},
   "source": [
    "**Note**: the cell below takes approximately 5 to 6 minutes per model."
   ]
  },
  {
   "cell_type": "code",
   "execution_count": 9,
   "id": "08bf0f8b",
   "metadata": {},
   "outputs": [
    {
     "name": "stdout",
     "output_type": "stream",
     "text": [
      "Finished loading  Datasets/FastText/cc.en.300.vec\n",
      "Finished loading  Datasets/FastText/cc.pt.300.vec\n",
      "Finished loading  Datasets/FastText/cc.es.300.vec\n"
     ]
    }
   ],
   "source": [
    "MODELS, SENTENCES = {}, {}\n",
    "\n",
    "for language, value in PATHS.items():\n",
    "    model = value[0]\n",
    "    sentences = value[1]\n",
    "\n",
    "    print(\"Loading\", model)\n",
    "    MODELS[language], SENTENCES[language] = load_files(model, sentences)\n",
    "    print(\"Finished loading\", model)\n",
    "\n",
    "print(\"All models and sentences are now loaded!\")"
   ]
  },
  {
   "cell_type": "markdown",
   "id": "5e14fb99",
   "metadata": {},
   "source": [
    "## 2 - Preparing data"
   ]
  },
  {
   "cell_type": "code",
   "execution_count": 10,
   "id": "9bceeb1a",
   "metadata": {},
   "outputs": [],
   "source": [
    "SAMPLES = { key: [] for key in LANGUAGES }"
   ]
  },
  {
   "cell_type": "code",
   "execution_count": 16,
   "id": "e67d11b5",
   "metadata": {},
   "outputs": [],
   "source": [
    "# Since all sentence files have the same length, we chose one at random for the range function.\n",
    "# We prove this in the cell below\n",
    "for idx in range(len(SENTENCES['pt'])):\n",
    "    \n",
    "    actual_sentence = { key: [] for key in LANGUAGES}\n",
    "    \n",
    "    try:\n",
    "        for lang, sent in SENTENCES.items():\n",
    "            for word in sent[idx].split(' '):\n",
    "                actual_sentence[lang].append(MODELS[lang][word])\n",
    "\n",
    "    except KeyError:\n",
    "        continue\n",
    "    \n",
    "    for key, value in actual_sentence.items():\n",
    "        SAMPLES[key].append(sum(value))"
   ]
  },
  {
   "cell_type": "code",
   "execution_count": 18,
   "id": "e5d43f97",
   "metadata": {},
   "outputs": [
    {
     "name": "stdout",
     "output_type": "stream",
     "text": [
      "Total sentences in en file: 16521 -> Model en samples: 15055 (91.13%)\n",
      "Total sentences in pt file: 16521 -> Model pt samples: 15055 (91.13%)\n",
      "Total sentences in es file: 16521 -> Model es samples: 15055 (91.13%)\n"
     ]
    }
   ],
   "source": [
    "for key in SENTENCES:\n",
    "    print(f'Total sentences in { key } file: { len(SENTENCES[key]) } -> Model { key } samples: { len(SAMPLES[key]) } ({ len(SAMPLES[key]) / len(SENTENCES[key]) * 100:.2f}%)')"
   ]
  },
  {
   "cell_type": "markdown",
   "id": "8cf7d5e4",
   "metadata": {},
   "source": [
    "## 3 - Translating words"
   ]
  },
  {
   "cell_type": "code",
   "execution_count": 19,
   "id": "1711e3f9",
   "metadata": {},
   "outputs": [],
   "source": [
    "TRANSLATIONS = { key: { lang: None for lang in LANGUAGES if lang != key } for key in LANGUAGES }"
   ]
  },
  {
   "cell_type": "code",
   "execution_count": 20,
   "id": "df5bc3de",
   "metadata": {},
   "outputs": [],
   "source": [
    "for origin, target in it.permutations(LANGUAGES, 2): \n",
    "    U, Sig, Vt = np.linalg.svd(np.transpose(SAMPLES[origin]) @ SAMPLES[target])\n",
    "    TRANSLATOR = np.transpose(Vt) @ np.transpose(U)\n",
    "    TRANSLATIONS[origin][target] = TRANSLATOR"
   ]
  },
  {
   "cell_type": "markdown",
   "id": "b4325e13",
   "metadata": {},
   "source": [
    "### List of examples words\n",
    "**Note**: only single words can be written, i.e., compound words like \"washing machine\" will result in Error"
   ]
  },
  {
   "cell_type": "markdown",
   "id": "0aed3f9c",
   "metadata": {},
   "source": [
    "- English"
   ]
  },
  {
   "cell_type": "code",
   "execution_count": 35,
   "id": "267b75aa",
   "metadata": {},
   "outputs": [],
   "source": [
    "EN_WORD_LIST = [\n",
    "    'specification',\n",
    "    'book',\n",
    "    'duckling',\n",
    "    'machine',\n",
    "    'headphones'\n",
    "]"
   ]
  },
  {
   "cell_type": "markdown",
   "id": "e9107823",
   "metadata": {},
   "source": [
    "- Portuguese"
   ]
  },
  {
   "cell_type": "code",
   "execution_count": 22,
   "id": "ed70d7ec",
   "metadata": {},
   "outputs": [],
   "source": [
    "PT_WORD_LIST = [\n",
    "    'sapato',\n",
    "    'flor',\n",
    "    'aniversário',\n",
    "    'saudades',\n",
    "]"
   ]
  },
  {
   "cell_type": "markdown",
   "id": "04930bcf",
   "metadata": {},
   "source": [
    "- Spanish"
   ]
  },
  {
   "cell_type": "code",
   "execution_count": 23,
   "id": "f4f14161",
   "metadata": {},
   "outputs": [],
   "source": [
    "ES_WORD_LIST = [\n",
    "    'hola',\n",
    "    'sí',\n",
    "    'computadora',\n",
    "    'país'\n",
    "]"
   ]
  },
  {
   "cell_type": "code",
   "execution_count": 30,
   "id": "1ad3f141",
   "metadata": {},
   "outputs": [],
   "source": [
    "def translate(word_list, target_lang, origin_lang):\n",
    "    '''\n",
    "    Function to translate one word from one language to another.\n",
    "\n",
    "    Params:\n",
    "    - word_list: list of example words.\n",
    "    - target_lang: language you wish to know the translation\n",
    "    - origin_lang: language in which the words in word_list are written\n",
    "\n",
    "    Example of usage:\n",
    "    translate(PT_WORD_LIST, 'es', 'pt')\n",
    "    '''\n",
    "    \n",
    "    for word in word_list:\n",
    "        print(\"Original word:\", word)\n",
    "        print(\"Top 10 most similar words in\", target_lang)\n",
    "        print(MODELS[target_lang].most_similar(TRANSLATIONS[origin_lang][target_lang] @ MODELS[origin_lang][word]))\n",
    "        print(\"\\n\")"
   ]
  },
  {
   "cell_type": "markdown",
   "id": "b18fa53d",
   "metadata": {},
   "source": [
    "### Examples"
   ]
  },
  {
   "cell_type": "markdown",
   "id": "91ff3272",
   "metadata": {},
   "source": [
    "- Portuguese -> Spanish"
   ]
  },
  {
   "cell_type": "code",
   "execution_count": 31,
   "id": "a6c2d369",
   "metadata": {},
   "outputs": [
    {
     "name": "stdout",
     "output_type": "stream",
     "text": [
      "Original word: sapato\n",
      "Top 10 most similar words in es\n",
      "[('zapato', 0.662111222743988), ('zapatos', 0.5563797950744629), ('vestido', 0.5291659235954285), ('calzado', 0.5260925889015198), ('tacón', 0.5103809237480164), ('sapato', 0.5011822581291199), ('bolso', 0.5003554224967957), ('tacones', 0.4980669617652893), ('abriguito', 0.4970734119415283), ('tacon', 0.4929378926753998)]\n",
      "\n",
      "\n",
      "Original word: flor\n",
      "Top 10 most similar words in es\n",
      "[('flor', 0.578707754611969), ('florecilla', 0.5153224468231201), ('peonia', 0.5134485960006714), ('camelia', 0.49486222863197327), ('flores.La', 0.4931686818599701), ('gardenia', 0.4834303855895996), ('plantita', 0.4797089993953705), ('florcita', 0.47890302538871765), ('gerbera', 0.4722459316253662), ('peonía', 0.4695531129837036)]\n",
      "\n",
      "\n",
      "Original word: aniversário\n",
      "Top 10 most similar words in es\n",
      "[('cumpleaños', 0.7326678037643433), ('cumpleaño', 0.6536815762519836), ('cumpleños', 0.6065086126327515), ('aniversario', 0.5872988104820251), ('cumpleaños.El', 0.5673967003822327), ('cumpeaños', 0.5645080208778381), ('Cumpleaños', 0.5528781414031982), ('cumpleanos', 0.5322667956352234), ('cumpleñaos', 0.5267534255981445), ('cumpleaños.', 0.5253393650054932)]\n",
      "\n",
      "\n",
      "Original word: saudades\n",
      "Top 10 most similar words in es\n",
      "[('saudades', 0.5174434185028076), ('morriñas', 0.4936010241508484), ('ganas', 0.4889754354953766), ('añoranzas', 0.4799804389476776), ('nostálgia', 0.47339314222335815), ('añoranza', 0.47094112634658813), ('nostalgias', 0.4639553427696228), ('nostalgia', 0.45602428913116455), ('nostágico', 0.4537942111492157), ('nostálgicas', 0.44510430097579956)]\n",
      "\n",
      "\n"
     ]
    }
   ],
   "source": [
    "translate(PT_WORD_LIST, 'es', 'pt')"
   ]
  },
  {
   "cell_type": "markdown",
   "id": "f29a05a8",
   "metadata": {},
   "source": [
    "- Portuguese -> English"
   ]
  },
  {
   "cell_type": "code",
   "execution_count": 32,
   "id": "0777db3a",
   "metadata": {},
   "outputs": [
    {
     "name": "stdout",
     "output_type": "stream",
     "text": [
      "Original word: sapato\n",
      "Top 10 most similar words in en\n",
      "[('shoes', 0.49248427152633667), ('shoe', 0.4787915349006653), ('handbag', 0.46190956234931946), ('shoes.', 0.45884427428245544), ('high-heels', 0.4253663122653961), ('shoes.It', 0.42041054368019104), ('wear', 0.41922497749328613), ('dress', 0.41850635409355164), ('shoes.I', 0.41741669178009033), ('stilettos', 0.41115647554397583)]\n",
      "\n",
      "\n",
      "Original word: flor\n",
      "Top 10 most similar words in en\n",
      "[('flower', 0.4892441928386688), ('flower.', 0.45763397216796875), ('flowers', 0.4486697316169739), ('floweret', 0.4485749304294586), ('frangipani', 0.4426537752151489), ('flower.I', 0.44215601682662964), ('rose-bud', 0.4417296051979065), ('flowers.I', 0.4355604350566864), ('floweres', 0.43370744585990906), ('peony', 0.4296590983867645)]\n",
      "\n",
      "\n",
      "Original word: aniversário\n",
      "Top 10 most similar words in en\n",
      "[('birthday', 0.6762741208076477), ('brithday', 0.6188441514968872), ('anniversary', 0.5894871354103088), ('b-day', 0.5865834951400757), ('B-day', 0.5688841342926025), ('bday', 0.563849925994873), ('half-birthday', 0.5610528588294983), ('bithday', 0.5594354867935181), ('birthdays', 0.559228241443634), ('birhday', 0.5556536912918091)]\n",
      "\n",
      "\n",
      "Original word: saudades\n",
      "Top 10 most similar words in en\n",
      "[('memories.So', 0.4147638976573944), ('memories.We', 0.39648035168647766), ('forget.So', 0.39435285329818726), ('homesick', 0.38258102536201477), ('friendsi', 0.3788753151893616), ('nostalgic.', 0.3767973482608795), ('memories.I', 0.3737850487232208), ('forget.And', 0.3733625113964081), ('days.Love', 0.3711695075035095), ('memories.And', 0.37089288234710693)]\n",
      "\n",
      "\n"
     ]
    }
   ],
   "source": [
    "translate(PT_WORD_LIST, 'en', 'pt')"
   ]
  },
  {
   "cell_type": "markdown",
   "id": "42f82e71",
   "metadata": {},
   "source": [
    "- Spanish -> English"
   ]
  },
  {
   "cell_type": "code",
   "execution_count": 33,
   "id": "5c980d96",
   "metadata": {},
   "outputs": [
    {
     "name": "stdout",
     "output_type": "stream",
     "text": [
      "Original word: hola\n",
      "Top 10 most similar words in en\n",
      "[('hi', 0.7843162417411804), ('hello', 0.6993371844291687), ('Hello', 0.5977930426597595), ('Hey', 0.5961156487464905), ('Hi', 0.5825239419937134), ('hello.', 0.5765830874443054), ('hellow', 0.5692029595375061), ('hey', 0.5662575960159302), ('hi.', 0.5605804920196533), ('hiya', 0.5553944110870361)]\n",
      "\n",
      "\n",
      "Original word: sí\n",
      "Top 10 most similar words in en\n",
      "[('if', 0.5527223348617554), ('it', 0.5410739779472351), ('is', 0.5105495452880859), ('so', 0.502880334854126), ('ok', 0.48606130480766296), ('he', 0.47977301478385925), ('So', 0.473000168800354), ('but', 0.47253870964050293), ('It', 0.4574020206928253), ('.But', 0.4567376375198364)]\n",
      "\n",
      "\n",
      "Original word: computadora\n",
      "Top 10 most similar words in en\n",
      "[('computer', 0.5687118768692017), ('computers', 0.5186777710914612), ('compuer', 0.4945278763771057), ('comupter', 0.473619282245636), ('lap-top', 0.4680299460887909), ('comptuer', 0.46599137783050537), ('computer.', 0.460129976272583), ('computer.But', 0.45621001720428467), ('laptop', 0.4532630443572998), ('computer.So', 0.44021081924438477)]\n",
      "\n",
      "\n",
      "Original word: país\n",
      "Top 10 most similar words in en\n",
      "[('country', 0.6180828809738159), ('nation', 0.5310769081115723), ('country.So', 0.5292444825172424), ('world', 0.5207293033599854), ('country.What', 0.5093080401420593), ('country.That', 0.5059764981269836), ('country.Now', 0.504574179649353), ('country.It', 0.48691126704216003), ('country.This', 0.4802422523498535), ('country.But', 0.4704098105430603)]\n",
      "\n",
      "\n"
     ]
    }
   ],
   "source": [
    "translate(ES_WORD_LIST, 'en', 'es')"
   ]
  },
  {
   "cell_type": "markdown",
   "id": "4f6b2270",
   "metadata": {},
   "source": [
    "- English -> Portuguese"
   ]
  },
  {
   "cell_type": "code",
   "execution_count": 36,
   "id": "0c3dc7aa",
   "metadata": {},
   "outputs": [
    {
     "name": "stdout",
     "output_type": "stream",
     "text": [
      "Original word: specification\n",
      "Top 10 most similar words in pt\n",
      "[('especificação', 0.46337905526161194), ('e-ping', 0.3616640865802765), ('SEPIADES', 0.3566552996635437), ('modelo', 0.3557088375091553), ('especifcado', 0.34288156032562256), ('ocódigo', 0.33144697546958923), ('documento-base', 0.3298552334308624), ('defnição', 0.32953616976737976), ('FURPS', 0.32794156670570374), ('modelo-base', 0.32483965158462524)]\n",
      "\n",
      "\n",
      "Original word: book\n",
      "Top 10 most similar words in pt\n",
      "[('livro', 0.6918875575065613), ('livrinho', 0.5807176232337952), ('livroO', 0.552798330783844), ('livro.O', 0.5448362231254578), ('olivro', 0.5433851480484009), ('umlivro', 0.5348812341690063), ('romance', 0.5321617722511292), ('livro.E', 0.5300799608230591), ('livroA', 0.5215703845024109), ('audiolivro', 0.5129063725471497)]\n",
      "\n",
      "\n",
      "Original word: duckling\n",
      "Top 10 most similar words in pt\n",
      "[('patinho', 0.4825701415538788), ('galinha', 0.4435596764087677), ('pintinho', 0.4388863146305084), ('ovinho', 0.4304274618625641), ('pato', 0.41991275548934937), ('passarinho', 0.4116422235965729), ('papagaio', 0.4096183180809021), ('gansa', 0.4071415364742279), ('galinho', 0.40216919779777527), ('periquito', 0.4010128676891327)]\n",
      "\n",
      "\n",
      "Original word: machine\n",
      "Top 10 most similar words in pt\n",
      "[('máquina', 0.5597299337387085), ('maquina', 0.5294204354286194), ('máquinas', 0.4447365999221802), ('amáquina', 0.43033474683761597), ('maquinas', 0.4290095865726471), ('maquininha', 0.4235002100467682), ('maquinha', 0.41368529200553894), ('Krups', 0.407959520816803), ('damáquina', 0.40678489208221436), ('máquinha', 0.4020742177963257)]\n",
      "\n",
      "\n",
      "Original word: headphones\n",
      "Top 10 most similar words in pt\n",
      "[('headphones', 0.5475060939788818), ('in-ear', 0.5342842936515808), ('headfone', 0.5255201458930969), ('auscultadores', 0.5116819143295288), ('intra-auricular', 0.5029729604721069), ('auriculares', 0.4876173436641693), ('smarphone', 0.48024362325668335), ('I-pod', 0.4757644534111023), ('earphone', 0.47469818592071533), ('on-ear', 0.47313401103019714)]\n",
      "\n",
      "\n"
     ]
    }
   ],
   "source": [
    "translate(EN_WORD_LIST, 'pt', 'en')"
   ]
  },
  {
   "cell_type": "markdown",
   "id": "246e534a",
   "metadata": {},
   "source": [
    "## 4 - Translating words using intermediate languages"
   ]
  },
  {
   "cell_type": "markdown",
   "id": "9ba21e7c",
   "metadata": {},
   "source": [
    "### Getting the most similar word in each language it pass.\n",
    "Most expensive (uses most_similar multiple times) and try to aproximate a word each time."
   ]
  },
  {
   "cell_type": "code",
   "execution_count": 41,
   "id": "f0596b84",
   "metadata": {},
   "outputs": [],
   "source": [
    "def intermediate_most_similar_word(word_list, target_lang, origin_lang, intermediate_lang):\n",
    "    '''\n",
    "    Translate one word from one language to another passing by an intermediate language.\n",
    "    In this function, we use the result of the most similar word of the intermediate language to make the next translation.\n",
    "\n",
    "    Params:\n",
    "    - word_list: list of example words.\n",
    "    - target_lang: language you wish to know the translation\n",
    "    - origin_lang: language in which the words in word_list are written\n",
    "    - intermediate_lang: intermediate language which translation between origin_lang and target_lang passes by\n",
    "\n",
    "    Example of usage:\n",
    "    intermediate_most_similar_word(PT_WORD_LIST, 'es', 'pt', 'en')\n",
    "    '''\n",
    "    for word in word_list:\n",
    "        print(\"Original word:\", word)\n",
    "        \n",
    "        intermediate_word = MODELS[intermediate_lang].most_similar(TRANSLATIONS[origin_lang][intermediate_lang] @ MODELS[origin_lang][word])[0][0]\n",
    "        print(\"Most similar word according to intermediate language:\", intermediate_word)\n",
    "\n",
    "        translated_language = MODELS[target_lang].most_similar(TRANSLATIONS[intermediate_lang][target_lang] @ MODELS[intermediate_lang][intermediate_word])\n",
    "        print(\"Top 10 most similar words in target language passing by the intermediate language:\")\n",
    "        print(translated_language)\n",
    "        \n",
    "        print(\"\\n\")"
   ]
  },
  {
   "cell_type": "markdown",
   "id": "9e5f3c6e",
   "metadata": {},
   "source": [
    "- Portuguese -> English -> Spanish"
   ]
  },
  {
   "cell_type": "code",
   "execution_count": 42,
   "id": "d1c8b0c7",
   "metadata": {},
   "outputs": [
    {
     "name": "stdout",
     "output_type": "stream",
     "text": [
      "Original word: sapato\n",
      "Most similar word according to intermediate language: shoes\n",
      "Top 10 most similar words in target language passing by the intermediate language:\n",
      "[('zapatos', 0.6464644074440002), ('zapatillas', 0.6166307926177979), ('sandalias', 0.5769971013069153), ('botas', 0.5539029240608215), ('calzado', 0.551113486289978), ('zapato', 0.5218526721000671), ('chanclas', 0.5212720036506653), ('calzarán', 0.5174567103385925), ('chancletas', 0.5101444721221924), ('calcetines', 0.5067110657691956)]\n",
      "\n",
      "\n",
      "Original word: flor\n",
      "Most similar word according to intermediate language: flower\n",
      "Top 10 most similar words in target language passing by the intermediate language:\n",
      "[('flor', 0.5974904894828796), ('peonía', 0.5804789066314697), ('flores', 0.5449814796447754), ('peonías', 0.5210880637168884), ('floral', 0.49466392397880554), ('anturio', 0.4922579824924469), ('crisantemo', 0.4872678816318512), ('camelia', 0.47671687602996826), ('flores.La', 0.47307777404785156), ('gerbera', 0.4728681743144989)]\n",
      "\n",
      "\n",
      "Original word: aniversário\n",
      "Most similar word according to intermediate language: birthday\n",
      "Top 10 most similar words in target language passing by the intermediate language:\n",
      "[('cumpleaños', 0.7605622410774231), ('cumpleaño', 0.6504004597663879), ('cumpleños', 0.5819917321205139), ('cumpleaños.El', 0.5789167284965515), ('Cumpleaños', 0.5748640894889832), ('cumpeaños', 0.572516918182373), ('cumpleañero', 0.5690513849258423), ('cumpleaños.Y', 0.5607236623764038), ('cumpleaños.En', 0.5477907657623291), ('cumpleñaos', 0.5442656874656677)]\n",
      "\n",
      "\n",
      "Original word: saudades\n",
      "Most similar word according to intermediate language: memories.So\n",
      "Top 10 most similar words in target language passing by the intermediate language:\n",
      "[('recuerdos', 0.5069612264633179), ('recuerdos.Y', 0.45639243721961975), ('recuerdos.En', 0.44077301025390625), ('añoranzas', 0.4395352303981781), ('Gratos', 0.4357491135597229), ('recuerdos.La', 0.4351595938205719), ('recuerdos.Un', 0.4291515052318573), ('memoria.Y', 0.4289899170398712), ('recuerdos.El', 0.4282625615596771), ('nostalgias', 0.4201315939426422)]\n",
      "\n",
      "\n"
     ]
    }
   ],
   "source": [
    "intermediate_most_similar_word(PT_WORD_LIST, 'es', 'pt', 'en')"
   ]
  },
  {
   "cell_type": "markdown",
   "id": "74244ca1",
   "metadata": {},
   "source": [
    "- Spanish -> Portuguese -> English"
   ]
  },
  {
   "cell_type": "code",
   "execution_count": 44,
   "id": "a0073786",
   "metadata": {},
   "outputs": [
    {
     "name": "stdout",
     "output_type": "stream",
     "text": [
      "Original word: hola\n",
      "Most similar word according to intermediate language: olá\n",
      "Top 10 most similar words in target language passing by the intermediate language:\n",
      "[('hi', 0.814129650592804), ('hello', 0.7390920519828796), ('Hi', 0.618787944316864), ('hellow', 0.6097189784049988), ('Hey', 0.6047798991203308), ('Hello', 0.6047042608261108), ('hello.', 0.6040636301040649), ('helllo', 0.5991599559783936), ('hi.', 0.5966516733169556), ('hey', 0.5912631154060364)]\n",
      "\n",
      "\n",
      "Original word: sí\n",
      "Most similar word according to intermediate language: só\n",
      "Top 10 most similar words in target language passing by the intermediate language:\n",
      "[('if', 0.6420409679412842), ('it', 0.5627325773239136), ('So', 0.5312941670417786), ('so', 0.5246899724006653), ('is', 0.5088378190994263), ('me', 0.5050639510154724), ('If', 0.5030770301818848), ('I', 0.5029612183570862), ('But', 0.4980606436729431), ('there', 0.49335208535194397)]\n",
      "\n",
      "\n",
      "Original word: computadora\n",
      "Most similar word according to intermediate language: computador\n",
      "Top 10 most similar words in target language passing by the intermediate language:\n",
      "[('computer', 0.648999810218811), ('comupter', 0.5285875797271729), ('computers', 0.514596164226532), ('compuer', 0.5092604756355286), ('laptop', 0.5062888860702515), ('lap-top', 0.49425897002220154), ('comptuer', 0.4896749258041382), ('computer.But', 0.4866974651813507), ('non-computer', 0.46767300367355347), ('computer.I', 0.4592781066894531)]\n",
      "\n",
      "\n",
      "Original word: país\n",
      "Most similar word according to intermediate language: país\n",
      "Top 10 most similar words in target language passing by the intermediate language:\n",
      "[('country', 0.5814357995986938), ('world', 0.5184028148651123), ('country.This', 0.4772239625453949), ('nation', 0.4657474458217621), ('country.So', 0.4614786207675934), ('country.As', 0.457890123128891), ('countries', 0.4532788395881653), ('country.It', 0.45001810789108276), ('coutry', 0.4486753046512604), ('country.Even', 0.44612181186676025)]\n",
      "\n",
      "\n"
     ]
    }
   ],
   "source": [
    "intermediate_most_similar_word(ES_WORD_LIST, 'en', 'es', 'pt')"
   ]
  },
  {
   "cell_type": "markdown",
   "id": "9842db97",
   "metadata": {},
   "source": [
    "- English -> Spanish -> Portuguese"
   ]
  },
  {
   "cell_type": "code",
   "execution_count": 45,
   "id": "7fc536b1",
   "metadata": {},
   "outputs": [
    {
     "name": "stdout",
     "output_type": "stream",
     "text": [
      "Original word: specification\n",
      "Most similar word according to intermediate language: especificación\n",
      "Top 10 most similar words in target language passing by the intermediate language:\n",
      "[('especificação', 0.6213092803955078), ('defnição', 0.518690288066864), ('especiﬁcação', 0.5082621574401855), ('definição', 0.5008370280265808), ('descrição', 0.4939766228199005), ('especicação', 0.47761470079421997), ('diferenciabilidade', 0.4761696457862854), ('exaustividade', 0.47191688418388367), ('composicionalidade', 0.45916664600372314), ('especiﬁcações', 0.4575174152851105)]\n",
      "\n",
      "\n",
      "Original word: book\n",
      "Most similar word according to intermediate language: libro\n",
      "Top 10 most similar words in target language passing by the intermediate language:\n",
      "[('livro', 0.850339949131012), ('livrinho', 0.6726419925689697), ('livro.O', 0.6658133268356323), ('livroO', 0.6547927856445312), ('olivro', 0.646285355091095), ('livro.E', 0.639930248260498), ('livro.É', 0.6361121535301208), ('livro-', 0.6252992153167725), ('umlivro', 0.6223813891410828), ('livro.Este', 0.6221187710762024)]\n",
      "\n",
      "\n",
      "Original word: duckling\n",
      "Most similar word according to intermediate language: cerdito\n",
      "Top 10 most similar words in target language passing by the intermediate language:\n",
      "[('porquinho', 0.538060188293457), ('gato', 0.5022563338279724), ('coelho', 0.4930233061313629), ('porquinho-mealheiro', 0.4875517785549164), ('lagartinho', 0.48733532428741455), ('ratinho', 0.48583754897117615), ('gatinho', 0.4845699369907379), ('bichinho', 0.47845664620399475), ('coelhito', 0.4735463261604309), ('peruzinho', 0.4703540503978729)]\n",
      "\n",
      "\n",
      "Original word: machine\n",
      "Most similar word according to intermediate language: maquina\n",
      "Top 10 most similar words in target language passing by the intermediate language:\n",
      "[('maquina', 0.6809044480323792), ('máquina', 0.6699527502059937), ('amáquina', 0.6106871962547302), ('maquinha', 0.5705822706222534), ('damáquina', 0.5698190331459045), ('umamáquina', 0.5557281970977783), ('máquinha', 0.5520988702774048), ('mquina', 0.5494014620780945), ('máquia', 0.5322803854942322), ('maquinas', 0.5173248648643494)]\n",
      "\n",
      "\n",
      "Original word: headphones\n",
      "Most similar word according to intermediate language: auriculares\n",
      "Top 10 most similar words in target language passing by the intermediate language:\n",
      "[('headphones', 0.6157894730567932), ('auscultadores', 0.6090726256370544), ('auriculares', 0.5450807809829712), ('headfone', 0.5293526649475098), ('intra-auriculares', 0.5292014479637146), ('headsets', 0.5242412090301514), ('head-phones', 0.5215595364570618), ('headfones', 0.5128469467163086), ('IPods', 0.4934269189834595), ('in-ear', 0.49222779273986816)]\n",
      "\n",
      "\n"
     ]
    }
   ],
   "source": [
    "intermediate_most_similar_word(EN_WORD_LIST, 'pt', 'en', 'es')"
   ]
  },
  {
   "cell_type": "markdown",
   "id": "340e25f7",
   "metadata": {},
   "source": [
    "### Using the vector transformed to each subspace.\n",
    "Uses most_similar and try to approximate the word just one time."
   ]
  },
  {
   "cell_type": "code",
   "execution_count": 46,
   "id": "fd051d79",
   "metadata": {},
   "outputs": [],
   "source": [
    "def intermediate_most_similar_vector(word_list, target_lang, origin_lang, intermediate_lang):\n",
    "    '''\n",
    "    Translate one word from one language to another passing by an intermediate language.\n",
    "    In this function, we use the result of the vector of the translation passing by the intermediate language to make the next translation.\n",
    "\n",
    "    Params:\n",
    "    - word_list: list of example words.\n",
    "    - target_lang: language you wish to know the translation\n",
    "    - origin_lang: language in which the words in word_list are written\n",
    "    - intermediate_lang: intermediate language which translation between origin_lang and target_lang passes by\n",
    "\n",
    "    Example of usage:\n",
    "    intermediate_most_similar_vector(PT_WORD_LIST, 'es', 'pt', 'en')\n",
    "    '''\n",
    "    for word in word_list:\n",
    "        print(\"Original word:\", word)\n",
    "\n",
    "        intermediate_vector = TRANSLATIONS[origin_lang][intermediate_lang] @ MODELS[origin_lang][word]\n",
    "        translated_vector = MODELS[target_lang].most_similar(TRANSLATIONS[intermediate_lang][target_lang] @ intermediate_vector)\n",
    "        print(\"Top 10 most similar words in target language passing by the intermediate language:\")\n",
    "        print(translated_vector)\n",
    "\n",
    "        print(\"\\n\")"
   ]
  },
  {
   "cell_type": "markdown",
   "id": "2a173201",
   "metadata": {},
   "source": [
    "- Portuguese -> English -> Spanish"
   ]
  },
  {
   "cell_type": "code",
   "execution_count": 47,
   "id": "161a58ff",
   "metadata": {},
   "outputs": [
    {
     "name": "stdout",
     "output_type": "stream",
     "text": [
      "Original word: sapato\n",
      "Top 10 most similar words in target language passing by the intermediate language:\n",
      "[('zapato', 0.5569401383399963), ('zapatos', 0.5283559560775757), ('tacones', 0.49460408091545105), ('vestido', 0.4847036302089691), ('sapato', 0.4791000187397003), ('sapatos', 0.46534422039985657), ('pantalón', 0.46260935068130493), ('collarcito', 0.4543265402317047), ('tacón', 0.4519156813621521), ('pantalones', 0.45182451605796814)]\n",
      "\n",
      "\n",
      "Original word: flor\n",
      "Top 10 most similar words in target language passing by the intermediate language:\n",
      "[('flor', 0.5727273225784302), ('peonia', 0.498028963804245), ('peonía', 0.4919746220111847), ('florecita', 0.48463183641433716), ('rosa', 0.4773949682712555), ('florecilla', 0.4752405881881714), ('flor.Y', 0.4716757535934448), ('rosaY', 0.4682154655456543), ('rosaa', 0.46463143825531006), ('azalea', 0.4611826539039612)]\n",
      "\n",
      "\n",
      "Original word: aniversário\n",
      "Top 10 most similar words in target language passing by the intermediate language:\n",
      "[('cumpleaños', 0.6476301550865173), ('cumpleaño', 0.6001196503639221), ('cumpleños', 0.5466558933258057), ('cumpleaños.El', 0.5311540961265564), ('cumpleaños.En', 0.5147355198860168), ('cumpeaños', 0.4955201745033264), ('aniversario', 0.4934757947921753), ('cumpleanos', 0.48804065585136414), ('cumpleañero', 0.4873219132423401), ('cumpleñaos', 0.4855706989765167)]\n",
      "\n",
      "\n",
      "Original word: saudades\n",
      "Top 10 most similar words in target language passing by the intermediate language:\n",
      "[('morriñas', 0.47367650270462036), ('añorar', 0.4645899534225464), ('añoro', 0.4526515007019043), ('extrañamos', 0.4451638460159302), ('añoranza', 0.44479629397392273), ('nostálgia', 0.4394629895687103), ('fatiguitas', 0.4392240345478058), ('nostalgia', 0.43839192390441895), ('añoranzas', 0.4283502995967865), ('añoraré', 0.4271792471408844)]\n",
      "\n",
      "\n"
     ]
    }
   ],
   "source": [
    "intermediate_most_similar_vector(PT_WORD_LIST, 'es', 'pt', 'en')"
   ]
  },
  {
   "cell_type": "markdown",
   "id": "bbc0af35",
   "metadata": {},
   "source": [
    "- Spanish -> Portuguese -> English"
   ]
  },
  {
   "cell_type": "code",
   "execution_count": 48,
   "id": "2788b6c1",
   "metadata": {},
   "outputs": [
    {
     "name": "stdout",
     "output_type": "stream",
     "text": [
      "Original word: hola\n",
      "Top 10 most similar words in target language passing by the intermediate language:\n",
      "[('hi', 0.7485652565956116), ('hello', 0.6746777892112732), ('Hey', 0.5734724998474121), ('Hello', 0.5732272863388062), ('hey', 0.571393609046936), ('helllo', 0.5682624578475952), ('hellow', 0.5636361837387085), ('hi.', 0.5567192435264587), ('hello.', 0.554912805557251), ('hiya', 0.5387632846832275)]\n",
      "\n",
      "\n",
      "Original word: sí\n",
      "Top 10 most similar words in target language passing by the intermediate language:\n",
      "[('if', 0.5431066751480103), ('is', 0.497404545545578), ('it', 0.4913477599620819), ('But', 0.47263434529304504), ('ok', 0.4664313495159149), ('so', 0.46200358867645264), ('but', 0.4593670070171356), ('that', 0.45623454451560974), ('So', 0.44092997908592224), ('he', 0.4334471523761749)]\n",
      "\n",
      "\n",
      "Original word: computadora\n",
      "Top 10 most similar words in target language passing by the intermediate language:\n",
      "[('computer', 0.5079346895217896), ('comupter', 0.4528789818286896), ('lap-top', 0.4461057186126709), ('compuer', 0.4433574974536896), ('computers', 0.4366714656352997), ('comptuer', 0.4263383150100708), ('computer.But', 0.424167662858963), ('laptop', 0.4154345691204071), ('non-computer', 0.40983858704566956), ('computer.And', 0.4093545377254486)]\n",
      "\n",
      "\n",
      "Original word: país\n",
      "Top 10 most similar words in target language passing by the intermediate language:\n",
      "[('country', 0.5822017788887024), ('world', 0.5292465090751648), ('country.So', 0.48025426268577576), ('countries', 0.46149322390556335), ('nation', 0.46140047907829285), ('country.It', 0.4586729407310486), ('country.Now', 0.45660167932510376), ('country.What', 0.44673094153404236), ('continent', 0.445723295211792), ('country.This', 0.44131430983543396)]\n",
      "\n",
      "\n"
     ]
    }
   ],
   "source": [
    "intermediate_most_similar_vector(ES_WORD_LIST, 'en', 'es', 'pt')"
   ]
  },
  {
   "cell_type": "markdown",
   "id": "e3e0fd3f",
   "metadata": {},
   "source": [
    "- English -> Spanish -> Portuguese"
   ]
  },
  {
   "cell_type": "code",
   "execution_count": 49,
   "id": "d9859e6d",
   "metadata": {},
   "outputs": [
    {
     "name": "stdout",
     "output_type": "stream",
     "text": [
      "Original word: specification\n",
      "Top 10 most similar words in target language passing by the intermediate language:\n",
      "[('especificação', 0.4690665602684021), ('ABNT.', 0.39077940583229065), ('especificaçao', 0.3870176672935486), ('especifcado', 0.3863670527935028), ('certiﬁcação', 0.3830704987049103), ('especiﬁcação', 0.369947224855423), ('ante-projeto', 0.3688240051269531), ('defnição', 0.3673538267612457), ('certiﬁcado', 0.36712342500686646), ('normatizada', 0.3665965497493744)]\n",
      "\n",
      "\n",
      "Original word: book\n",
      "Top 10 most similar words in target language passing by the intermediate language:\n",
      "[('livro', 0.6548709273338318), ('livrinho', 0.5630871057510376), ('livroO', 0.5443949103355408), ('livro.O', 0.5260764956474304), ('olivro', 0.5172587037086487), ('umlivro', 0.5164043307304382), ('livroA', 0.515987753868103), ('livrode', 0.5135417580604553), ('livros', 0.5123415589332581), ('leitura', 0.5048522353172302)]\n",
      "\n",
      "\n",
      "Original word: duckling\n",
      "Top 10 most similar words in target language passing by the intermediate language:\n",
      "[('patinho', 0.4423428177833557), ('franguinho', 0.40871551632881165), ('ovinho', 0.4070540964603424), ('salsichinha', 0.40008091926574707), ('galinho', 0.3894249498844147), ('frango', 0.38634157180786133), ('lagartinho', 0.3820916414260864), ('filhote', 0.3808998763561249), ('bunny', 0.37969064712524414), ('pato', 0.3793907165527344)]\n",
      "\n",
      "\n",
      "Original word: machine\n",
      "Top 10 most similar words in target language passing by the intermediate language:\n",
      "[('máquina', 0.5294610261917114), ('maquina', 0.4835653603076935), ('amáquina', 0.45231860876083374), ('máquinas', 0.4440629780292511), ('maquinário', 0.42261144518852234), ('maquinha', 0.41912490129470825), ('maquinaria', 0.4179574251174927), ('machine', 0.41722166538238525), ('maquinas', 0.41637101769447327), ('damáquina', 0.4129132330417633)]\n",
      "\n",
      "\n",
      "Original word: headphones\n",
      "Top 10 most similar words in target language passing by the intermediate language:\n",
      "[('headphones', 0.5545970797538757), ('auscultadores', 0.5133137106895447), ('headfone', 0.507205605506897), ('auriculares', 0.4848848283290863), ('in-ear', 0.47619301080703735), ('i-Pod', 0.47393450140953064), ('intra-auricular', 0.4690975248813629), ('I-pod', 0.4688979983329773), ('som', 0.4642973244190216), ('on-ear', 0.4622325599193573)]\n",
      "\n",
      "\n"
     ]
    }
   ],
   "source": [
    "intermediate_most_similar_vector(EN_WORD_LIST, 'pt', 'en', 'es')"
   ]
  },
  {
   "cell_type": "markdown",
   "id": "99f3cca3",
   "metadata": {},
   "source": [
    "## 5 - Evaluate"
   ]
  },
  {
   "cell_type": "markdown",
   "id": "941d940f",
   "metadata": {},
   "source": []
  }
 ],
 "metadata": {
  "interpreter": {
   "hash": "cf92aa13fedf815d5c8dd192b8d835913fde3e8bc926b2a0ad6cc74ef2ba3ca2"
  },
  "kernelspec": {
   "display_name": "Python 3.9.9 64-bit",
   "language": "python",
   "name": "python3"
  },
  "language_info": {
   "codemirror_mode": {
    "name": "ipython",
    "version": 3
   },
   "file_extension": ".py",
   "mimetype": "text/x-python",
   "name": "python",
   "nbconvert_exporter": "python",
   "pygments_lexer": "ipython3",
   "version": "3.9.9"
  }
 },
 "nbformat": 4,
 "nbformat_minor": 5
}
