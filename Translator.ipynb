{
 "cells": [
  {
   "cell_type": "markdown",
   "id": "253770a5",
   "metadata": {},
   "source": [
    "# Word Embedding Translator"
   ]
  },
  {
   "cell_type": "markdown",
   "id": "2e015f1b",
   "metadata": {},
   "source": [
    "## Libraries"
   ]
  },
  {
   "cell_type": "code",
   "execution_count": 1,
   "id": "7230eb8f",
   "metadata": {},
   "outputs": [],
   "source": [
    "import numpy as np\n",
    "import pandas as pd\n",
    "import itertools as it\n",
    "\n",
    "from gensim.models import KeyedVectors\n",
    "\n",
    "from sklearn.metrics.pairwise import cosine_similarity"
   ]
  },
  {
   "cell_type": "markdown",
   "id": "a36ae151",
   "metadata": {},
   "source": [
    "## 1 - Loading data\n",
    "Loading the models and sentences used.\n",
    "- Models: https://fasttext.cc/docs/en/crawl-vectors.html\n",
    "- Sentences: https://github.com/alexa/massive"
   ]
  },
  {
   "cell_type": "code",
   "execution_count": 2,
   "id": "f117e715",
   "metadata": {},
   "outputs": [],
   "source": [
    "def load_files(model_path, sentences_path, limit = None):\n",
    "    '''\n",
    "    Load models from FastText folder and sentences from Amazon Massive folder.\n",
    "    \n",
    "    Params:\n",
    "    - model_path: path to the folder containing all models used, i.e., FastText\n",
    "    - sentences_path: path to the folder containing all sentences used, i.e., Amazon_Massive\n",
    "    - limit: define a limit in case your have low computer power, e.g., 5000\n",
    "    \n",
    "    Return:\n",
    "    Tuple containing the language model and its corresponding sentences\n",
    "    '''\n",
    "\n",
    "    model = KeyedVectors.load_word2vec_format(model_path, unicode_errors = 'replace', limit = limit)\n",
    "    sentences = pd.read_json(sentences_path, lines = True)['utt']\n",
    "    \n",
    "    return model, sentences"
   ]
  },
  {
   "cell_type": "markdown",
   "id": "3ab38a6d",
   "metadata": {},
   "source": [
    "Defining data path."
   ]
  },
  {
   "cell_type": "code",
   "execution_count": 3,
   "id": "d4f7b818",
   "metadata": {},
   "outputs": [],
   "source": [
    "FASTTEXT_PATH = 'Datasets/FastText/'\n",
    "MASSIVE_PATH = 'Datasets/Amazon_Massive/'"
   ]
  },
  {
   "cell_type": "code",
   "execution_count": 4,
   "id": "553117db",
   "metadata": {},
   "outputs": [],
   "source": [
    "PATHS = {\n",
    "    'en': [ FASTTEXT_PATH + 'cc.en.300.vec', MASSIVE_PATH + 'en-US.jsonl' ],\n",
    "    'pt': [ FASTTEXT_PATH + 'cc.pt.300.vec', MASSIVE_PATH + 'pt-PT.jsonl' ],\n",
    "    'es': [ FASTTEXT_PATH + 'cc.es.300.vec', MASSIVE_PATH + 'es-ES.jsonl' ]\n",
    "}\n",
    "\n",
    "LANGUAGES = PATHS.keys()"
   ]
  },
  {
   "cell_type": "markdown",
   "id": "c564e517",
   "metadata": {},
   "source": [
    "**Note**: the cell below takes approximately 5 to 6 minutes per model."
   ]
  },
  {
   "cell_type": "code",
   "execution_count": 5,
   "id": "08bf0f8b",
   "metadata": {},
   "outputs": [
    {
     "name": "stdout",
     "output_type": "stream",
     "text": [
      "Loading Datasets/FastText/cc.en.300.vec\n",
      "Finished loading Datasets/FastText/cc.en.300.vec\n",
      "Loading Datasets/FastText/cc.pt.300.vec\n",
      "Finished loading Datasets/FastText/cc.pt.300.vec\n",
      "Loading Datasets/FastText/cc.es.300.vec\n",
      "Finished loading Datasets/FastText/cc.es.300.vec\n",
      "\n",
      "All models and sentences are now loaded!\n"
     ]
    }
   ],
   "source": [
    "MODELS, SENTENCES = {}, {}\n",
    "\n",
    "for language, value in PATHS.items():\n",
    "    model = value[0]\n",
    "    sentences = value[1]\n",
    "\n",
    "    print(\"Loading\", model)\n",
    "    MODELS[language], SENTENCES[language] = load_files(model, sentences)\n",
    "    print(\"Finished loading\", model)\n",
    "\n",
    "print(\"\\nAll models and sentences are now loaded!\")"
   ]
  },
  {
   "cell_type": "markdown",
   "id": "5e14fb99",
   "metadata": {},
   "source": [
    "## 2 - Preparing data"
   ]
  },
  {
   "cell_type": "code",
   "execution_count": 6,
   "id": "9bceeb1a",
   "metadata": {},
   "outputs": [],
   "source": [
    "SAMPLES = { key: [] for key in LANGUAGES }"
   ]
  },
  {
   "cell_type": "code",
   "execution_count": 7,
   "id": "e67d11b5",
   "metadata": {},
   "outputs": [],
   "source": [
    "# Since all sentence files have the same length, we chose one at random for the range function.\n",
    "# We prove this in the cell below\n",
    "for idx in range(len(SENTENCES['pt'])):\n",
    "    \n",
    "    actual_sentence = { key: [] for key in LANGUAGES}\n",
    "    \n",
    "    try:\n",
    "        for lang, sent in SENTENCES.items():\n",
    "            for word in sent[idx].split(' '):\n",
    "                actual_sentence[lang].append(MODELS[lang][word])\n",
    "\n",
    "    except KeyError:\n",
    "        continue\n",
    "    \n",
    "    for key, value in actual_sentence.items():\n",
    "        SAMPLES[key].append([SENTENCES[key][idx], sum(value)])"
   ]
  },
  {
   "cell_type": "code",
   "execution_count": 8,
   "id": "e5d43f97",
   "metadata": {},
   "outputs": [
    {
     "name": "stdout",
     "output_type": "stream",
     "text": [
      "Total sentences in en file: 16521 -> Model en samples: 15055 (91.13%)\n",
      "Total sentences in pt file: 16521 -> Model pt samples: 15055 (91.13%)\n",
      "Total sentences in es file: 16521 -> Model es samples: 15055 (91.13%)\n"
     ]
    }
   ],
   "source": [
    "for key in SENTENCES:\n",
    "    SIZE_SAMPLES = len(SAMPLES[key])\n",
    "    print(f'Total sentences in { key } file: { len(SENTENCES[key]) } -> Model { key } samples: { len(SAMPLES[key]) } ({ len(SAMPLES[key]) / len(SENTENCES[key]) * 100:.2f}%)')"
   ]
  },
  {
   "cell_type": "markdown",
   "id": "2aefab70",
   "metadata": {},
   "source": [
    "Splitting into train and test."
   ]
  },
  {
   "cell_type": "code",
   "execution_count": 9,
   "id": "1fac669b",
   "metadata": {},
   "outputs": [],
   "source": [
    "SPLIT_RATE = int(SIZE_SAMPLES * 0.7)\n",
    "\n",
    "TRAIN_SET = { key: SAMPLES[key][:SPLIT_RATE] for key in LANGUAGES }\n",
    "TEST_SET = { key: SAMPLES[key][SPLIT_RATE:] for key in LANGUAGES }"
   ]
  },
  {
   "cell_type": "markdown",
   "id": "8cf7d5e4",
   "metadata": {},
   "source": [
    "## 3 - Translating words"
   ]
  },
  {
   "cell_type": "code",
   "execution_count": 10,
   "id": "1711e3f9",
   "metadata": {},
   "outputs": [],
   "source": [
    "TRANSLATIONS = { key: { lang: None for lang in LANGUAGES if lang != key } for key in LANGUAGES }"
   ]
  },
  {
   "cell_type": "code",
   "execution_count": 11,
   "id": "df5bc3de",
   "metadata": {},
   "outputs": [],
   "source": [
    "for origin, target in it.permutations(LANGUAGES, 2): \n",
    "\n",
    "    samples_origin = [sample[1] for sample in TRAIN_SET[origin]]\n",
    "    samples_target = [sample[1] for sample in TRAIN_SET[target]]\n",
    "\n",
    "    U, Sig, Vt = np.linalg.svd(np.transpose(samples_origin) @ samples_target)\n",
    "    \n",
    "    TRANSLATOR = np.transpose(Vt) @ np.transpose(U)\n",
    "    TRANSLATIONS[origin][target] = TRANSLATOR"
   ]
  },
  {
   "cell_type": "markdown",
   "id": "b4325e13",
   "metadata": {},
   "source": [
    "### List of examples words\n",
    "**Note**: only single words can be written, i.e., compound words like \"washing machine\" will result in Error"
   ]
  },
  {
   "cell_type": "markdown",
   "id": "0aed3f9c",
   "metadata": {},
   "source": [
    "- English"
   ]
  },
  {
   "cell_type": "code",
   "execution_count": 12,
   "id": "267b75aa",
   "metadata": {},
   "outputs": [],
   "source": [
    "EN_WORD_LIST = [\n",
    "    'specification',\n",
    "    'book',\n",
    "    'duckling',\n",
    "    'machine',\n",
    "    'headphones'\n",
    "]"
   ]
  },
  {
   "cell_type": "markdown",
   "id": "e9107823",
   "metadata": {},
   "source": [
    "- Portuguese"
   ]
  },
  {
   "cell_type": "code",
   "execution_count": 13,
   "id": "ed70d7ec",
   "metadata": {},
   "outputs": [],
   "source": [
    "PT_WORD_LIST = [\n",
    "    'sapato',\n",
    "    'flor',\n",
    "    'aniversário',\n",
    "    'saudades',\n",
    "]"
   ]
  },
  {
   "cell_type": "markdown",
   "id": "04930bcf",
   "metadata": {},
   "source": [
    "- Spanish"
   ]
  },
  {
   "cell_type": "code",
   "execution_count": 14,
   "id": "f4f14161",
   "metadata": {},
   "outputs": [],
   "source": [
    "ES_WORD_LIST = [\n",
    "    'hola',\n",
    "    'sí',\n",
    "    'computadora',\n",
    "    'país'\n",
    "]"
   ]
  },
  {
   "cell_type": "code",
   "execution_count": 15,
   "id": "1ad3f141",
   "metadata": {},
   "outputs": [],
   "source": [
    "def translate(word_list, origin_lang, target_lang):\n",
    "    '''\n",
    "    Function to translate one word from one language to another.\n",
    "\n",
    "    Params:\n",
    "    - word_list: list of example words.\n",
    "    - origin_lang: language in which the words in word_list are written\n",
    "    - target_lang: language you wish to know the translation\n",
    "\n",
    "    Example of usage:\n",
    "    translate(PT_WORD_LIST, 'es', 'pt')\n",
    "    '''\n",
    "    \n",
    "    for word in word_list:\n",
    "        print(\"Original word:\", word)\n",
    "        print(\"Top 10 most similar words in\", target_lang)\n",
    "        print(MODELS[target_lang].most_similar(TRANSLATIONS[origin_lang][target_lang] @ MODELS[origin_lang][word]))\n",
    "        print(\"\\n\")"
   ]
  },
  {
   "cell_type": "markdown",
   "id": "b18fa53d",
   "metadata": {},
   "source": [
    "### Examples"
   ]
  },
  {
   "cell_type": "markdown",
   "id": "91ff3272",
   "metadata": {},
   "source": [
    "- Portuguese -> Spanish"
   ]
  },
  {
   "cell_type": "code",
   "execution_count": 16,
   "id": "a6c2d369",
   "metadata": {},
   "outputs": [
    {
     "name": "stdout",
     "output_type": "stream",
     "text": [
      "Original word: sapato\n",
      "Top 10 most similar words in es\n",
      "[('zapato', 0.6286161541938782), ('zapatos', 0.5265895128250122), ('abriguito', 0.5155419707298279), ('bolso', 0.5067410469055176), ('vestido', 0.49005553126335144), ('vestidito', 0.485481858253479), ('sapato', 0.48409122228622437), ('calzado', 0.48325690627098083), ('zapatito', 0.4791560173034668), ('calcetin', 0.4784621000289917)]\n",
      "\n",
      "\n",
      "Original word: flor\n",
      "Top 10 most similar words in es\n",
      "[('flor', 0.5606870055198669), ('florecilla', 0.4921896159648895), ('flores.La', 0.4749460220336914), ('peonia', 0.4661574959754944), ('gardenia', 0.4601023197174072), ('macetita', 0.45834779739379883), ('camelia', 0.45742037892341614), ('plantita', 0.4572441875934601), ('flor.Se', 0.45594120025634766), ('rosaY', 0.4555289149284363)]\n",
      "\n",
      "\n",
      "Original word: aniversário\n",
      "Top 10 most similar words in es\n",
      "[('cumpleaños', 0.7255707383155823), ('cumpleaño', 0.643695056438446), ('cumpleños', 0.6012689471244812), ('aniversario', 0.5929712653160095), ('Cumpleaños', 0.5775623917579651), ('cumpleaños.El', 0.567138671875), ('cumpeaños', 0.5636301636695862), ('cumpleñaos', 0.5358660817146301), ('cumpleanos', 0.5338306427001953), ('cumplemes', 0.5236632227897644)]\n",
      "\n",
      "\n",
      "Original word: saudades\n",
      "Top 10 most similar words in es\n",
      "[('saudades', 0.4903567135334015), ('nostálgia', 0.4712108075618744), ('tardes', 0.46674439311027527), ('añoranza', 0.46358823776245117), ('ganas', 0.4633866250514984), ('nostalgias', 0.4586086869239807), ('añoranzas', 0.45125365257263184), ('nostálgicas', 0.4510352909564972), ('morriñas', 0.4482950270175934), ('nostalgia', 0.4464649260044098)]\n",
      "\n",
      "\n"
     ]
    }
   ],
   "source": [
    "translate(PT_WORD_LIST, 'pt', 'es')"
   ]
  },
  {
   "cell_type": "markdown",
   "id": "f29a05a8",
   "metadata": {},
   "source": [
    "- Portuguese -> English"
   ]
  },
  {
   "cell_type": "code",
   "execution_count": 17,
   "id": "0777db3a",
   "metadata": {},
   "outputs": [
    {
     "name": "stdout",
     "output_type": "stream",
     "text": [
      "Original word: sapato\n",
      "Top 10 most similar words in en\n",
      "[('shoes', 0.4436459243297577), ('shoe', 0.42799580097198486), ('dress', 0.41877812147140503), ('wear', 0.4135258197784424), ('handbag', 0.4094645082950592), ('shoes.', 0.407163143157959), ('high-heels', 0.40656235814094543), ('clothes', 0.4035921096801758), ('accesorize', 0.39818230271339417), ('shoes.It', 0.39019066095352173)]\n",
      "\n",
      "\n",
      "Original word: flor\n",
      "Top 10 most similar words in en\n",
      "[('flower', 0.4548163115978241), ('flowers', 0.44974949955940247), ('peony', 0.4329623281955719), ('flower.', 0.4295286536216736), ('roses', 0.4272284507751465), ('flowers.I', 0.4217860996723175), ('flowers.So', 0.4205949902534485), ('peonies', 0.41655293107032776), ('flower.I', 0.41433611512184143), ('flowers.And', 0.4127655625343323)]\n",
      "\n",
      "\n",
      "Original word: aniversário\n",
      "Top 10 most similar words in en\n",
      "[('birthday', 0.6571257710456848), ('brithday', 0.5902238488197327), ('anniversary', 0.572634756565094), ('half-birthday', 0.5639539361000061), ('birhday', 0.562120258808136), ('b-day', 0.5606736540794373), ('birthdays', 0.5555689334869385), ('B-day', 0.5518831610679626), ('bday', 0.5403607487678528), ('B-Day', 0.5324259996414185)]\n",
      "\n",
      "\n",
      "Original word: saudades\n",
      "Top 10 most similar words in en\n",
      "[('memories.So', 0.3724372982978821), ('memories.We', 0.37090861797332764), ('memories.I', 0.36739468574523926), ('reminisce', 0.3659135699272156), ('homesick', 0.3625752031803131), ('home-sick', 0.3594110310077667), ('forget.So', 0.35352879762649536), ('memmories', 0.3524461090564728), ('dears', 0.3511277735233307), ('friendsi', 0.3461558222770691)]\n",
      "\n",
      "\n"
     ]
    }
   ],
   "source": [
    "translate(PT_WORD_LIST, 'pt', 'en')"
   ]
  },
  {
   "cell_type": "markdown",
   "id": "42f82e71",
   "metadata": {},
   "source": [
    "- Spanish -> English"
   ]
  },
  {
   "cell_type": "code",
   "execution_count": 18,
   "id": "5c980d96",
   "metadata": {},
   "outputs": [
    {
     "name": "stdout",
     "output_type": "stream",
     "text": [
      "Original word: hola\n",
      "Top 10 most similar words in en\n",
      "[('hi', 0.7866629362106323), ('hello', 0.714066207408905), ('Hey', 0.5953907370567322), ('Hello', 0.5875275135040283), ('hello.', 0.5854873061180115), ('hellow', 0.5767785310745239), ('Hi', 0.5712718367576599), ('hey', 0.565157949924469), ('hiya', 0.5630933046340942), ('helllo', 0.5589232444763184)]\n",
      "\n",
      "\n",
      "Original word: sí\n",
      "Top 10 most similar words in en\n",
      "[('if', 0.542435884475708), ('it', 0.524268388748169), ('is', 0.520017683506012), ('so', 0.5113338232040405), ('So', 0.5012075901031494), ('But', 0.4950098693370819), ('.But', 0.4905444383621216), ('but', 0.4886103570461273), ('ok', 0.4771857261657715), ('he', 0.47088468074798584)]\n",
      "\n",
      "\n",
      "Original word: computadora\n",
      "Top 10 most similar words in en\n",
      "[('computer', 0.5488582253456116), ('computers', 0.507689356803894), ('compuer', 0.48534679412841797), ('lap-top', 0.47335493564605713), ('laptop', 0.46047163009643555), ('computer.But', 0.45473140478134155), ('comupter', 0.4428715705871582), ('super-computer', 0.44053757190704346), ('comptuer', 0.43977630138397217), ('comput', 0.4380631446838379)]\n",
      "\n",
      "\n",
      "Original word: país\n",
      "Top 10 most similar words in en\n",
      "[('country', 0.5676975846290588), ('world', 0.5018864274024963), ('nation', 0.4858676791191101), ('country.So', 0.4671628177165985), ('country.What', 0.4547605514526367), ('country.That', 0.45333582162857056), ('country.Now', 0.4441237449645996), ('country.This', 0.4344635307788849), ('country.It', 0.4215734302997589), ('country.But', 0.4203219711780548)]\n",
      "\n",
      "\n"
     ]
    }
   ],
   "source": [
    "translate(ES_WORD_LIST, 'es', 'en')"
   ]
  },
  {
   "cell_type": "markdown",
   "id": "4f6b2270",
   "metadata": {},
   "source": [
    "- English -> Portuguese"
   ]
  },
  {
   "cell_type": "code",
   "execution_count": 19,
   "id": "0c3dc7aa",
   "metadata": {},
   "outputs": [
    {
     "name": "stdout",
     "output_type": "stream",
     "text": [
      "Original word: specification\n",
      "Top 10 most similar words in pt\n",
      "[('especificação', 0.4581889808177948), ('especificaçao', 0.3417055606842041), ('especifcado', 0.3375580906867981), ('padrãode', 0.33236634731292725), ('especiﬁcação', 0.3270868957042694), ('especificação.', 0.3267023265361786), ('certiﬁcação', 0.3259454071521759), ('modelo-base', 0.3258982300758362), ('omodelo', 0.3231895864009857), ('defnição', 0.32275888323783875)]\n",
      "\n",
      "\n",
      "Original word: book\n",
      "Top 10 most similar words in pt\n",
      "[('livro', 0.710349977016449), ('livrinho', 0.5749400854110718), ('olivro', 0.5637545585632324), ('livroO', 0.5563918352127075), ('livroA', 0.5536922216415405), ('livro.O', 0.5533806681632996), ('umlivro', 0.5441447496414185), ('audiolivro', 0.5404638051986694), ('livo', 0.5332615375518799), ('leitura', 0.530726969242096)]\n",
      "\n",
      "\n",
      "Original word: duckling\n",
      "Top 10 most similar words in pt\n",
      "[('patinho', 0.42583686113357544), ('galinha', 0.40748563408851624), ('pintinho', 0.39733073115348816), ('ovinho', 0.39319077134132385), ('pintainho', 0.3864648938179016), ('patinhos', 0.3851366341114044), ('papagaio', 0.3832134008407593), ('periquito', 0.3772209584712982), ('toupeiro', 0.37550637125968933), ('pato', 0.374727338552475)]\n",
      "\n",
      "\n",
      "Original word: machine\n",
      "Top 10 most similar words in pt\n",
      "[('máquina', 0.5716404318809509), ('maquina', 0.5280583500862122), ('amáquina', 0.47257885336875916), ('máquinas', 0.45748370885849), ('maquininha', 0.4539821743965149), ('maquinha', 0.45036664605140686), ('damáquina', 0.4428544044494629), ('maquinas', 0.43976378440856934), ('máquinha', 0.4347156882286072), ('máquina.O', 0.4254339337348938)]\n",
      "\n",
      "\n",
      "Original word: headphones\n",
      "Top 10 most similar words in pt\n",
      "[('headphones', 0.5440324544906616), ('auscultadores', 0.525680422782898), ('headfone', 0.5081958770751953), ('auriculares', 0.5034686923027039), ('in-ear', 0.47447890043258667), ('headphone', 0.4712972939014435), ('intra-auricular', 0.4652033746242523), ('intra-auriculares', 0.4606723487377167), ('ipod', 0.46049073338508606), ('bluetooth', 0.4554845094680786)]\n",
      "\n",
      "\n"
     ]
    }
   ],
   "source": [
    "translate(EN_WORD_LIST, 'en', 'pt')"
   ]
  },
  {
   "cell_type": "markdown",
   "id": "246e534a",
   "metadata": {},
   "source": [
    "## 4 - Translating words using intermediate languages"
   ]
  },
  {
   "cell_type": "markdown",
   "id": "9ba21e7c",
   "metadata": {},
   "source": [
    "### Getting the most similar word in each language it pass.\n",
    "Most expensive (uses most_similar multiple times) and try to aproximate a word each time."
   ]
  },
  {
   "cell_type": "code",
   "execution_count": 20,
   "id": "f0596b84",
   "metadata": {},
   "outputs": [],
   "source": [
    "def intermediate_most_similar_word(word_list, origin_lang, intermediate_lang, target_lang):\n",
    "    '''\n",
    "    Translate one word from one language to another passing by an intermediate language.\n",
    "    In this function, we use the result of the most similar word of the intermediate language to make the next translation.\n",
    "\n",
    "    Params:\n",
    "    - word_list: list of example words.\n",
    "    - origin_lang: language in which the words in word_list are written\n",
    "    - intermediate_lang: intermediate language which translation between origin_lang and target_lang passes by\n",
    "    - target_lang: language you wish to know the translation\n",
    "\n",
    "    Example of usage:\n",
    "    intermediate_most_similar_word(PT_WORD_LIST, 'es', 'pt', 'en')\n",
    "    '''\n",
    "    \n",
    "    for word in word_list:\n",
    "        print(\"Original word:\", word)\n",
    "        \n",
    "        intermediate_word = MODELS[intermediate_lang].most_similar(TRANSLATIONS[origin_lang][intermediate_lang] @ MODELS[origin_lang][word])[0][0]\n",
    "        print(\"Most similar word according to intermediate language:\", intermediate_word)\n",
    "\n",
    "        translated_language = MODELS[target_lang].most_similar(TRANSLATIONS[intermediate_lang][target_lang] @ MODELS[intermediate_lang][intermediate_word])\n",
    "        print(\"Top 10 most similar words in target language passing by the intermediate language:\")\n",
    "        print(translated_language)\n",
    "        \n",
    "        print(\"\\n\")"
   ]
  },
  {
   "cell_type": "markdown",
   "id": "9e5f3c6e",
   "metadata": {},
   "source": [
    "- Portuguese -> English -> Spanish"
   ]
  },
  {
   "cell_type": "code",
   "execution_count": 21,
   "id": "d1c8b0c7",
   "metadata": {},
   "outputs": [
    {
     "name": "stdout",
     "output_type": "stream",
     "text": [
      "Original word: sapato\n",
      "Most similar word according to intermediate language: shoes\n",
      "Top 10 most similar words in target language passing by the intermediate language:\n",
      "[('zapatos', 0.637431800365448), ('sandalias', 0.5835506319999695), ('zapatillas', 0.5786840915679932), ('botas', 0.5409711003303528), ('calzado', 0.5358108282089233), ('chanclas', 0.5125232934951782), ('calcetines', 0.5100558996200562), ('mocasines', 0.5036314129829407), ('tacones', 0.4987330436706543), ('sneakers', 0.49735501408576965)]\n",
      "\n",
      "\n",
      "Original word: flor\n",
      "Most similar word according to intermediate language: flower\n",
      "Top 10 most similar words in target language passing by the intermediate language:\n",
      "[('flor', 0.5699925422668457), ('peonía', 0.5194132924079895), ('flores', 0.5110710859298706), ('gerbera', 0.46887627243995667), ('lavanda', 0.4660568833351135), ('florecilla', 0.46439895033836365), ('crisantemo', 0.46398526430130005), ('floral', 0.4629462957382202), ('peonías', 0.4608529806137085), ('flores.La', 0.4588063955307007)]\n",
      "\n",
      "\n",
      "Original word: aniversário\n",
      "Most similar word according to intermediate language: birthday\n",
      "Top 10 most similar words in target language passing by the intermediate language:\n",
      "[('cumpleaños', 0.7595615983009338), ('cumpleaño', 0.659608781337738), ('cumpleños', 0.5818513631820679), ('Cumpleaños', 0.5797028541564941), ('cumpleaños.El', 0.577157735824585), ('cumpleañero', 0.5634444952011108), ('cumpleaños.Y', 0.5630007386207581), ('cumpeaños', 0.5604560971260071), ('cumpleñaos', 0.5494034290313721), ('cumpleaños.En', 0.5464743375778198)]\n",
      "\n",
      "\n",
      "Original word: saudades\n",
      "Most similar word according to intermediate language: memories.So\n",
      "Top 10 most similar words in target language passing by the intermediate language:\n",
      "[('recuerdos', 0.46721023321151733), ('recuerdos.Y', 0.45752233266830444), ('añoranzas', 0.4551653265953064), ('recuerdos.En', 0.44526222348213196), ('memoria.Y', 0.43762943148612976), ('nostalgias', 0.42586708068847656), ('remembranzas', 0.4251903295516968), ('recuerdo.Y', 0.4187198579311371), ('recuerdosde', 0.41484135389328003), ('recuerdos.Por', 0.41465479135513306)]\n",
      "\n",
      "\n"
     ]
    }
   ],
   "source": [
    "intermediate_most_similar_word(PT_WORD_LIST, 'pt', 'en', 'es')"
   ]
  },
  {
   "cell_type": "markdown",
   "id": "74244ca1",
   "metadata": {},
   "source": [
    "- Spanish -> Portuguese -> English"
   ]
  },
  {
   "cell_type": "code",
   "execution_count": 22,
   "id": "a0073786",
   "metadata": {},
   "outputs": [
    {
     "name": "stdout",
     "output_type": "stream",
     "text": [
      "Original word: hola\n",
      "Most similar word according to intermediate language: olá\n",
      "Top 10 most similar words in target language passing by the intermediate language:\n",
      "[('hi', 0.7999252676963806), ('hello', 0.7333807349205017), ('hey', 0.6241604089736938), ('hello.', 0.5988674759864807), ('hellow', 0.5984309911727905), ('Hey', 0.5948676466941833), ('helllo', 0.5929532051086426), ('hi.', 0.5902332663536072), ('Hi', 0.5745431780815125), ('Hello', 0.5743246078491211)]\n",
      "\n",
      "\n",
      "Original word: sí\n",
      "Most similar word according to intermediate language: só\n",
      "Top 10 most similar words in target language passing by the intermediate language:\n",
      "[('if', 0.6177825331687927), ('it', 0.5477291941642761), ('is', 0.5076309442520142), ('So', 0.5075761675834656), ('me', 0.5029937624931335), ('so', 0.5009217858314514), ('But', 0.4981030821800232), ('I', 0.486585795879364), ('but', 0.48316681385040283), (',', 0.48077139258384705)]\n",
      "\n",
      "\n",
      "Original word: computadora\n",
      "Most similar word according to intermediate language: computador\n",
      "Top 10 most similar words in target language passing by the intermediate language:\n",
      "[('computer', 0.5790436863899231), ('computers', 0.4716285169124603), ('comupter', 0.46563249826431274), ('laptop', 0.43556755781173706), ('comptuer', 0.4320046007633209), ('lap-top', 0.4316941499710083), ('computer.But', 0.42536163330078125), ('compuer', 0.41647109389305115), ('non-computer', 0.4153751730918884), ('computer-free', 0.4140624701976776)]\n",
      "\n",
      "\n",
      "Original word: país\n",
      "Most similar word according to intermediate language: país\n",
      "Top 10 most similar words in target language passing by the intermediate language:\n",
      "[('country', 0.5479998588562012), ('world', 0.5072567462921143), ('country.This', 0.4539688527584076), ('nation', 0.4440898895263672), ('country.So', 0.43451231718063354), ('country.It', 0.42838233709335327), ('country.Even', 0.42547789216041565), ('continent', 0.4250812232494354), ('country.Now', 0.4241696000099182), ('country.That', 0.4205755591392517)]\n",
      "\n",
      "\n"
     ]
    }
   ],
   "source": [
    "intermediate_most_similar_word(ES_WORD_LIST, 'es', 'pt', 'en')"
   ]
  },
  {
   "cell_type": "markdown",
   "id": "9842db97",
   "metadata": {},
   "source": [
    "- English -> Spanish -> Portuguese"
   ]
  },
  {
   "cell_type": "code",
   "execution_count": 23,
   "id": "7fc536b1",
   "metadata": {},
   "outputs": [
    {
     "name": "stdout",
     "output_type": "stream",
     "text": [
      "Original word: specification\n",
      "Most similar word according to intermediate language: especificación\n",
      "Top 10 most similar words in target language passing by the intermediate language:\n",
      "[('especificação', 0.5933482050895691), ('descrição', 0.5040943622589111), ('defnição', 0.49539458751678467), ('definição', 0.4773234724998474), ('especiﬁcação', 0.4666079878807068), ('exaustividade', 0.4636813998222351), ('especicação', 0.46293625235557556), ('composicionalidade', 0.45184749364852905), ('especificada', 0.4507888853549957), ('parametrização', 0.44758057594299316)]\n",
      "\n",
      "\n",
      "Original word: book\n",
      "Most similar word according to intermediate language: libro\n",
      "Top 10 most similar words in target language passing by the intermediate language:\n",
      "[('livro', 0.8350896835327148), ('livrinho', 0.6735722422599792), ('livro.O', 0.6695076823234558), ('livroO', 0.6516822576522827), ('livro.Este', 0.6418003439903259), ('olivro', 0.6386768221855164), ('livro.E', 0.6327352523803711), ('umlivro', 0.6269291639328003), ('livro.É', 0.6190581917762756), ('livro-', 0.6190279722213745)]\n",
      "\n",
      "\n",
      "Original word: duckling\n",
      "Most similar word according to intermediate language: pollito\n",
      "Top 10 most similar words in target language passing by the intermediate language:\n",
      "[('ovinho', 0.6106443405151367), ('pintinho', 0.5818881392478943), ('ovo', 0.5679686665534973), ('filhote', 0.5578739047050476), ('peruzinho', 0.550456702709198), ('filhotinho', 0.5394190549850464), ('coelhinho', 0.5368256568908691), ('franguinho', 0.5363208055496216), ('pintainho', 0.5323155522346497), ('coelho', 0.5317334532737732)]\n",
      "\n",
      "\n",
      "Original word: machine\n",
      "Most similar word according to intermediate language: máquina\n",
      "Top 10 most similar words in target language passing by the intermediate language:\n",
      "[('máquina', 0.7239444255828857), ('maquina', 0.6211177706718445), ('amáquina', 0.6176412105560303), ('umamáquina', 0.597011148929596), ('damáquina', 0.5966401696205139), ('máquinha', 0.5401296019554138), ('máquina-instrumento', 0.5391868948936462), ('máquina-', 0.528416633605957), ('máquina-ferramenta', 0.5253477692604065), ('máquinas', 0.523012638092041)]\n",
      "\n",
      "\n",
      "Original word: headphones\n",
      "Most similar word according to intermediate language: auriculares\n",
      "Top 10 most similar words in target language passing by the intermediate language:\n",
      "[('auscultadores', 0.6049878597259521), ('headphones', 0.5962841510772705), ('auriculares', 0.5421650409698486), ('headfone', 0.5322069525718689), ('intra-auriculares', 0.521163284778595), ('headfones', 0.504204273223877), ('headsets', 0.49684467911720276), ('head-phones', 0.48515933752059937), ('intra-auricular', 0.4827442765235901), ('in-ear', 0.4810400605201721)]\n",
      "\n",
      "\n"
     ]
    }
   ],
   "source": [
    "intermediate_most_similar_word(EN_WORD_LIST, 'en', 'es', 'pt')"
   ]
  },
  {
   "cell_type": "markdown",
   "id": "340e25f7",
   "metadata": {},
   "source": [
    "### Using the vector transformed to each subspace.\n",
    "Uses most_similar and try to approximate the word just one time."
   ]
  },
  {
   "cell_type": "code",
   "execution_count": 24,
   "id": "fd051d79",
   "metadata": {},
   "outputs": [],
   "source": [
    "def intermediate_most_similar_vector(word_list, origin_lang, intermediate_lang, target_lang):\n",
    "    '''\n",
    "    Translate one word from one language to another passing by an intermediate language.\n",
    "    In this function, we use the result of the vector of the translation passing by the intermediate language to make the next translation.\n",
    "\n",
    "    Params:\n",
    "    - word_list: list of example words.\n",
    "    - origin_lang: language in which the words in word_list are written\n",
    "    - intermediate_lang: intermediate language which translation between origin_lang and target_lang passes by\n",
    "    - target_lang: language you wish to know the translation\n",
    "\n",
    "    Example of usage:\n",
    "    intermediate_most_similar_vector(PT_WORD_LIST, 'es', 'pt', 'en')\n",
    "    '''\n",
    "    \n",
    "    for word in word_list:\n",
    "        print(\"Original word:\", word)\n",
    "\n",
    "        intermediate_vector = TRANSLATIONS[origin_lang][intermediate_lang] @ MODELS[origin_lang][word]\n",
    "        translated_vector = MODELS[target_lang].most_similar(TRANSLATIONS[intermediate_lang][target_lang] @ intermediate_vector)\n",
    "        print(\"Top 10 most similar words in target language passing by the intermediate language:\")\n",
    "        print(translated_vector)\n",
    "\n",
    "        print(\"\\n\")"
   ]
  },
  {
   "cell_type": "markdown",
   "id": "2a173201",
   "metadata": {},
   "source": [
    "- Portuguese -> English -> Spanish"
   ]
  },
  {
   "cell_type": "code",
   "execution_count": 25,
   "id": "161a58ff",
   "metadata": {},
   "outputs": [
    {
     "name": "stdout",
     "output_type": "stream",
     "text": [
      "Original word: sapato\n",
      "Top 10 most similar words in target language passing by the intermediate language:\n",
      "[('zapato', 0.48993510007858276), ('abriguito', 0.47686344385147095), ('vestido', 0.47471749782562256), ('zapatos', 0.4711134433746338), ('tacones', 0.44870543479919434), ('bolso', 0.44113263487815857), ('collarcito', 0.4388626515865326), ('jerséy', 0.431425005197525), ('sapato', 0.43105655908584595), ('pantalón', 0.42974868416786194)]\n",
      "\n",
      "\n",
      "Original word: flor\n",
      "Top 10 most similar words in target language passing by the intermediate language:\n",
      "[('flor', 0.5474237203598022), ('peonia', 0.4889832139015198), ('rosaa', 0.48725426197052), ('florecilla', 0.47480836510658264), ('azalea', 0.47139185667037964), ('rosaY', 0.467237263917923), ('rosa', 0.4639436900615692), ('peonía', 0.456820547580719), ('florecita', 0.45346006751060486), ('hortensia', 0.45051074028015137)]\n",
      "\n",
      "\n",
      "Original word: aniversário\n",
      "Top 10 most similar words in target language passing by the intermediate language:\n",
      "[('cumpleaños', 0.6393312215805054), ('cumpleaño', 0.6016281843185425), ('cumpleños', 0.5369182229042053), ('cumpleaños.El', 0.5299097299575806), ('cumpeaños', 0.5109721422195435), ('aniversario', 0.4961904287338257), ('boda.El', 0.4915779232978821), ('Cumpleaños', 0.49024632573127747), ('cumpleñaos', 0.4742463231086731), ('celebrarle', 0.4727294445037842)]\n",
      "\n",
      "\n",
      "Original word: saudades\n",
      "Top 10 most similar words in target language passing by the intermediate language:\n",
      "[('añorar', 0.4372536540031433), ('llantinas', 0.4348442256450653), ('entrañables', 0.4327780604362488), ('añoranzas', 0.42185911536216736), ('nostálgia', 0.4197087585926056), ('fatiguitas', 0.41867563128471375), ('añoranza', 0.41113367676734924), ('tardes', 0.4105929434299469), ('nostalgias', 0.41004469990730286), ('saudades', 0.40991130471229553)]\n",
      "\n",
      "\n"
     ]
    }
   ],
   "source": [
    "intermediate_most_similar_vector(PT_WORD_LIST, 'pt', 'en', 'es')"
   ]
  },
  {
   "cell_type": "markdown",
   "id": "bbc0af35",
   "metadata": {},
   "source": [
    "- Spanish -> Portuguese -> English"
   ]
  },
  {
   "cell_type": "code",
   "execution_count": 26,
   "id": "2788b6c1",
   "metadata": {},
   "outputs": [
    {
     "name": "stdout",
     "output_type": "stream",
     "text": [
      "Original word: hola\n",
      "Top 10 most similar words in target language passing by the intermediate language:\n",
      "[('hi', 0.7226719856262207), ('hello', 0.6594656705856323), ('hey', 0.5860802531242371), ('Hey', 0.54866623878479), ('helllo', 0.5457444190979004), ('hellow', 0.5423814058303833), ('hi.', 0.541397750377655), ('hello.', 0.5363135933876038), ('Hello', 0.532040536403656), ('hiya', 0.5247058272361755)]\n",
      "\n",
      "\n",
      "Original word: sí\n",
      "Top 10 most similar words in target language passing by the intermediate language:\n",
      "[('if', 0.531143069267273), ('is', 0.5029851794242859), ('But', 0.4877713620662689), ('but', 0.4814220368862152), ('.But', 0.47917017340660095), ('it', 0.46871185302734375), ('so', 0.46371883153915405), ('So', 0.45661598443984985), ('.So', 0.4446946978569031), ('ok', 0.4432774782180786)]\n",
      "\n",
      "\n",
      "Original word: computadora\n",
      "Top 10 most similar words in target language passing by the intermediate language:\n",
      "[('computer', 0.5246008038520813), ('computers', 0.45993557572364807), ('non-computer', 0.4414167106151581), ('comupter', 0.4410717487335205), ('lap-top', 0.4384739398956299), ('compuer', 0.4370869994163513), ('comptuer', 0.42797061800956726), ('remotely', 0.410738080739975), ('computer.But', 0.4093044698238373), ('laptop', 0.40157732367515564)]\n",
      "\n",
      "\n",
      "Original word: país\n",
      "Top 10 most similar words in target language passing by the intermediate language:\n",
      "[('country', 0.5023622512817383), ('world', 0.4767564535140991), ('country.So', 0.4423372745513916), ('country.It', 0.4283268451690674), ('country.This', 0.41883787512779236), ('country.Now', 0.4141187071800232), ('country.Well', 0.40392374992370605), ('country.What', 0.402541846036911), ('country.That', 0.3998812735080719), ('Africa.So', 0.39973685145378113)]\n",
      "\n",
      "\n"
     ]
    }
   ],
   "source": [
    "intermediate_most_similar_vector(ES_WORD_LIST, 'es', 'pt', 'en')"
   ]
  },
  {
   "cell_type": "markdown",
   "id": "e3e0fd3f",
   "metadata": {},
   "source": [
    "- English -> Spanish -> Portuguese"
   ]
  },
  {
   "cell_type": "code",
   "execution_count": 27,
   "id": "d9859e6d",
   "metadata": {},
   "outputs": [
    {
     "name": "stdout",
     "output_type": "stream",
     "text": [
      "Original word: specification\n",
      "Top 10 most similar words in target language passing by the intermediate language:\n",
      "[('especificação', 0.4372689127922058), ('especifcado', 0.38677334785461426), ('ante-projeto', 0.3675701320171356), ('especificaçao', 0.3611995279788971), ('certiﬁcado', 0.358938992023468), ('defnição', 0.3587265610694885), ('adota-se', 0.35393160581588745), ('ante-projecto', 0.3494497537612915), ('especíca', 0.3478655219078064), ('certiﬁcação', 0.3470357060432434)]\n",
      "\n",
      "\n",
      "Original word: book\n",
      "Top 10 most similar words in target language passing by the intermediate language:\n",
      "[('livro', 0.6597116589546204), ('livro.O', 0.5464816093444824), ('livroO', 0.5437262058258057), ('livrinho', 0.5405091643333435), ('livroA', 0.5388786792755127), ('umlivro', 0.530348002910614), ('leitura', 0.5287427306175232), ('olivro', 0.5211440324783325), ('livro.E', 0.5197508931159973), ('autora', 0.5100651979446411)]\n",
      "\n",
      "\n",
      "Original word: duckling\n",
      "Top 10 most similar words in target language passing by the intermediate language:\n",
      "[('gatito', 0.4075612425804138), ('ovinho', 0.3852229416370392), ('codorniz', 0.38489624857902527), ('franguinho', 0.38210421800613403), ('pato', 0.3783701956272125), ('filhote', 0.3749772906303406), ('galinha', 0.374673992395401), ('lagartinho', 0.3732130825519562), ('leaozinho', 0.3726311922073364), ('peixinho', 0.3707168400287628)]\n",
      "\n",
      "\n",
      "Original word: machine\n",
      "Top 10 most similar words in target language passing by the intermediate language:\n",
      "[('máquina', 0.5750252604484558), ('maquina', 0.4949181079864502), ('amáquina', 0.4599766433238983), ('máquinas', 0.44905275106430054), ('damáquina', 0.43527746200561523), ('máquinha', 0.43161889910697937), ('máquininha', 0.4275387227535248), ('maquinha', 0.4219890832901001), ('máquina-instrumento', 0.41688910126686096), ('máquina-a-máquina', 0.4162909686565399)]\n",
      "\n",
      "\n",
      "Original word: headphones\n",
      "Top 10 most similar words in target language passing by the intermediate language:\n",
      "[('headphones', 0.5603876113891602), ('auscultadores', 0.5366858243942261), ('headfone', 0.5082073211669922), ('auriculares', 0.5081616044044495), ('in-ear', 0.4967019557952881), ('intra-auricular', 0.49059200286865234), ('on-ear', 0.4882482588291168), ('headphone', 0.4761045277118683), ('auricular', 0.4728650748729706), ('I-pod', 0.47251203656196594)]\n",
      "\n",
      "\n"
     ]
    }
   ],
   "source": [
    "intermediate_most_similar_vector(EN_WORD_LIST, 'en', 'es', 'pt')"
   ]
  },
  {
   "cell_type": "markdown",
   "id": "99f3cca3",
   "metadata": {},
   "source": [
    "## 5 - Evaluate"
   ]
  },
  {
   "cell_type": "markdown",
   "id": "460e30dd",
   "metadata": {},
   "source": [
    "### Cosine similarity\n",
    "Theorically speaking, translating the vector that one sentence represents to another should result in a similar sentence."
   ]
  },
  {
   "cell_type": "code",
   "execution_count": 28,
   "id": "78446c3f",
   "metadata": {},
   "outputs": [],
   "source": [
    "def evaluate_single_cosine_similarity(origin_lang, target_lang):\n",
    "    '''\n",
    "    Evaluate cosine similarity between single sentences.\n",
    "    Cosine similarity has an interval from -1 to 1, and the closer to 1 the value is, more similar the params are.\n",
    "\n",
    "    Params:\n",
    "    - origin_lang: language in which the words in word_list are written\n",
    "    - target_lang: language you wish to know the translation\n",
    "\n",
    "    Example of usage:\n",
    "    evaluate_single_cosine_similarity('pt', 'en')\n",
    "    '''\n",
    "    \n",
    "    for index in range(5):\n",
    "        print(TEST_SET[origin_lang][index][0], '->', TEST_SET[target_lang][index][0])\n",
    "\n",
    "        vector_translated = TRANSLATIONS[origin_lang][target_lang] @ TEST_SET[origin_lang][index][1]\n",
    "        vector_target = TEST_SET[target_lang][index][1]\n",
    "\n",
    "        print(\"Cossine similarity:\", cosine_similarity([vector_translated], [vector_target])[0][0], \"\\n\")"
   ]
  },
  {
   "cell_type": "markdown",
   "id": "ffb53fcd",
   "metadata": {},
   "source": [
    "- Portuguese -> English"
   ]
  },
  {
   "cell_type": "code",
   "execution_count": 29,
   "id": "b7457740",
   "metadata": {},
   "outputs": [
    {
     "name": "stdout",
     "output_type": "stream",
     "text": [
      "onde é que eu deveria ir jantar em albufeira hoje à noite -> where should i go for dinner in san francisco tonight\n",
      "Cossine similarity: 0.84695405 \n",
      "\n",
      "qual é o melhor restaurante na maia -> what is the best shop restaurant around angel\n",
      "Cossine similarity: 0.8288503 \n",
      "\n",
      "recomenda me lojas para fazer compras em coimbra -> recommend me some shops to shopping in angel\n",
      "Cossine similarity: 0.8608927 \n",
      "\n",
      "o que há a acontecer hoje na cidade esta noite -> what's happening in town tonight\n",
      "Cossine similarity: 0.7119084 \n",
      "\n",
      "que eventos estão a acontecer perto de mim -> what events are going on near me\n",
      "Cossine similarity: 0.8129816 \n",
      "\n"
     ]
    }
   ],
   "source": [
    "evaluate_single_cosine_similarity('pt', 'en')"
   ]
  },
  {
   "cell_type": "markdown",
   "id": "ac78c26e",
   "metadata": {},
   "source": [
    "- Portuguese -> Spanish"
   ]
  },
  {
   "cell_type": "code",
   "execution_count": 30,
   "id": "d7e394f7",
   "metadata": {},
   "outputs": [
    {
     "name": "stdout",
     "output_type": "stream",
     "text": [
      "onde é que eu deveria ir jantar em albufeira hoje à noite -> dónde debería cenar esta noche en madrid\n",
      "Cossine similarity: 0.7200791 \n",
      "\n",
      "qual é o melhor restaurante na maia -> cuál es la mejor tienda restaurante alrededores de colón\n",
      "Cossine similarity: 0.8510599 \n",
      "\n",
      "recomenda me lojas para fazer compras em coimbra -> recomendarme algunas tiendas para ir de compras en malasaña\n",
      "Cossine similarity: 0.72395414 \n",
      "\n",
      "o que há a acontecer hoje na cidade esta noite -> que esta pasando en el pueblo esta noche\n",
      "Cossine similarity: 0.86754334 \n",
      "\n",
      "que eventos estão a acontecer perto de mim -> qué eventos están sucediendo cerca de mí\n",
      "Cossine similarity: 0.8847584 \n",
      "\n"
     ]
    }
   ],
   "source": [
    "evaluate_single_cosine_similarity('pt', 'es')"
   ]
  },
  {
   "cell_type": "markdown",
   "id": "29a56e65",
   "metadata": {},
   "source": [
    "- English -> Spanish"
   ]
  },
  {
   "cell_type": "code",
   "execution_count": 31,
   "id": "cf664a8a",
   "metadata": {},
   "outputs": [
    {
     "name": "stdout",
     "output_type": "stream",
     "text": [
      "where should i go for dinner in san francisco tonight -> dónde debería cenar esta noche en madrid\n",
      "Cossine similarity: 0.78502417 \n",
      "\n",
      "what is the best shop restaurant around angel -> cuál es la mejor tienda restaurante alrededores de colón\n",
      "Cossine similarity: 0.84819996 \n",
      "\n",
      "recommend me some shops to shopping in angel -> recomendarme algunas tiendas para ir de compras en malasaña\n",
      "Cossine similarity: 0.8010326 \n",
      "\n",
      "what's happening in town tonight -> que esta pasando en el pueblo esta noche\n",
      "Cossine similarity: 0.7965214 \n",
      "\n",
      "what events are going on near me -> qué eventos están sucediendo cerca de mí\n",
      "Cossine similarity: 0.8242764 \n",
      "\n"
     ]
    }
   ],
   "source": [
    "evaluate_single_cosine_similarity('en', 'es')"
   ]
  },
  {
   "cell_type": "code",
   "execution_count": 32,
   "id": "cc908230",
   "metadata": {},
   "outputs": [],
   "source": [
    "def pairwise(iterable):\n",
    "    '''\n",
    "    Return successive overlapping pairs taken from the input iterable.\n",
    "    The number of 2-tuples in the output iterator will be one fewer than the number of inputs. \n",
    "    It will be empty if the input iterable has fewer than two values.\n",
    "    pairwise('ABCDEFG') --> AB BC CD DE EF FG\n",
    "\n",
    "    Source: https://docs.python.org/3/library/itertools.html#itertools.pairwise\n",
    "    '''\n",
    "    a, b = it.tee(iterable)\n",
    "    next(b, None)\n",
    "    return zip(a, b)"
   ]
  },
  {
   "cell_type": "code",
   "execution_count": 33,
   "id": "426214bb",
   "metadata": {},
   "outputs": [],
   "source": [
    "def avaliate_path(path):\n",
    "    '''\n",
    "    Avaliate cosine similarity of translation path.\n",
    "\n",
    "    Params:\n",
    "    - path: path of desired translation\n",
    "\n",
    "    Example of usage:\n",
    "    avaliate_path(['pt', 'en', 'es'])\n",
    "    '''\n",
    "\n",
    "    translation_matrix = np.identity(300)\n",
    "\n",
    "    for (origin, target) in pairwise(path):\n",
    "        translation_matrix = TRANSLATIONS[origin][target] @ translation_matrix\n",
    "    \n",
    "    vectors = [translation_matrix @ v for _, v in TEST_SET[path[0]] ]\n",
    "    vectors_target = [ v for _, v in TEST_SET[path[-1]]]\n",
    "    \n",
    "    mean_cos_sim = sum( [ cosine_similarity([v1], [v2]) for v1, v2 in zip(vectors, vectors_target) ] )/ len(vectors)\n",
    "\n",
    "    print(\"Average cosine similarity of path\", path, \"=\", mean_cos_sim[0][0])\n"
   ]
  },
  {
   "cell_type": "markdown",
   "id": "0d4bdfd6",
   "metadata": {},
   "source": [
    "- Portuguese -> Spanish"
   ]
  },
  {
   "cell_type": "code",
   "execution_count": 34,
   "id": "d9893a2b",
   "metadata": {},
   "outputs": [
    {
     "name": "stdout",
     "output_type": "stream",
     "text": [
      "Average cosine similarity of path ['pt', 'es'] = 0.7711279304783111\n"
     ]
    }
   ],
   "source": [
    "avaliate_path(['pt', 'es'])"
   ]
  },
  {
   "cell_type": "markdown",
   "id": "f0c2eb10",
   "metadata": {},
   "source": [
    "- Portuguese -> English -> Spanish"
   ]
  },
  {
   "cell_type": "code",
   "execution_count": 35,
   "id": "89d4dbd7",
   "metadata": {},
   "outputs": [
    {
     "name": "stdout",
     "output_type": "stream",
     "text": [
      "Average cosine similarity of path ['pt', 'en', 'es'] = 0.7465551240657466\n"
     ]
    }
   ],
   "source": [
    "avaliate_path(['pt', 'en', 'es'])"
   ]
  },
  {
   "cell_type": "markdown",
   "id": "8a8d91ea",
   "metadata": {},
   "source": [
    "- Portuguese -> English -> Portuguese -> English -> Spanish"
   ]
  },
  {
   "cell_type": "code",
   "execution_count": 36,
   "id": "6c4920a8",
   "metadata": {},
   "outputs": [
    {
     "name": "stdout",
     "output_type": "stream",
     "text": [
      "Average cosine similarity of path ['pt', 'en', 'pt', 'en', 'es'] = 0.7465551168871883\n"
     ]
    }
   ],
   "source": [
    "avaliate_path(['pt', 'en', 'pt', 'en', 'es'])"
   ]
  }
 ],
 "metadata": {
  "interpreter": {
   "hash": "cf92aa13fedf815d5c8dd192b8d835913fde3e8bc926b2a0ad6cc74ef2ba3ca2"
  },
  "kernelspec": {
   "display_name": "Python 3.9.9 64-bit",
   "language": "python",
   "name": "python3"
  },
  "language_info": {
   "codemirror_mode": {
    "name": "ipython",
    "version": 3
   },
   "file_extension": ".py",
   "mimetype": "text/x-python",
   "name": "python",
   "nbconvert_exporter": "python",
   "pygments_lexer": "ipython3",
   "version": "3.9.9"
  }
 },
 "nbformat": 4,
 "nbformat_minor": 5
}
