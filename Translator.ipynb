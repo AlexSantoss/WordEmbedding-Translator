{
 "cells": [
  {
   "cell_type": "code",
   "execution_count": 8,
   "id": "7230eb8f",
   "metadata": {},
   "outputs": [],
   "source": [
    "from gensim.models import KeyedVectors\n",
    "import numpy as np"
   ]
  },
  {
   "cell_type": "code",
   "execution_count": 3,
   "id": "e5626e07",
   "metadata": {},
   "outputs": [],
   "source": [
    "#Path to models\n",
    "model_path_A = 'dataset_A.txt'\n",
    "model_path_B = 'dataset_B.txt'"
   ]
  },
  {
   "cell_type": "code",
   "execution_count": 4,
   "id": "553117db",
   "metadata": {},
   "outputs": [],
   "source": [
    "#Loading models\n",
    "model_A = KeyedVectors.load_word2vec_format(model_path_A, unicode_errors='replace')\n",
    "model_B = KeyedVectors.load_word2vec_format(model_path_B, unicode_errors='replace')"
   ]
  },
  {
   "cell_type": "code",
   "execution_count": 7,
   "id": "0333e7a5",
   "metadata": {},
   "outputs": [
    {
     "name": "stdout",
     "output_type": "stream",
     "text": [
      "('rainha', 0.7193283438682556) ('queen', 0.6713277101516724)\n"
     ]
    }
   ],
   "source": [
    "#king - man + woman, this cell isn't necessary\n",
    "print(model_A.most_similar(positive=['rei', 'mulher'], negative=['homem'])[0], model_B.most_similar(positive=['king', 'woman'], negative=['man'])[0])"
   ]
  },
  {
   "cell_type": "code",
   "execution_count": 27,
   "id": "91201d5f",
   "metadata": {},
   "outputs": [],
   "source": [
    "#load words for train\n",
    "words_A, words_B = [], []\n",
    "with open('words', 'r') as file:\n",
    "    for line in file:\n",
    "        word_A, word_B = line.split()\n",
    "        \n",
    "        words_A.append(word_A)\n",
    "        words_B.append(word_B)"
   ]
  },
  {
   "cell_type": "code",
   "execution_count": 28,
   "id": "f7674643",
   "metadata": {},
   "outputs": [],
   "source": [
    "#compute the translator matrix\n",
    "A = [model_A[w] for w in words_A]\n",
    "B = [model_B[w] for w in words_B]\n",
    "\n",
    "U, Sig, Vt = np.linalg.svd(np.transpose(A)@B)\n",
    "translator = np.transpose(Vt) @ np.transpose(U)"
   ]
  },
  {
   "cell_type": "code",
   "execution_count": 30,
   "id": "2c289d65",
   "metadata": {},
   "outputs": [
    {
     "data": {
      "text/plain": [
       "[('shoe', 0.9258044362068176),\n",
       " ('shoes', 0.7221243381500244),\n",
       " ('footwear', 0.543091893196106),\n",
       " ('sneaker', 0.5402212142944336),\n",
       " ('leather', 0.539982795715332),\n",
       " ('boots', 0.539657473564148),\n",
       " ('sneakers', 0.530847430229187),\n",
       " ('socks', 0.4991283714771271),\n",
       " ('clothing', 0.4976955056190491),\n",
       " ('boot', 0.470864474773407)]"
      ]
     },
     "execution_count": 30,
     "metadata": {},
     "output_type": "execute_result"
    }
   ],
   "source": [
    "#translate word from A to B\n",
    "word_A = 'sapato'\n",
    "model_B.most_similar(translator @ model_A[word_A])"
   ]
  },
  {
   "cell_type": "code",
   "execution_count": 31,
   "id": "cb6218cc",
   "metadata": {},
   "outputs": [
    {
     "data": {
      "text/plain": [
       "[('sapato', 0.9258043169975281),\n",
       " ('sapatos', 0.5305001735687256),\n",
       " ('desamarrado', 0.4366469085216522),\n",
       " ('sola', 0.4336547255516052),\n",
       " ('calçado', 0.4303475320339203),\n",
       " ('botas', 0.4276469349861145),\n",
       " ('calça', 0.4223818778991699),\n",
       " ('couro', 0.41276946663856506),\n",
       " ('calçar', 0.4076705873012543),\n",
       " ('vestido', 0.39948511123657227)]"
      ]
     },
     "execution_count": 31,
     "metadata": {},
     "output_type": "execute_result"
    }
   ],
   "source": [
    "#translate word from B to A\n",
    "word_B = 'shoe'\n",
    "model_A.most_similar(np.transpose(translator) @ model_B[word_B])"
   ]
  }
 ],
 "metadata": {
  "kernelspec": {
   "display_name": "Python 3",
   "language": "python",
   "name": "python3"
  },
  "language_info": {
   "codemirror_mode": {
    "name": "ipython",
    "version": 3
   },
   "file_extension": ".py",
   "mimetype": "text/x-python",
   "name": "python",
   "nbconvert_exporter": "python",
   "pygments_lexer": "ipython3",
   "version": "3.9.7"
  }
 },
 "nbformat": 4,
 "nbformat_minor": 5
}
