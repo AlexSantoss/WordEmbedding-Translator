{
 "cells": [
  {
   "cell_type": "markdown",
   "id": "253770a5",
   "metadata": {},
   "source": [
    "# Word Embedding Translator"
   ]
  },
  {
   "cell_type": "markdown",
   "id": "2e015f1b",
   "metadata": {},
   "source": [
    "## Libraries"
   ]
  },
  {
   "cell_type": "code",
   "execution_count": 1,
   "id": "7230eb8f",
   "metadata": {},
   "outputs": [],
   "source": [
    "import numpy as np\n",
    "import pandas as pd\n",
    "import itertools as it\n",
    "import openpyxl\n",
    "\n",
    "from gensim.models import KeyedVectors\n",
    "\n",
    "from sklearn.metrics.pairwise import cosine_similarity\n",
    "from sklearn.metrics.pairwise import euclidean_distances, manhattan_distances\n",
    "\n",
    "from IPython.display import Image, display"
   ]
  },
  {
   "cell_type": "markdown",
   "id": "a36ae151",
   "metadata": {},
   "source": [
    "## 1 - Loading data\n",
    "Loading the models and sentences used.\n",
    "- Models: https://fasttext.cc/docs/en/crawl-vectors.html\n",
    "- Sentences: https://github.com/alexa/massive"
   ]
  },
  {
   "cell_type": "code",
   "execution_count": 2,
   "id": "f117e715",
   "metadata": {},
   "outputs": [],
   "source": [
    "def load_files(model_path, sentences_path, limit = None):\n",
    "    '''\n",
    "    Load models from FastText folder and sentences from Amazon Massive folder.\n",
    "    \n",
    "    Params:\n",
    "    - model_path: path to the folder containing all models used, i.e., FastText\n",
    "    - sentences_path: path to the folder containing all sentences used, i.e., Amazon_Massive\n",
    "    - limit: define a limit in case your have low computer power, e.g., 5000\n",
    "    \n",
    "    Return:\n",
    "    Tuple containing the language model and its corresponding sentences\n",
    "    '''\n",
    "\n",
    "    model = KeyedVectors.load_word2vec_format(model_path, unicode_errors = 'replace', limit = limit)\n",
    "    sentences = pd.read_json(sentences_path, lines = True)['utt']\n",
    "    \n",
    "    return model, sentences"
   ]
  },
  {
   "cell_type": "markdown",
   "id": "3ab38a6d",
   "metadata": {},
   "source": [
    "Defining data path."
   ]
  },
  {
   "cell_type": "code",
   "execution_count": 3,
   "id": "d4f7b818",
   "metadata": {},
   "outputs": [],
   "source": [
    "FASTTEXT_PATH = 'Datasets/FastText/'\n",
    "MASSIVE_PATH = 'Datasets/Amazon_Massive/'"
   ]
  },
  {
   "cell_type": "code",
   "execution_count": 4,
   "id": "553117db",
   "metadata": {},
   "outputs": [],
   "source": [
    "PATHS = {\n",
    "    'en': [ FASTTEXT_PATH + 'cc.en.300.vec', MASSIVE_PATH + 'en-US.jsonl' ],\n",
    "    'pt': [ FASTTEXT_PATH + 'cc.pt.300.vec', MASSIVE_PATH + 'pt-PT.jsonl' ],\n",
    "    'es': [ FASTTEXT_PATH + 'cc.es.300.vec', MASSIVE_PATH + 'es-ES.jsonl' ],\n",
    "    'fr': [ FASTTEXT_PATH + 'cc.fr.300.vec', MASSIVE_PATH + 'fr-FR.jsonl' ],\n",
    "    'it': [ FASTTEXT_PATH + 'cc.it.300.vec', MASSIVE_PATH + 'it-IT.jsonl' ],\n",
    "    'ro': [ FASTTEXT_PATH + 'cc.ro.300.vec', MASSIVE_PATH + 'ro-RO.jsonl' ],\n",
    "    'de': [ FASTTEXT_PATH + 'cc.de.300.vec', MASSIVE_PATH + 'de-DE.jsonl' ],\n",
    "    'da': [ FASTTEXT_PATH + 'cc.da.300.vec', MASSIVE_PATH + 'da-DK.jsonl' ],\n",
    "    'nl': [ FASTTEXT_PATH + 'cc.nl.300.vec', MASSIVE_PATH + 'nl-NL.jsonl' ],\n",
    "    'sv': [ FASTTEXT_PATH + 'cc.sv.300.vec', MASSIVE_PATH + 'sv-SE.jsonl' ],\n",
    "}\n",
    "\n",
    "LANGUAGES = PATHS.keys()"
   ]
  },
  {
   "cell_type": "markdown",
   "id": "c564e517",
   "metadata": {},
   "source": [
    "**Note**: the cell below takes approximately 5 to 6 minutes per model."
   ]
  },
  {
   "cell_type": "code",
   "execution_count": 5,
   "id": "08bf0f8b",
   "metadata": {},
   "outputs": [
    {
     "name": "stdout",
     "output_type": "stream",
     "text": [
      "Loading Datasets/FastText/cc.en.300.vec\n",
      "Finished loading Datasets/FastText/cc.en.300.vec\n",
      "Loading Datasets/FastText/cc.pt.300.vec\n",
      "Finished loading Datasets/FastText/cc.pt.300.vec\n",
      "Loading Datasets/FastText/cc.es.300.vec\n",
      "Finished loading Datasets/FastText/cc.es.300.vec\n",
      "Loading Datasets/FastText/cc.fr.300.vec\n",
      "Finished loading Datasets/FastText/cc.fr.300.vec\n",
      "Loading Datasets/FastText/cc.it.300.vec\n",
      "Finished loading Datasets/FastText/cc.it.300.vec\n",
      "Loading Datasets/FastText/cc.ro.300.vec\n",
      "Finished loading Datasets/FastText/cc.ro.300.vec\n",
      "Loading Datasets/FastText/cc.de.300.vec\n",
      "Finished loading Datasets/FastText/cc.de.300.vec\n",
      "Loading Datasets/FastText/cc.da.300.vec\n",
      "Finished loading Datasets/FastText/cc.da.300.vec\n",
      "Loading Datasets/FastText/cc.nl.300.vec\n",
      "Finished loading Datasets/FastText/cc.nl.300.vec\n",
      "Loading Datasets/FastText/cc.sv.300.vec\n",
      "Finished loading Datasets/FastText/cc.sv.300.vec\n",
      "\n",
      "All models and sentences are now loaded!\n"
     ]
    }
   ],
   "source": [
    "MODELS, SENTENCES = {}, {}\n",
    "\n",
    "for language, value in PATHS.items():\n",
    "    model = value[0]\n",
    "    sentences = value[1]\n",
    "\n",
    "    print(\"Loading\", model)\n",
    "    MODELS[language], SENTENCES[language] = load_files(model, sentences)\n",
    "    print(\"Finished loading\", model)\n",
    "\n",
    "print(\"\\nAll models and sentences are now loaded!\")"
   ]
  },
  {
   "cell_type": "markdown",
   "id": "5e14fb99",
   "metadata": {},
   "source": [
    "## 2 - Preparing data"
   ]
  },
  {
   "cell_type": "code",
   "execution_count": 6,
   "id": "9bceeb1a",
   "metadata": {},
   "outputs": [],
   "source": [
    "SAMPLES = { key: [] for key in LANGUAGES }"
   ]
  },
  {
   "cell_type": "code",
   "execution_count": 7,
   "id": "e67d11b5",
   "metadata": {},
   "outputs": [],
   "source": [
    "# Since all sentence files have the same length, we chose one at random for the range function.\n",
    "# We prove this in the cell below\n",
    "for idx in range(len(SENTENCES['en'])):\n",
    "    \n",
    "    actual_sentence = { key: [] for key in LANGUAGES }\n",
    "    \n",
    "    try:\n",
    "        for lang, sent in SENTENCES.items():\n",
    "            for word in sent[idx].split(' '):\n",
    "                actual_sentence[lang].append(MODELS[lang][word])\n",
    "\n",
    "    except KeyError:\n",
    "        continue\n",
    "    \n",
    "    for key, value in actual_sentence.items():\n",
    "        SAMPLES[key].append([SENTENCES[key][idx], sum(value)])"
   ]
  },
  {
   "cell_type": "code",
   "execution_count": 8,
   "id": "e5d43f97",
   "metadata": {},
   "outputs": [
    {
     "name": "stdout",
     "output_type": "stream",
     "text": [
      "Total sentences in en file: 16521 -> Model en samples: 7371 (44.62%)\n",
      "Total sentences in pt file: 16521 -> Model pt samples: 7371 (44.62%)\n",
      "Total sentences in es file: 16521 -> Model es samples: 7371 (44.62%)\n",
      "Total sentences in fr file: 16521 -> Model fr samples: 7371 (44.62%)\n",
      "Total sentences in it file: 16521 -> Model it samples: 7371 (44.62%)\n",
      "Total sentences in ro file: 16521 -> Model ro samples: 7371 (44.62%)\n",
      "Total sentences in de file: 16521 -> Model de samples: 7371 (44.62%)\n",
      "Total sentences in da file: 16521 -> Model da samples: 7371 (44.62%)\n",
      "Total sentences in nl file: 16521 -> Model nl samples: 7371 (44.62%)\n",
      "Total sentences in sv file: 16521 -> Model sv samples: 7371 (44.62%)\n"
     ]
    }
   ],
   "source": [
    "for key in SENTENCES:\n",
    "    SIZE_SAMPLES = len(SAMPLES[key])\n",
    "    print(f'Total sentences in { key } file: { len(SENTENCES[key]) } -> Model { key } samples: { len(SAMPLES[key]) } ({ len(SAMPLES[key]) / len(SENTENCES[key]) * 100:.2f}%)')"
   ]
  },
  {
   "cell_type": "markdown",
   "id": "2aefab70",
   "metadata": {},
   "source": [
    "Splitting into train and test."
   ]
  },
  {
   "cell_type": "code",
   "execution_count": 9,
   "id": "1fac669b",
   "metadata": {},
   "outputs": [],
   "source": [
    "SPLIT_RATE = int(SIZE_SAMPLES * 0.7)\n",
    "\n",
    "TRAIN_SET = { key: SAMPLES[key][:SPLIT_RATE] for key in LANGUAGES }\n",
    "TEST_SET = { key: SAMPLES[key][SPLIT_RATE:] for key in LANGUAGES }"
   ]
  },
  {
   "cell_type": "markdown",
   "id": "8cf7d5e4",
   "metadata": {},
   "source": [
    "## 3 - Translating words"
   ]
  },
  {
   "cell_type": "code",
   "execution_count": 10,
   "id": "1711e3f9",
   "metadata": {},
   "outputs": [],
   "source": [
    "TRANSLATIONS = { key: { lang: None for lang in LANGUAGES if lang != key } for key in LANGUAGES }"
   ]
  },
  {
   "cell_type": "code",
   "execution_count": 11,
   "id": "df5bc3de",
   "metadata": {},
   "outputs": [],
   "source": [
    "for origin, target in it.permutations(LANGUAGES, 2): \n",
    "\n",
    "    samples_origin = [sample[1] for sample in TRAIN_SET[origin]]\n",
    "    samples_target = [sample[1] for sample in TRAIN_SET[target]]\n",
    "\n",
    "    U, Sig, Vt = np.linalg.svd(np.transpose(samples_origin) @ samples_target)\n",
    "    \n",
    "    TRANSLATOR = np.transpose(Vt) @ np.transpose(U)\n",
    "    TRANSLATIONS[origin][target] = TRANSLATOR"
   ]
  },
  {
   "cell_type": "markdown",
   "id": "b4325e13",
   "metadata": {},
   "source": [
    "### List of examples words\n",
    "**Note**: only single words can be written, i.e., compound words like \"washing machine\" will result in Error"
   ]
  },
  {
   "cell_type": "markdown",
   "id": "0aed3f9c",
   "metadata": {},
   "source": [
    "- English"
   ]
  },
  {
   "cell_type": "code",
   "execution_count": 12,
   "id": "267b75aa",
   "metadata": {},
   "outputs": [],
   "source": [
    "EN_WORD_LIST = [\n",
    "    'specification',\n",
    "    'book',\n",
    "    'duckling',\n",
    "    'machine',\n",
    "    'headphones'\n",
    "]"
   ]
  },
  {
   "cell_type": "markdown",
   "id": "04930bcf",
   "metadata": {},
   "source": [
    "- Spanish"
   ]
  },
  {
   "cell_type": "code",
   "execution_count": 13,
   "id": "f4f14161",
   "metadata": {},
   "outputs": [],
   "source": [
    "ES_WORD_LIST = [\n",
    "    'hola',\n",
    "    'sí',\n",
    "    'computadora',\n",
    "    'país'\n",
    "]"
   ]
  },
  {
   "cell_type": "markdown",
   "id": "e9107823",
   "metadata": {},
   "source": [
    "- Portuguese"
   ]
  },
  {
   "cell_type": "code",
   "execution_count": 14,
   "id": "ed70d7ec",
   "metadata": {},
   "outputs": [],
   "source": [
    "PT_WORD_LIST = [\n",
    "    'sapato',\n",
    "    'flor',\n",
    "    'aniversário',\n",
    "    'saudades',\n",
    "]"
   ]
  },
  {
   "cell_type": "code",
   "execution_count": 15,
   "id": "1ad3f141",
   "metadata": {},
   "outputs": [],
   "source": [
    "def translate(word_list, origin_lang, target_lang):\n",
    "    '''\n",
    "    Function to translate one word from one language to another.\n",
    "\n",
    "    Params:\n",
    "    - word_list: list of example words.\n",
    "    - origin_lang: language in which the words in word_list are written\n",
    "    - target_lang: language you wish to know the translation\n",
    "\n",
    "    Example of usage:\n",
    "    translate(PT_WORD_LIST, 'es', 'pt')\n",
    "    '''\n",
    "    \n",
    "    for word in word_list:\n",
    "        print(\"Original word:\", word)\n",
    "        print(\"Top 10 most similar words in\", target_lang)\n",
    "        print(MODELS[target_lang].most_similar(TRANSLATIONS[origin_lang][target_lang] @ MODELS[origin_lang][word]))\n",
    "        print(\"\\n\")"
   ]
  },
  {
   "cell_type": "markdown",
   "id": "b18fa53d",
   "metadata": {},
   "source": [
    "### Examples"
   ]
  },
  {
   "cell_type": "markdown",
   "id": "91ff3272",
   "metadata": {},
   "source": [
    "- Portuguese -> Spanish"
   ]
  },
  {
   "cell_type": "code",
   "execution_count": 16,
   "id": "a6c2d369",
   "metadata": {
    "scrolled": true
   },
   "outputs": [
    {
     "name": "stdout",
     "output_type": "stream",
     "text": [
      "Original word: sapato\n",
      "Top 10 most similar words in es\n",
      "[('zapato', 0.5979515314102173), ('bolso', 0.5027395486831665), ('zapatos', 0.4995059370994568), ('sapato', 0.4886995553970337), ('zapatito', 0.4637773633003235), ('tacones', 0.46361279487609863), ('vestidito', 0.46291956305503845), ('vestido', 0.4623996913433075), ('abriguito', 0.4623886048793793), ('collarcito', 0.4617096185684204)]\n",
      "\n",
      "\n",
      "Original word: flor\n",
      "Top 10 most similar words in es\n",
      "[('flor', 0.518313467502594), ('peonia', 0.4444171190261841), ('plantita', 0.43985143303871155), ('rosa', 0.4362567365169525), ('gardenia', 0.43582063913345337), ('hadita', 0.434613436460495), ('matita', 0.43432340025901794), ('macetita', 0.42778557538986206), ('amapola', 0.4275236427783966), ('florecilla', 0.42369580268859863)]\n",
      "\n",
      "\n",
      "Original word: aniversário\n",
      "Top 10 most similar words in es\n",
      "[('cumpleaños', 0.661307156085968), ('cumpleaño', 0.599289059638977), ('cumpleños', 0.5646085739135742), ('aniversario', 0.5452031493186951), ('Cumpleaños', 0.5345666408538818), ('cumpleñaos', 0.532864511013031), ('cumpeaños', 0.5221774578094482), ('cumpleaños.El', 0.5176021456718445), ('celebrar', 0.5030395984649658), ('cumpleanos', 0.4960058033466339)]\n",
      "\n",
      "\n",
      "Original word: saudades\n",
      "Top 10 most similar words in es\n",
      "[('tardes', 0.4739856421947479), ('saudades', 0.4717436730861664), ('nostalgias', 0.4689861238002777), ('nostalgia', 0.4638507664203644), ('nostálgia', 0.46372348070144653), ('morriñas', 0.4632083773612976), ('añoranza', 0.46054816246032715), ('añoranzas', 0.45431309938430786), ('nostálgicas', 0.4535200595855713), ('ganas', 0.4428173303604126)]\n",
      "\n",
      "\n"
     ]
    }
   ],
   "source": [
    "translate(PT_WORD_LIST, 'pt', 'es')"
   ]
  },
  {
   "cell_type": "markdown",
   "id": "f29a05a8",
   "metadata": {},
   "source": [
    "- Portuguese -> English"
   ]
  },
  {
   "cell_type": "code",
   "execution_count": 17,
   "id": "0777db3a",
   "metadata": {},
   "outputs": [
    {
     "name": "stdout",
     "output_type": "stream",
     "text": [
      "Original word: sapato\n",
      "Top 10 most similar words in en\n",
      "[('shoes', 0.4887855648994446), ('shoes.', 0.44583889842033386), ('shoes.It', 0.440299928188324), ('shoe', 0.4364120662212372), ('high-heels', 0.4322390854358673), ('wear', 0.4320979714393616), ('shoes.I', 0.4249747395515442), ('shoes.And', 0.4188053011894226), ('shoes.What', 0.4184603989124298), ('shoes.The', 0.4148173928260803)]\n",
      "\n",
      "\n",
      "Original word: flor\n",
      "Top 10 most similar words in en\n",
      "[('flowers', 0.4574926495552063), ('peony', 0.45678797364234924), ('flower', 0.45566099882125854), ('flowers.So', 0.446369469165802), ('flowers.And', 0.44436922669410706), ('frangipani', 0.4429910480976105), ('hydrangea', 0.4408051371574402), ('lilac', 0.44008687138557434), ('floweres', 0.4364868700504303), ('flower.I', 0.43395060300827026)]\n",
      "\n",
      "\n",
      "Original word: aniversário\n",
      "Top 10 most similar words in en\n",
      "[('birthday', 0.6021787524223328), ('anniversary', 0.524921178817749), ('half-birthday', 0.5231814384460449), ('birthdays', 0.5211805701255798), ('brithday', 0.5147582292556763), ('non-birthday', 0.49240705370903015), ('b-day', 0.4923589527606964), ('birhday', 0.4900906980037689), ('aniversary', 0.4785444140434265), ('birthday-', 0.4779461622238159)]\n",
      "\n",
      "\n",
      "Original word: saudades\n",
      "Top 10 most similar words in en\n",
      "[('memories.So', 0.407292902469635), ('memories.We', 0.3932892084121704), ('reminisce', 0.3901064097881317), ('remembered.We', 0.3857775032520294), ('memories.I', 0.3830285966396332), ('blogfriends', 0.3809650242328644), ('Speakies', 0.3704747259616852), ('memories.And', 0.370160311460495), ('memories.But', 0.37012162804603577), ('forget.So', 0.3656769096851349)]\n",
      "\n",
      "\n"
     ]
    }
   ],
   "source": [
    "translate(PT_WORD_LIST, 'pt', 'en')"
   ]
  },
  {
   "cell_type": "markdown",
   "id": "42f82e71",
   "metadata": {},
   "source": [
    "- Spanish -> English"
   ]
  },
  {
   "cell_type": "code",
   "execution_count": 18,
   "id": "5c980d96",
   "metadata": {},
   "outputs": [
    {
     "name": "stdout",
     "output_type": "stream",
     "text": [
      "Original word: hola\n",
      "Top 10 most similar words in en\n",
      "[('hi', 0.7560582160949707), ('hello', 0.7342492341995239), ('Hello', 0.5875437259674072), ('hellow', 0.5869857668876648), ('Hey', 0.5829854011535645), ('hey', 0.5817070007324219), ('hello.', 0.5796104669570923), ('helllo', 0.5592946410179138), ('hiya', 0.5528284311294556), ('Hi', 0.550499677658081)]\n",
      "\n",
      "\n",
      "Original word: sí\n",
      "Top 10 most similar words in en\n",
      "[('if', 0.5291672348976135), ('no', 0.5196767449378967), ('it', 0.51912522315979), ('is', 0.50682133436203), ('But', 0.4984217882156372), ('so', 0.4945758581161499), ('So', 0.4752298593521118), ('And', 0.47116318345069885), ('he', 0.47106507420539856), ('be', 0.46563899517059326)]\n",
      "\n",
      "\n",
      "Original word: computadora\n",
      "Top 10 most similar words in en\n",
      "[('computer', 0.5365081429481506), ('computers', 0.5113204717636108), ('computer.But', 0.4441037178039551), ('lap-top', 0.4435492753982544), ('compuer', 0.4435286521911621), ('laptop', 0.4348880350589752), ('super-computer', 0.42963653802871704), ('comput', 0.4264620542526245), ('computer.And', 0.42178601026535034), ('comupter', 0.420172780752182)]\n",
      "\n",
      "\n",
      "Original word: país\n",
      "Top 10 most similar words in en\n",
      "[('country', 0.556435763835907), ('world', 0.4675489664077759), ('nation', 0.4479183852672577), ('country.So', 0.44546690583229065), ('country.What', 0.42889636754989624), ('country.Now', 0.4277549386024475), ('country.That', 0.41739633679389954), ('coutry', 0.416005402803421), ('country.This', 0.4094393849372864), ('overseas', 0.4090957045555115)]\n",
      "\n",
      "\n"
     ]
    }
   ],
   "source": [
    "translate(ES_WORD_LIST, 'es', 'en')"
   ]
  },
  {
   "cell_type": "markdown",
   "id": "4f6b2270",
   "metadata": {},
   "source": [
    "- English -> Portuguese"
   ]
  },
  {
   "cell_type": "code",
   "execution_count": 19,
   "id": "0c3dc7aa",
   "metadata": {},
   "outputs": [
    {
     "name": "stdout",
     "output_type": "stream",
     "text": [
      "Original word: specification\n",
      "Top 10 most similar words in pt\n",
      "[('especificação', 0.4426162540912628), ('defnição', 0.37427443265914917), ('certiﬁcação', 0.3630721867084503), ('modelo-base', 0.3566977083683014), ('especiﬁcação', 0.3435817062854767), ('ISA-95', 0.343571275472641), ('e-ping', 0.33819273114204407), ('formalizada', 0.33814647793769836), ('ECMA-335', 0.3362056314945221), ('comoreferência', 0.3345833420753479)]\n",
      "\n",
      "\n",
      "Original word: book\n",
      "Top 10 most similar words in pt\n",
      "[('livro', 0.6571274399757385), ('livrinho', 0.5561516284942627), ('livroO', 0.5443723201751709), ('livros', 0.5368126034736633), ('olivro', 0.5267401337623596), ('livro.O', 0.5253267288208008), ('livo', 0.5119891166687012), ('livroA', 0.5110560655593872), ('umlivro', 0.5052586793899536), ('ler', 0.4994562864303589)]\n",
      "\n",
      "\n",
      "Original word: duckling\n",
      "Top 10 most similar words in pt\n",
      "[('galinha', 0.3759934604167938), ('franguinho', 0.37412822246551514), ('maltine', 0.37038320302963257), ('codorniz', 0.3683798611164093), ('ovinho', 0.36734262108802795), ('sialata', 0.36482226848602295), ('franguinha', 0.3646126687526703), ('salsichinha', 0.3625348210334778), ('periquito', 0.36182892322540283), ('ovo', 0.3574925661087036)]\n",
      "\n",
      "\n",
      "Original word: machine\n",
      "Top 10 most similar words in pt\n",
      "[('máquina', 0.5720968842506409), ('maquina', 0.5100886225700378), ('amáquina', 0.4621122479438782), ('maquininha', 0.43916627764701843), ('damáquina', 0.432245135307312), ('máquinas', 0.4296787679195404), ('umamáquina', 0.42439964413642883), ('maquinas', 0.4178660809993744), ('máquinha', 0.415469765663147), ('maquinha', 0.41532376408576965)]\n",
      "\n",
      "\n",
      "Original word: headphones\n",
      "Top 10 most similar words in pt\n",
      "[('headphones', 0.521358847618103), ('auscultadores', 0.4823710024356842), ('headfone', 0.48021966218948364), ('auriculares', 0.46240752935409546), ('microfone', 0.4505453109741211), ('intra-auricular', 0.45048248767852783), ('biauricular', 0.44133615493774414), ('headphone', 0.4399280548095703), ('fones', 0.4386512041091919), ('intra-auriculares', 0.4382725656032562)]\n",
      "\n",
      "\n"
     ]
    }
   ],
   "source": [
    "translate(EN_WORD_LIST, 'en', 'pt')"
   ]
  },
  {
   "cell_type": "markdown",
   "id": "246e534a",
   "metadata": {},
   "source": [
    "## 4 - Translating words using intermediate languages"
   ]
  },
  {
   "cell_type": "markdown",
   "id": "9ba21e7c",
   "metadata": {},
   "source": [
    "### Getting the most similar word in each language it pass.\n",
    "Most expensive (uses most_similar multiple times) and try to aproximate a word each time."
   ]
  },
  {
   "cell_type": "code",
   "execution_count": 20,
   "id": "f0596b84",
   "metadata": {},
   "outputs": [],
   "source": [
    "def intermediate_most_similar_word(word_list, origin_lang, intermediate_lang, target_lang):\n",
    "    '''\n",
    "    Translate one word from one language to another passing by an intermediate language.\n",
    "    In this function, we use the result of the most similar word of the intermediate language to make the next translation.\n",
    "\n",
    "    Params:\n",
    "    - word_list: list of example words.\n",
    "    - origin_lang: language in which the words in word_list are written\n",
    "    - intermediate_lang: intermediate language which translation between origin_lang and target_lang passes by\n",
    "    - target_lang: language you wish to know the translation\n",
    "\n",
    "    Example of usage:\n",
    "    intermediate_most_similar_word(PT_WORD_LIST, 'es', 'pt', 'en')\n",
    "    '''\n",
    "    \n",
    "    for word in word_list:\n",
    "        print(\"Original word:\", word)\n",
    "        \n",
    "        intermediate_word = MODELS[intermediate_lang].most_similar(TRANSLATIONS[origin_lang][intermediate_lang] @ MODELS[origin_lang][word])[0][0]\n",
    "        print(\"Most similar word according to intermediate language:\", intermediate_word)\n",
    "\n",
    "        translated_language = MODELS[target_lang].most_similar(TRANSLATIONS[intermediate_lang][target_lang] @ MODELS[intermediate_lang][intermediate_word])\n",
    "        print(\"Top 10 most similar words in target language passing by the intermediate language:\")\n",
    "        print(translated_language)\n",
    "        \n",
    "        print(\"\\n\")"
   ]
  },
  {
   "cell_type": "markdown",
   "id": "9e5f3c6e",
   "metadata": {},
   "source": [
    "- Portuguese -> English -> Spanish"
   ]
  },
  {
   "cell_type": "code",
   "execution_count": 21,
   "id": "d1c8b0c7",
   "metadata": {},
   "outputs": [
    {
     "name": "stdout",
     "output_type": "stream",
     "text": [
      "Original word: sapato\n",
      "Most similar word according to intermediate language: shoes\n",
      "Top 10 most similar words in target language passing by the intermediate language:\n",
      "[('zapatos', 0.6263899803161621), ('sandalias', 0.5752242207527161), ('zapatillas', 0.5647622346878052), ('calzado', 0.535328209400177), ('botas', 0.5285427570343018), ('zapato', 0.5056540369987488), ('calcetines', 0.5011087656021118), ('chanclas', 0.499675452709198), ('calzados', 0.4985480308532715), ('tacones', 0.498035728931427)]\n",
      "\n",
      "\n",
      "Original word: flor\n",
      "Most similar word according to intermediate language: flowers\n",
      "Top 10 most similar words in target language passing by the intermediate language:\n",
      "[('flores', 0.5934178233146667), ('rosas', 0.5280625224113464), ('flor', 0.4900701344013214), ('peonías', 0.47081130743026733), ('pétalos', 0.46510791778564453), ('florales', 0.4464442729949951), ('peonias', 0.4431328773498535), ('florecitas', 0.4396395981311798), ('rosa', 0.4395676851272583), ('hortensias', 0.43930017948150635)]\n",
      "\n",
      "\n",
      "Original word: aniversário\n",
      "Most similar word according to intermediate language: birthday\n",
      "Top 10 most similar words in target language passing by the intermediate language:\n",
      "[('cumpleaños', 0.7177437543869019), ('cumpleaño', 0.609139621257782), ('Cumpleaños', 0.5539265871047974), ('cumpleañero', 0.5501390099525452), ('cumpleños', 0.5398959517478943), ('cumpleaños.El', 0.5364949107170105), ('cumpeaños', 0.536129891872406), ('cumpleañera', 0.5323783755302429), ('aniversario', 0.5165879130363464), ('fiesta', 0.5131569504737854)]\n",
      "\n",
      "\n",
      "Original word: saudades\n",
      "Most similar word according to intermediate language: memories.So\n",
      "Top 10 most similar words in target language passing by the intermediate language:\n",
      "[('recuerdos', 0.43269428610801697), ('añoranzas', 0.4153723120689392), ('recuerdos.En', 0.39531493186950684), ('Gratos', 0.3952662944793701), ('nostálgia', 0.39299720525741577), ('nostalgia', 0.3895600140094757), ('recuerdos.Un', 0.38873639702796936), ('remembranzas', 0.38736045360565186), ('recuerdos.El', 0.3849789500236511), ('Recuerdos', 0.38368409872055054)]\n",
      "\n",
      "\n"
     ]
    }
   ],
   "source": [
    "intermediate_most_similar_word(PT_WORD_LIST, 'pt', 'en', 'es')"
   ]
  },
  {
   "cell_type": "markdown",
   "id": "74244ca1",
   "metadata": {},
   "source": [
    "- Spanish -> Portuguese -> English"
   ]
  },
  {
   "cell_type": "code",
   "execution_count": 22,
   "id": "a0073786",
   "metadata": {},
   "outputs": [
    {
     "name": "stdout",
     "output_type": "stream",
     "text": [
      "Original word: hola\n",
      "Most similar word according to intermediate language: olá\n",
      "Top 10 most similar words in target language passing by the intermediate language:\n",
      "[('hello', 0.742811918258667), ('hi', 0.7183173894882202), ('hey', 0.6434046030044556), ('hellow', 0.6133357286453247), ('helllo', 0.6021028757095337), ('Hey', 0.5923214554786682), ('hello.', 0.581925094127655), ('hello-', 0.5704084038734436), ('Hello', 0.5677409172058105), ('hullo', 0.545852541923523)]\n",
      "\n",
      "\n",
      "Original word: sí\n",
      "Most similar word according to intermediate language: só\n",
      "Top 10 most similar words in target language passing by the intermediate language:\n",
      "[('if', 0.5996302366256714), ('is', 0.5058877468109131), ('it', 0.4969756603240967), ('me', 0.49583423137664795), ('But', 0.48715007305145264), ('but', 0.46752163767814636), ('ok', 0.46380290389060974), ('so', 0.4605371654033661), ('I', 0.4595421552658081), ('then', 0.458884596824646)]\n",
      "\n",
      "\n",
      "Original word: computadora\n",
      "Most similar word according to intermediate language: computador\n",
      "Top 10 most similar words in target language passing by the intermediate language:\n",
      "[('computer', 0.5166276097297668), ('computer-free', 0.4464455544948578), ('computers', 0.4207708239555359), ('computer.But', 0.4137314558029175), ('comupter', 0.4102674722671509), ('laptop', 0.40929991006851196), ('computerless', 0.40166088938713074), ('computer.So', 0.4008467197418213), ('comptuer', 0.399852991104126), ('technology-free', 0.3993435204029083)]\n",
      "\n",
      "\n",
      "Original word: país\n",
      "Most similar word according to intermediate language: país\n",
      "Top 10 most similar words in target language passing by the intermediate language:\n",
      "[('country', 0.5019223093986511), ('world', 0.4466274082660675), ('nation', 0.41187387704849243), ('country.It', 0.41009142994880676), ('country.This', 0.4053381085395813), ('today', 0.3937879502773285), ('country.That', 0.3893478214740753), ('country.Not', 0.3887481391429901), ('country.Now', 0.3842432498931885), ('continent', 0.38281548023223877)]\n",
      "\n",
      "\n"
     ]
    }
   ],
   "source": [
    "intermediate_most_similar_word(ES_WORD_LIST, 'es', 'pt', 'en')"
   ]
  },
  {
   "cell_type": "markdown",
   "id": "9842db97",
   "metadata": {},
   "source": [
    "- English -> Spanish -> Portuguese"
   ]
  },
  {
   "cell_type": "code",
   "execution_count": 23,
   "id": "7fc536b1",
   "metadata": {},
   "outputs": [
    {
     "name": "stdout",
     "output_type": "stream",
     "text": [
      "Original word: specification\n",
      "Most similar word according to intermediate language: especificación\n",
      "Top 10 most similar words in target language passing by the intermediate language:\n",
      "[('especificação', 0.5770426988601685), ('descrição', 0.48494386672973633), ('exaustividade', 0.480832040309906), ('defnição', 0.46489545702934265), ('especificada', 0.4457739293575287), ('especicação', 0.44558510184288025), ('definição', 0.4376484751701355), ('especifica-se', 0.43385618925094604), ('especíca', 0.4337528645992279), ('detalhada', 0.43155232071876526)]\n",
      "\n",
      "\n",
      "Original word: book\n",
      "Most similar word according to intermediate language: libro\n",
      "Top 10 most similar words in target language passing by the intermediate language:\n",
      "[('livro', 0.8113560676574707), ('livrinho', 0.6657062768936157), ('livro.O', 0.6563439965248108), ('livroO', 0.6342556476593018), ('olivro', 0.6276281476020813), ('livro.E', 0.6218340992927551), ('umlivro', 0.6172230839729309), ('livro.Este', 0.6154317259788513), ('livro.É', 0.6153855323791504), ('livro-', 0.6055954694747925)]\n",
      "\n",
      "\n",
      "Original word: duckling\n",
      "Most similar word according to intermediate language: pollito\n",
      "Top 10 most similar words in target language passing by the intermediate language:\n",
      "[('ovinho', 0.5618058443069458), ('ovo', 0.5472557544708252), ('pintinho', 0.5460330843925476), ('filhote', 0.5449101328849792), ('franguinho', 0.5226143002510071), ('peruzinho', 0.5156515836715698), ('filhotinho', 0.5154445767402649), ('pintainho', 0.5079324841499329), ('doguinho', 0.5050595998764038), ('filhotão', 0.5022161602973938)]\n",
      "\n",
      "\n",
      "Original word: machine\n",
      "Most similar word according to intermediate language: máquina\n",
      "Top 10 most similar words in target language passing by the intermediate language:\n",
      "[('máquina', 0.6713763475418091), ('amáquina', 0.6027435064315796), ('umamáquina', 0.5961815714836121), ('damáquina', 0.5807504653930664), ('maquina', 0.5736932158470154), ('máquinha', 0.5278406143188477), ('super-máquina', 0.511657178401947), ('supermáquina', 0.5110520720481873), ('operatriz', 0.5106410980224609), ('máquininha', 0.5046302676200867)]\n",
      "\n",
      "\n",
      "Original word: headphones\n",
      "Most similar word according to intermediate language: auriculares\n",
      "Top 10 most similar words in target language passing by the intermediate language:\n",
      "[('auscultadores', 0.6119773387908936), ('headphones', 0.5935971736907959), ('auriculares', 0.5302339792251587), ('headfone', 0.5203595161437988), ('headfones', 0.5185889005661011), ('headsets', 0.5017395615577698), ('intra-auriculares', 0.49791136384010315), ('microfone', 0.493081271648407), ('earbuds', 0.48954421281814575), ('in-ear', 0.4883870780467987)]\n",
      "\n",
      "\n"
     ]
    }
   ],
   "source": [
    "intermediate_most_similar_word(EN_WORD_LIST, 'en', 'es', 'pt')"
   ]
  },
  {
   "cell_type": "markdown",
   "id": "340e25f7",
   "metadata": {},
   "source": [
    "### Using the vector transformed to each subspace.\n",
    "Uses most_similar and try to approximate the word just one time."
   ]
  },
  {
   "cell_type": "code",
   "execution_count": 24,
   "id": "fd051d79",
   "metadata": {},
   "outputs": [],
   "source": [
    "def intermediate_most_similar_vector(word_list, origin_lang, intermediate_lang, target_lang):\n",
    "    '''\n",
    "    Translate one word from one language to another passing by an intermediate language.\n",
    "    In this function, we use the result of the vector of the translation passing by the intermediate language to make the next translation.\n",
    "\n",
    "    Params:\n",
    "    - word_list: list of example words.\n",
    "    - origin_lang: language in which the words in word_list are written\n",
    "    - intermediate_lang: intermediate language which translation between origin_lang and target_lang passes by\n",
    "    - target_lang: language you wish to know the translation\n",
    "\n",
    "    Example of usage:\n",
    "    intermediate_most_similar_vector(PT_WORD_LIST, 'es', 'pt', 'en')\n",
    "    '''\n",
    "    \n",
    "    for word in word_list:\n",
    "        print(\"Original word:\", word)\n",
    "\n",
    "        intermediate_vector = TRANSLATIONS[origin_lang][intermediate_lang] @ MODELS[origin_lang][word]\n",
    "        translated_vector = MODELS[target_lang].most_similar(TRANSLATIONS[intermediate_lang][target_lang] @ intermediate_vector)\n",
    "        \n",
    "        print(\"Top 10 most similar words in target language passing by the intermediate language:\")\n",
    "        print(translated_vector)\n",
    "        print(\"\\n\")"
   ]
  },
  {
   "cell_type": "markdown",
   "id": "2a173201",
   "metadata": {},
   "source": [
    "- Portuguese -> English -> Spanish"
   ]
  },
  {
   "cell_type": "code",
   "execution_count": 25,
   "id": "161a58ff",
   "metadata": {},
   "outputs": [
    {
     "name": "stdout",
     "output_type": "stream",
     "text": [
      "Original word: sapato\n",
      "Top 10 most similar words in target language passing by the intermediate language:\n",
      "[('zapato', 0.4852682948112488), ('abriguito', 0.48036426305770874), ('abrigo', 0.4550402760505676), ('zapatos', 0.44505050778388977), ('bolso', 0.4423503279685974), ('vestido', 0.43324363231658936), ('calzado', 0.4223168194293976), ('atuendo', 0.4210219979286194), ('mocasin', 0.4204149544239044), ('pantalon', 0.42025434970855713)]\n",
      "\n",
      "\n",
      "Original word: flor\n",
      "Top 10 most similar words in target language passing by the intermediate language:\n",
      "[('flor', 0.5238182544708252), ('peonia', 0.45686599612236023), ('rosa', 0.4424068331718445), ('rosaY', 0.4367314279079437), ('florecilla', 0.4352421462535858), ('rosaa', 0.4348652958869934), ('peonía', 0.4337921440601349), ('rosay', 0.42707061767578125), ('rosa.La', 0.4266868531703949), ('azalea', 0.4165915250778198)]\n",
      "\n",
      "\n",
      "Original word: aniversário\n",
      "Top 10 most similar words in target language passing by the intermediate language:\n",
      "[('cumpleaños', 0.6201145648956299), ('cumpleaño', 0.5660543441772461), ('cumpleños', 0.5178355574607849), ('cumpleaños.El', 0.5146936774253845), ('cumpeaños', 0.5024316906929016), ('aniversario', 0.4999723434448242), ('cumpleaños.La', 0.49408456683158875), ('festejar', 0.4826386868953705), ('Cumpleaños', 0.47791731357574463), ('cumpleaños.En', 0.47714895009994507)]\n",
      "\n",
      "\n",
      "Original word: saudades\n",
      "Top 10 most similar words in target language passing by the intermediate language:\n",
      "[('fatiguitas', 0.4537099599838257), ('entrañables', 0.42535364627838135), ('tardes', 0.42205116152763367), ('añoranza', 0.4196627736091614), ('añoro', 0.40980544686317444), ('nostálgia', 0.4092080593109131), ('morriñas', 0.4035762548446655), ('nostalgia', 0.40039417147636414), ('amigo.A', 0.400359183549881), ('llantinas', 0.39766958355903625)]\n",
      "\n",
      "\n"
     ]
    }
   ],
   "source": [
    "intermediate_most_similar_vector(PT_WORD_LIST, 'pt', 'en', 'es')"
   ]
  },
  {
   "cell_type": "markdown",
   "id": "bbc0af35",
   "metadata": {},
   "source": [
    "- Spanish -> Portuguese -> English"
   ]
  },
  {
   "cell_type": "code",
   "execution_count": 26,
   "id": "2788b6c1",
   "metadata": {},
   "outputs": [
    {
     "name": "stdout",
     "output_type": "stream",
     "text": [
      "Original word: hola\n",
      "Top 10 most similar words in target language passing by the intermediate language:\n",
      "[('hello', 0.6747809052467346), ('hi', 0.6701148748397827), ('hey', 0.6180011630058289), ('Hey', 0.5616871118545532), ('helllo', 0.5605097413063049), ('hellow', 0.5472829937934875), ('Hello', 0.5435895323753357), ('hello.', 0.5293959975242615), ('heyyy', 0.5248358249664307), ('hellooooo', 0.5165208578109741)]\n",
      "\n",
      "\n",
      "Original word: sí\n",
      "Top 10 most similar words in target language passing by the intermediate language:\n",
      "[('if', 0.529298722743988), ('is', 0.49316665530204773), ('But', 0.47112709283828735), ('it', 0.4664361774921417), ('but', 0.46566009521484375), ('And', 0.44414767622947693), ('so', 0.44141972064971924), ('ok', 0.44055530428886414), ('correct.But', 0.43578124046325684), ('So', 0.4329026937484741)]\n",
      "\n",
      "\n",
      "Original word: computadora\n",
      "Top 10 most similar words in target language passing by the intermediate language:\n",
      "[('computer', 0.4913015365600586), ('computers', 0.44491007924079895), ('computer.But', 0.41835182905197144), ('comptuer', 0.4076521694660187), ('cellphone', 0.4022102952003479), ('comupter', 0.3996540307998657), ('computer-free', 0.3995872139930725), ('computer.And', 0.39836302399635315), ('compuer', 0.3978736102581024), ('lab', 0.3904661536216736)]\n",
      "\n",
      "\n",
      "Original word: país\n",
      "Top 10 most similar words in target language passing by the intermediate language:\n",
      "[('country', 0.4434465169906616), ('region', 0.4018947184085846), ('world', 0.3890429139137268), ('Africa.So', 0.3889275789260864), ('country.What', 0.3679272532463074), ('Australia.So', 0.36611655354499817), ('country.It', 0.36287370324134827), ('country.So', 0.36201393604278564), ('continent', 0.3585866093635559), ('southern', 0.35839247703552246)]\n",
      "\n",
      "\n"
     ]
    }
   ],
   "source": [
    "intermediate_most_similar_vector(ES_WORD_LIST, 'es', 'pt', 'en')"
   ]
  },
  {
   "cell_type": "markdown",
   "id": "e3e0fd3f",
   "metadata": {},
   "source": [
    "- English -> Spanish -> Portuguese"
   ]
  },
  {
   "cell_type": "code",
   "execution_count": 27,
   "id": "d9859e6d",
   "metadata": {},
   "outputs": [
    {
     "name": "stdout",
     "output_type": "stream",
     "text": [
      "Original word: specification\n",
      "Top 10 most similar words in target language passing by the intermediate language:\n",
      "[('especificação', 0.41693899035453796), ('formulário-padrão', 0.36281949281692505), ('defnição', 0.3521471619606018), ('equivalência', 0.3481849730014801), ('justificase', 0.34663113951683044), ('conformidade', 0.3437771797180176), ('modelo-padrão', 0.3421115279197693), ('CERTICS', 0.3400566875934601), ('certiﬁcação', 0.33947134017944336), ('pauta-se', 0.338617742061615)]\n",
      "\n",
      "\n",
      "Original word: book\n",
      "Top 10 most similar words in target language passing by the intermediate language:\n",
      "[('livro', 0.6437900066375732), ('livroA', 0.5496819615364075), ('livroO', 0.5448164939880371), ('livro.O', 0.5299033522605896), ('umlivro', 0.526361346244812), ('livrinho', 0.522763729095459), ('leitura', 0.5122231841087341), ('livros', 0.5119393467903137), ('livrode', 0.5046753883361816), ('olivro', 0.5027450919151306)]\n",
      "\n",
      "\n",
      "Original word: duckling\n",
      "Top 10 most similar words in target language passing by the intermediate language:\n",
      "[('filhote', 0.3888399600982666), ('ovinho', 0.38775312900543213), ('sialata', 0.38563278317451477), ('gatito', 0.37663260102272034), ('franguinho', 0.375031977891922), ('caozinho', 0.36948609352111816), ('casquinho', 0.36700519919395447), ('Filhote', 0.3664189875125885), ('galinho', 0.36262696981430054), ('cavaquinha', 0.36258625984191895)]\n",
      "\n",
      "\n",
      "Original word: machine\n",
      "Top 10 most similar words in target language passing by the intermediate language:\n",
      "[('máquina', 0.5514659881591797), ('amáquina', 0.47763583064079285), ('maquina', 0.4719862937927246), ('supermáquina', 0.4487351179122925), ('cafeteira', 0.42823758721351624), ('operatriz', 0.42632636427879333), ('Krups', 0.42605212330818176), ('damáquina', 0.42504552006721497), ('máquinas', 0.41896191239356995), ('super-máquina', 0.41453129053115845)]\n",
      "\n",
      "\n",
      "Original word: headphones\n",
      "Top 10 most similar words in target language passing by the intermediate language:\n",
      "[('headphones', 0.5681598782539368), ('auscultadores', 0.537354588508606), ('auriculares', 0.5015093088150024), ('headfone', 0.5002238154411316), ('biauricular', 0.4792627990245819), ('intra-auricular', 0.4760453402996063), ('headphone', 0.4721025228500366), ('ipod', 0.46814683079719543), ('phones', 0.4603726267814636), ('intra-auriculares', 0.4585338532924652)]\n",
      "\n",
      "\n"
     ]
    }
   ],
   "source": [
    "intermediate_most_similar_vector(EN_WORD_LIST, 'en', 'es', 'pt')"
   ]
  },
  {
   "cell_type": "markdown",
   "id": "99f3cca3",
   "metadata": {},
   "source": [
    "## 5 - Evaluating"
   ]
  },
  {
   "cell_type": "markdown",
   "id": "460e30dd",
   "metadata": {},
   "source": [
    "Theorically speaking, translating the vector that one sentence represents to another should result in a similar sentence. For that purpose, we evaluate our results using the cosine similarity, which range is from -1 to 1."
   ]
  },
  {
   "cell_type": "code",
   "execution_count": 28,
   "id": "78446c3f",
   "metadata": {},
   "outputs": [],
   "source": [
    "def evaluate_single_cosine_similarity(origin_lang, target_lang):\n",
    "    '''\n",
    "    Evaluate cosine similarity between single sentences.\n",
    "    Cosine similarity has an interval from -1 to 1, and the closer to 1 the value is, more similar the params are.\n",
    "\n",
    "    Params:\n",
    "    - origin_lang: language in which the words in word_list are written\n",
    "    - target_lang: language you wish to know the translation\n",
    "\n",
    "    Example of usage:\n",
    "    evaluate_single_cosine_similarity('pt', 'en')\n",
    "    '''\n",
    "    \n",
    "    for index in range(5):\n",
    "        print(TEST_SET[origin_lang][index][0], '->', TEST_SET[target_lang][index][0])\n",
    "\n",
    "        vector_translated = TRANSLATIONS[origin_lang][target_lang] @ TEST_SET[origin_lang][index][1]\n",
    "        vector_target = TEST_SET[target_lang][index][1]\n",
    "\n",
    "        print(\"Cossine similarity:\", cosine_similarity([vector_translated], [vector_target])[0][0], \"\\n\")"
   ]
  },
  {
   "cell_type": "markdown",
   "id": "ffb53fcd",
   "metadata": {},
   "source": [
    "- Portuguese -> English"
   ]
  },
  {
   "cell_type": "code",
   "execution_count": 29,
   "id": "b7457740",
   "metadata": {},
   "outputs": [
    {
     "name": "stdout",
     "output_type": "stream",
     "text": [
      "recomenda um restaurante com preços médios -> recommend a restaurant with medium expense\n",
      "Cossine similarity: 0.7970548 \n",
      "\n",
      "recomenda um evento de rancho folclórico na área do grande porto esta semana -> recommend a blue grass band event within twenty miles of manchester ma this week\n",
      "Cossine similarity: 0.8172929 \n",
      "\n",
      "que eventos há a acontecer no porto -> what events are going on in new york city\n",
      "Cossine similarity: 0.80422217 \n",
      "\n",
      "que filmes estão em exibição neste momento -> what movies are playing right now\n",
      "Cossine similarity: 0.6743865 \n",
      "\n",
      "o que sugeres que eu veja este fim de semana -> what do you suggest that i watch this weekend\n",
      "Cossine similarity: 0.88288456 \n",
      "\n"
     ]
    }
   ],
   "source": [
    "evaluate_single_cosine_similarity('pt', 'en')"
   ]
  },
  {
   "cell_type": "markdown",
   "id": "ac78c26e",
   "metadata": {},
   "source": [
    "- Portuguese -> Spanish"
   ]
  },
  {
   "cell_type": "code",
   "execution_count": 30,
   "id": "d7e394f7",
   "metadata": {},
   "outputs": [
    {
     "name": "stdout",
     "output_type": "stream",
     "text": [
      "recomenda um restaurante com preços médios -> recomendar un restaurante con gasto medio\n",
      "Cossine similarity: 0.87046856 \n",
      "\n",
      "recomenda um evento de rancho folclórico na área do grande porto esta semana -> recomendar un evento de blue grass banda dentro de veinte millas de manchester esta semana\n",
      "Cossine similarity: 0.8474541 \n",
      "\n",
      "que eventos há a acontecer no porto -> qué eventos se celebran en la ciudad de nueva york\n",
      "Cossine similarity: 0.7752107 \n",
      "\n",
      "que filmes estão em exibição neste momento -> qué películas dan ahora\n",
      "Cossine similarity: 0.5479336 \n",
      "\n",
      "o que sugeres que eu veja este fim de semana -> qué sugieres que vea este fin de semana\n",
      "Cossine similarity: 0.8268164 \n",
      "\n"
     ]
    }
   ],
   "source": [
    "evaluate_single_cosine_similarity('pt', 'es')"
   ]
  },
  {
   "cell_type": "markdown",
   "id": "29a56e65",
   "metadata": {},
   "source": [
    "- English -> Spanish"
   ]
  },
  {
   "cell_type": "code",
   "execution_count": 31,
   "id": "cf664a8a",
   "metadata": {},
   "outputs": [
    {
     "name": "stdout",
     "output_type": "stream",
     "text": [
      "recommend a restaurant with medium expense -> recomendar un restaurante con gasto medio\n",
      "Cossine similarity: 0.86160165 \n",
      "\n",
      "recommend a blue grass band event within twenty miles of manchester ma this week -> recomendar un evento de blue grass banda dentro de veinte millas de manchester esta semana\n",
      "Cossine similarity: 0.87208486 \n",
      "\n",
      "what events are going on in new york city -> qué eventos se celebran en la ciudad de nueva york\n",
      "Cossine similarity: 0.8317412 \n",
      "\n",
      "what movies are playing right now -> qué películas dan ahora\n",
      "Cossine similarity: 0.7508562 \n",
      "\n",
      "what do you suggest that i watch this weekend -> qué sugieres que vea este fin de semana\n",
      "Cossine similarity: 0.8020289 \n",
      "\n"
     ]
    }
   ],
   "source": [
    "evaluate_single_cosine_similarity('en', 'es')"
   ]
  },
  {
   "cell_type": "markdown",
   "id": "e4ad78e8",
   "metadata": {},
   "source": [
    "### Avaliating path\n",
    "We use the following metrics for that purpose:\n",
    "- Cosine similarity\n",
    "- Euclidean distance\n",
    "- Manhattan distance"
   ]
  },
  {
   "cell_type": "code",
   "execution_count": 32,
   "id": "cc908230",
   "metadata": {},
   "outputs": [],
   "source": [
    "def pairwise(iterable):\n",
    "    '''\n",
    "    Return successive overlapping pairs taken from the input iterable.\n",
    "    The number of 2-tuples in the output iterator will be one fewer than the number of inputs. \n",
    "    It will be empty if the input iterable has fewer than two values.\n",
    "    pairwise('ABCDEFG') --> AB BC CD DE EF FG\n",
    "\n",
    "    Source: https://docs.python.org/3/library/itertools.html#itertools.pairwise\n",
    "    '''\n",
    "    a, b = it.tee(iterable)\n",
    "    next(b, None)\n",
    "    return zip(a, b)"
   ]
  },
  {
   "cell_type": "code",
   "execution_count": 42,
   "id": "426214bb",
   "metadata": {},
   "outputs": [],
   "source": [
    "def avaliate_path(path):\n",
    "    '''\n",
    "    Avaliate the translation path using cosine similarity, euclidean distance and manhattan distance.\n",
    "\n",
    "    Params:\n",
    "    - path: path of desired translation\n",
    "    \n",
    "    Return:\n",
    "    - Score of each avaliation method\n",
    "    \n",
    "    Example of usage:\n",
    "    avaliate_path(['pt', 'en', 'es'])\n",
    "    '''\n",
    "    \n",
    "    #return (1, 1, 1) #using for test only\n",
    "    translation_matrix = np.identity(300)\n",
    "\n",
    "    for (origin, target) in pairwise(path):\n",
    "        translation_matrix = TRANSLATIONS[origin][target] @ translation_matrix\n",
    "    \n",
    "    vectors = [translation_matrix @ v for _, v in TEST_SET[path[0]] ]\n",
    "    vectors_target = [v for _, v in TEST_SET[path[-1]]]\n",
    "    \n",
    "    mean_cos_sim = sum([cosine_similarity([v1], [v2]) for v1, v2 in zip(vectors, vectors_target)])/ len(vectors)\n",
    "    mean_euc_dist = sum([euclidean_distances([v1], [v2]) for v1, v2 in zip(vectors, vectors_target)])/ len(vectors)\n",
    "    mean_man_dist = sum([manhattan_distances([v1], [v2]) for v1, v2 in zip(vectors, vectors_target)])/ len(vectors)\n",
    "    \n",
    "    return mean_cos_sim[0][0], mean_euc_dist[0][0], mean_man_dist[0][0]"
   ]
  },
  {
   "cell_type": "code",
   "execution_count": 43,
   "id": "4005bbfd",
   "metadata": {},
   "outputs": [],
   "source": [
    "def avaliate_possible_paths(languages):\n",
    "    '''\n",
    "    Avaliate possible paths from first to last language on the list, changing the languages in the middle\n",
    "    \n",
    "    Params:\n",
    "    - languages: list of languages\n",
    "    \n",
    "    Return:\n",
    "    - Dataframe with the score of each path on cossine similarity, euclidean distance and manhattan distance\n",
    "    \n",
    "    Example of usage:\n",
    "    avaliate_paths(['pt', 'en', 'es'])\n",
    "    '''\n",
    "    \n",
    "    start = languages[0]\n",
    "    end = languages[-1]\n",
    "    \n",
    "    paths = [[start, end]]\n",
    "    for i in range(len(languages) -2 ):\n",
    "        for comb in it.combinations(languages[1:-1], i+1):\n",
    "            paths.append([start] + list(comb) + [end])\n",
    "    \n",
    "    scores = [avaliate_path(p) for p in paths]\n",
    "    index = [ ' -> '.join(p) for p in paths]\n",
    "    return pd.DataFrame(data=scores, columns=['Cosine Similarity', 'Euclidean Distance', 'Manhattan Distance'], index=index)\n"
   ]
  },
  {
   "cell_type": "markdown",
   "id": "866007a0",
   "metadata": {},
   "source": [
    "## 6 - Experiments"
   ]
  },
  {
   "cell_type": "code",
   "execution_count": 44,
   "id": "87cdbe7d",
   "metadata": {},
   "outputs": [
    {
     "data": {
      "image/jpeg": "[encoded data removed]",
      "text/plain": [
       "<IPython.core.display.Image object>"
      ]
     },
     "metadata": {},
     "output_type": "display_data"
    }
   ],
   "source": [
    "display(Image(filename = 'Images/proto-indo-european.jpg'))"
   ]
  },
  {
   "cell_type": "markdown",
   "id": "ef2c8082",
   "metadata": {},
   "source": [
    "### Experiment #1: Portuguese - English - Spanish\n",
    "In this experiment, we intend to evaluate how good is a translation between two languages from the Latin group, such as Portuguese and Spanish, and if adding a language from an outer group, such as English from the West Germanic, affects the quality of the translation."
   ]
  },
  {
   "cell_type": "code",
   "execution_count": 45,
   "id": "b908b884",
   "metadata": {},
   "outputs": [
    {
     "data": {
      "text/html": [
       "<div>\n",
       "<style scoped>\n",
       "    .dataframe tbody tr th:only-of-type {\n",
       "        vertical-align: middle;\n",
       "    }\n",
       "\n",
       "    .dataframe tbody tr th {\n",
       "        vertical-align: top;\n",
       "    }\n",
       "\n",
       "    .dataframe thead th {\n",
       "        text-align: right;\n",
       "    }\n",
       "</style>\n",
       "<table border=\"1\" class=\"dataframe\">\n",
       "  <thead>\n",
       "    <tr style=\"text-align: right;\">\n",
       "      <th></th>\n",
       "      <th>Cosine Similarity</th>\n",
       "      <th>Euclidean Distance</th>\n",
       "      <th>Manhattan Distance</th>\n",
       "    </tr>\n",
       "  </thead>\n",
       "  <tbody>\n",
       "    <tr>\n",
       "      <th>pt -&gt; es</th>\n",
       "      <td>0.750518</td>\n",
       "      <td>3.95444</td>\n",
       "      <td>49.712066</td>\n",
       "    </tr>\n",
       "    <tr>\n",
       "      <th>pt -&gt; en -&gt; es</th>\n",
       "      <td>0.722473</td>\n",
       "      <td>4.17853</td>\n",
       "      <td>54.014994</td>\n",
       "    </tr>\n",
       "  </tbody>\n",
       "</table>\n",
       "</div>"
      ],
      "text/plain": [
       "                Cosine Similarity  Euclidean Distance  Manhattan Distance\n",
       "pt -> es                 0.750518             3.95444           49.712066\n",
       "pt -> en -> es           0.722473             4.17853           54.014994"
      ]
     },
     "execution_count": 45,
     "metadata": {},
     "output_type": "execute_result"
    }
   ],
   "source": [
    "exp1 = avaliate_possible_paths(['pt', 'en', 'es'])\n",
    "exp1"
   ]
  },
  {
   "cell_type": "markdown",
   "id": "9cf2bb3d",
   "metadata": {},
   "source": [
    "### Experiment #2: Portuguese - Spanish - French - Italian - Romanian\n",
    "In this experiment, we intend to evaluate translations between multiple languages from the same Latin group."
   ]
  },
  {
   "cell_type": "code",
   "execution_count": 47,
   "id": "2dfa460b",
   "metadata": {
    "scrolled": true
   },
   "outputs": [
    {
     "data": {
      "text/html": [
       "<div>\n",
       "<style scoped>\n",
       "    .dataframe tbody tr th:only-of-type {\n",
       "        vertical-align: middle;\n",
       "    }\n",
       "\n",
       "    .dataframe tbody tr th {\n",
       "        vertical-align: top;\n",
       "    }\n",
       "\n",
       "    .dataframe thead th {\n",
       "        text-align: right;\n",
       "    }\n",
       "</style>\n",
       "<table border=\"1\" class=\"dataframe\">\n",
       "  <thead>\n",
       "    <tr style=\"text-align: right;\">\n",
       "      <th></th>\n",
       "      <th>Cosine Similarity</th>\n",
       "      <th>Euclidean Distance</th>\n",
       "      <th>Manhattan Distance</th>\n",
       "    </tr>\n",
       "  </thead>\n",
       "  <tbody>\n",
       "    <tr>\n",
       "      <th>pt -&gt; es</th>\n",
       "      <td>0.750518</td>\n",
       "      <td>3.954440</td>\n",
       "      <td>49.712066</td>\n",
       "    </tr>\n",
       "    <tr>\n",
       "      <th>pt -&gt; fr -&gt; es</th>\n",
       "      <td>0.734747</td>\n",
       "      <td>4.065414</td>\n",
       "      <td>51.722281</td>\n",
       "    </tr>\n",
       "    <tr>\n",
       "      <th>pt -&gt; it -&gt; es</th>\n",
       "      <td>0.736420</td>\n",
       "      <td>4.045300</td>\n",
       "      <td>51.279482</td>\n",
       "    </tr>\n",
       "    <tr>\n",
       "      <th>pt -&gt; ro -&gt; es</th>\n",
       "      <td>0.723913</td>\n",
       "      <td>4.162426</td>\n",
       "      <td>53.563510</td>\n",
       "    </tr>\n",
       "    <tr>\n",
       "      <th>pt -&gt; fr -&gt; it -&gt; es</th>\n",
       "      <td>0.724742</td>\n",
       "      <td>4.128758</td>\n",
       "      <td>52.802810</td>\n",
       "    </tr>\n",
       "    <tr>\n",
       "      <th>pt -&gt; fr -&gt; ro -&gt; es</th>\n",
       "      <td>0.713453</td>\n",
       "      <td>4.216944</td>\n",
       "      <td>54.353191</td>\n",
       "    </tr>\n",
       "    <tr>\n",
       "      <th>pt -&gt; it -&gt; ro -&gt; es</th>\n",
       "      <td>0.715252</td>\n",
       "      <td>4.208782</td>\n",
       "      <td>54.251189</td>\n",
       "    </tr>\n",
       "    <tr>\n",
       "      <th>pt -&gt; fr -&gt; it -&gt; ro -&gt; es</th>\n",
       "      <td>0.705802</td>\n",
       "      <td>4.269050</td>\n",
       "      <td>55.161047</td>\n",
       "    </tr>\n",
       "  </tbody>\n",
       "</table>\n",
       "</div>"
      ],
      "text/plain": [
       "                            Cosine Similarity  Euclidean Distance  \\\n",
       "pt -> es                             0.750518            3.954440   \n",
       "pt -> fr -> es                       0.734747            4.065414   \n",
       "pt -> it -> es                       0.736420            4.045300   \n",
       "pt -> ro -> es                       0.723913            4.162426   \n",
       "pt -> fr -> it -> es                 0.724742            4.128758   \n",
       "pt -> fr -> ro -> es                 0.713453            4.216944   \n",
       "pt -> it -> ro -> es                 0.715252            4.208782   \n",
       "pt -> fr -> it -> ro -> es           0.705802            4.269050   \n",
       "\n",
       "                            Manhattan Distance  \n",
       "pt -> es                             49.712066  \n",
       "pt -> fr -> es                       51.722281  \n",
       "pt -> it -> es                       51.279482  \n",
       "pt -> ro -> es                       53.563510  \n",
       "pt -> fr -> it -> es                 52.802810  \n",
       "pt -> fr -> ro -> es                 54.353191  \n",
       "pt -> it -> ro -> es                 54.251189  \n",
       "pt -> fr -> it -> ro -> es           55.161047  "
      ]
     },
     "execution_count": 47,
     "metadata": {},
     "output_type": "execute_result"
    }
   ],
   "source": [
    "df = avaliate_possible_paths(['pt', 'fr', 'it', 'ro', 'es'])\n",
    "df"
   ]
  },
  {
   "cell_type": "markdown",
   "id": "169d14de",
   "metadata": {},
   "source": [
    "> Adding a test with English in the middle"
   ]
  },
  {
   "cell_type": "code",
   "execution_count": 48,
   "id": "d2b4164d",
   "metadata": {},
   "outputs": [
    {
     "data": {
      "text/html": [
       "<div>\n",
       "<style scoped>\n",
       "    .dataframe tbody tr th:only-of-type {\n",
       "        vertical-align: middle;\n",
       "    }\n",
       "\n",
       "    .dataframe tbody tr th {\n",
       "        vertical-align: top;\n",
       "    }\n",
       "\n",
       "    .dataframe thead th {\n",
       "        text-align: right;\n",
       "    }\n",
       "</style>\n",
       "<table border=\"1\" class=\"dataframe\">\n",
       "  <thead>\n",
       "    <tr style=\"text-align: right;\">\n",
       "      <th></th>\n",
       "      <th>Cosine Similarity</th>\n",
       "      <th>Euclidean Distance</th>\n",
       "      <th>Manhattan Distance</th>\n",
       "    </tr>\n",
       "  </thead>\n",
       "  <tbody>\n",
       "    <tr>\n",
       "      <th>pt -&gt; es</th>\n",
       "      <td>0.750518</td>\n",
       "      <td>3.954440</td>\n",
       "      <td>49.712066</td>\n",
       "    </tr>\n",
       "    <tr>\n",
       "      <th>pt -&gt; fr -&gt; es</th>\n",
       "      <td>0.734747</td>\n",
       "      <td>4.065414</td>\n",
       "      <td>51.722281</td>\n",
       "    </tr>\n",
       "    <tr>\n",
       "      <th>pt -&gt; it -&gt; es</th>\n",
       "      <td>0.736420</td>\n",
       "      <td>4.045300</td>\n",
       "      <td>51.279482</td>\n",
       "    </tr>\n",
       "    <tr>\n",
       "      <th>pt -&gt; ro -&gt; es</th>\n",
       "      <td>0.723913</td>\n",
       "      <td>4.162426</td>\n",
       "      <td>53.563510</td>\n",
       "    </tr>\n",
       "    <tr>\n",
       "      <th>pt -&gt; fr -&gt; it -&gt; es</th>\n",
       "      <td>0.724742</td>\n",
       "      <td>4.128758</td>\n",
       "      <td>52.802810</td>\n",
       "    </tr>\n",
       "    <tr>\n",
       "      <th>pt -&gt; fr -&gt; ro -&gt; es</th>\n",
       "      <td>0.713453</td>\n",
       "      <td>4.216944</td>\n",
       "      <td>54.353191</td>\n",
       "    </tr>\n",
       "    <tr>\n",
       "      <th>pt -&gt; it -&gt; ro -&gt; es</th>\n",
       "      <td>0.715252</td>\n",
       "      <td>4.208782</td>\n",
       "      <td>54.251189</td>\n",
       "    </tr>\n",
       "    <tr>\n",
       "      <th>pt -&gt; fr -&gt; it -&gt; ro -&gt; es</th>\n",
       "      <td>0.705802</td>\n",
       "      <td>4.269050</td>\n",
       "      <td>55.161047</td>\n",
       "    </tr>\n",
       "    <tr>\n",
       "      <th>pt -&gt; fr -&gt; it -&gt; en -&gt; ro -&gt; es</th>\n",
       "      <td>0.692582</td>\n",
       "      <td>4.369908</td>\n",
       "      <td>56.852263</td>\n",
       "    </tr>\n",
       "  </tbody>\n",
       "</table>\n",
       "</div>"
      ],
      "text/plain": [
       "                                  Cosine Similarity  Euclidean Distance  \\\n",
       "pt -> es                                   0.750518            3.954440   \n",
       "pt -> fr -> es                             0.734747            4.065414   \n",
       "pt -> it -> es                             0.736420            4.045300   \n",
       "pt -> ro -> es                             0.723913            4.162426   \n",
       "pt -> fr -> it -> es                       0.724742            4.128758   \n",
       "pt -> fr -> ro -> es                       0.713453            4.216944   \n",
       "pt -> it -> ro -> es                       0.715252            4.208782   \n",
       "pt -> fr -> it -> ro -> es                 0.705802            4.269050   \n",
       "pt -> fr -> it -> en -> ro -> es           0.692582            4.369908   \n",
       "\n",
       "                                  Manhattan Distance  \n",
       "pt -> es                                   49.712066  \n",
       "pt -> fr -> es                             51.722281  \n",
       "pt -> it -> es                             51.279482  \n",
       "pt -> ro -> es                             53.563510  \n",
       "pt -> fr -> it -> es                       52.802810  \n",
       "pt -> fr -> ro -> es                       54.353191  \n",
       "pt -> it -> ro -> es                       54.251189  \n",
       "pt -> fr -> it -> ro -> es                 55.161047  \n",
       "pt -> fr -> it -> en -> ro -> es           56.852263  "
      ]
     },
     "execution_count": 48,
     "metadata": {},
     "output_type": "execute_result"
    }
   ],
   "source": [
    "path = ['pt', 'fr', 'it', 'en', 'ro', 'es']\n",
    "df2 = pd.DataFrame(data=[avaliate_path(path)], index=[' -> '.join(path)], columns=df.columns)\n",
    "exp2 = pd.concat([df, df2])\n",
    "exp2"
   ]
  },
  {
   "cell_type": "markdown",
   "id": "4e11951d",
   "metadata": {},
   "source": [
    "### Experiment #3: English - German - Swedish - Dutch - Danish\n",
    "In this experiment, we intend to evaluate translations between multiple languages from the same Germanic group."
   ]
  },
  {
   "cell_type": "code",
   "execution_count": 50,
   "id": "d77458df",
   "metadata": {},
   "outputs": [
    {
     "data": {
      "text/html": [
       "<div>\n",
       "<style scoped>\n",
       "    .dataframe tbody tr th:only-of-type {\n",
       "        vertical-align: middle;\n",
       "    }\n",
       "\n",
       "    .dataframe tbody tr th {\n",
       "        vertical-align: top;\n",
       "    }\n",
       "\n",
       "    .dataframe thead th {\n",
       "        text-align: right;\n",
       "    }\n",
       "</style>\n",
       "<table border=\"1\" class=\"dataframe\">\n",
       "  <thead>\n",
       "    <tr style=\"text-align: right;\">\n",
       "      <th></th>\n",
       "      <th>Cosine Similarity</th>\n",
       "      <th>Euclidean Distance</th>\n",
       "      <th>Manhattan Distance</th>\n",
       "    </tr>\n",
       "  </thead>\n",
       "  <tbody>\n",
       "    <tr>\n",
       "      <th>en -&gt; de</th>\n",
       "      <td>0.738375</td>\n",
       "      <td>4.653678</td>\n",
       "      <td>60.131162</td>\n",
       "    </tr>\n",
       "    <tr>\n",
       "      <th>en -&gt; sv -&gt; de</th>\n",
       "      <td>0.726242</td>\n",
       "      <td>4.735488</td>\n",
       "      <td>61.697789</td>\n",
       "    </tr>\n",
       "    <tr>\n",
       "      <th>en -&gt; nl -&gt; de</th>\n",
       "      <td>0.732226</td>\n",
       "      <td>4.694412</td>\n",
       "      <td>60.995399</td>\n",
       "    </tr>\n",
       "    <tr>\n",
       "      <th>en -&gt; da -&gt; de</th>\n",
       "      <td>0.726201</td>\n",
       "      <td>4.738022</td>\n",
       "      <td>61.567906</td>\n",
       "    </tr>\n",
       "    <tr>\n",
       "      <th>en -&gt; sv -&gt; nl -&gt; de</th>\n",
       "      <td>0.723059</td>\n",
       "      <td>4.754768</td>\n",
       "      <td>62.061841</td>\n",
       "    </tr>\n",
       "    <tr>\n",
       "      <th>en -&gt; sv -&gt; da -&gt; de</th>\n",
       "      <td>0.717751</td>\n",
       "      <td>4.790199</td>\n",
       "      <td>62.525221</td>\n",
       "    </tr>\n",
       "    <tr>\n",
       "      <th>en -&gt; nl -&gt; da -&gt; de</th>\n",
       "      <td>0.720725</td>\n",
       "      <td>4.770221</td>\n",
       "      <td>62.112542</td>\n",
       "    </tr>\n",
       "    <tr>\n",
       "      <th>en -&gt; sv -&gt; nl -&gt; da -&gt; de</th>\n",
       "      <td>0.713518</td>\n",
       "      <td>4.816309</td>\n",
       "      <td>62.979380</td>\n",
       "    </tr>\n",
       "  </tbody>\n",
       "</table>\n",
       "</div>"
      ],
      "text/plain": [
       "                            Cosine Similarity  Euclidean Distance  \\\n",
       "en -> de                             0.738375            4.653678   \n",
       "en -> sv -> de                       0.726242            4.735488   \n",
       "en -> nl -> de                       0.732226            4.694412   \n",
       "en -> da -> de                       0.726201            4.738022   \n",
       "en -> sv -> nl -> de                 0.723059            4.754768   \n",
       "en -> sv -> da -> de                 0.717751            4.790199   \n",
       "en -> nl -> da -> de                 0.720725            4.770221   \n",
       "en -> sv -> nl -> da -> de           0.713518            4.816309   \n",
       "\n",
       "                            Manhattan Distance  \n",
       "en -> de                             60.131162  \n",
       "en -> sv -> de                       61.697789  \n",
       "en -> nl -> de                       60.995399  \n",
       "en -> da -> de                       61.567906  \n",
       "en -> sv -> nl -> de                 62.061841  \n",
       "en -> sv -> da -> de                 62.525221  \n",
       "en -> nl -> da -> de                 62.112542  \n",
       "en -> sv -> nl -> da -> de           62.979380  "
      ]
     },
     "execution_count": 50,
     "metadata": {},
     "output_type": "execute_result"
    }
   ],
   "source": [
    "df = avaliate_possible_paths(['en', 'sv', 'nl', 'da', 'de'])\n",
    "df"
   ]
  },
  {
   "cell_type": "markdown",
   "id": "011f0d13",
   "metadata": {},
   "source": [
    "> Adding a test with Italian in the middle"
   ]
  },
  {
   "cell_type": "code",
   "execution_count": 51,
   "id": "c7e4220e",
   "metadata": {},
   "outputs": [
    {
     "data": {
      "text/html": [
       "<div>\n",
       "<style scoped>\n",
       "    .dataframe tbody tr th:only-of-type {\n",
       "        vertical-align: middle;\n",
       "    }\n",
       "\n",
       "    .dataframe tbody tr th {\n",
       "        vertical-align: top;\n",
       "    }\n",
       "\n",
       "    .dataframe thead th {\n",
       "        text-align: right;\n",
       "    }\n",
       "</style>\n",
       "<table border=\"1\" class=\"dataframe\">\n",
       "  <thead>\n",
       "    <tr style=\"text-align: right;\">\n",
       "      <th></th>\n",
       "      <th>Cosine Similarity</th>\n",
       "      <th>Euclidean Distance</th>\n",
       "      <th>Manhattan Distance</th>\n",
       "    </tr>\n",
       "  </thead>\n",
       "  <tbody>\n",
       "    <tr>\n",
       "      <th>en -&gt; de</th>\n",
       "      <td>0.738375</td>\n",
       "      <td>4.653678</td>\n",
       "      <td>60.131162</td>\n",
       "    </tr>\n",
       "    <tr>\n",
       "      <th>en -&gt; sv -&gt; de</th>\n",
       "      <td>0.726242</td>\n",
       "      <td>4.735488</td>\n",
       "      <td>61.697789</td>\n",
       "    </tr>\n",
       "    <tr>\n",
       "      <th>en -&gt; nl -&gt; de</th>\n",
       "      <td>0.732226</td>\n",
       "      <td>4.694412</td>\n",
       "      <td>60.995399</td>\n",
       "    </tr>\n",
       "    <tr>\n",
       "      <th>en -&gt; da -&gt; de</th>\n",
       "      <td>0.726201</td>\n",
       "      <td>4.738022</td>\n",
       "      <td>61.567906</td>\n",
       "    </tr>\n",
       "    <tr>\n",
       "      <th>en -&gt; sv -&gt; nl -&gt; de</th>\n",
       "      <td>0.723059</td>\n",
       "      <td>4.754768</td>\n",
       "      <td>62.061841</td>\n",
       "    </tr>\n",
       "    <tr>\n",
       "      <th>en -&gt; sv -&gt; da -&gt; de</th>\n",
       "      <td>0.717751</td>\n",
       "      <td>4.790199</td>\n",
       "      <td>62.525221</td>\n",
       "    </tr>\n",
       "    <tr>\n",
       "      <th>en -&gt; nl -&gt; da -&gt; de</th>\n",
       "      <td>0.720725</td>\n",
       "      <td>4.770221</td>\n",
       "      <td>62.112542</td>\n",
       "    </tr>\n",
       "    <tr>\n",
       "      <th>en -&gt; sv -&gt; nl -&gt; da -&gt; de</th>\n",
       "      <td>0.713518</td>\n",
       "      <td>4.816309</td>\n",
       "      <td>62.979380</td>\n",
       "    </tr>\n",
       "    <tr>\n",
       "      <th>en -&gt; sv -&gt; it -&gt; nl -&gt; da -&gt; de</th>\n",
       "      <td>0.701176</td>\n",
       "      <td>4.896321</td>\n",
       "      <td>64.240493</td>\n",
       "    </tr>\n",
       "  </tbody>\n",
       "</table>\n",
       "</div>"
      ],
      "text/plain": [
       "                                  Cosine Similarity  Euclidean Distance  \\\n",
       "en -> de                                   0.738375            4.653678   \n",
       "en -> sv -> de                             0.726242            4.735488   \n",
       "en -> nl -> de                             0.732226            4.694412   \n",
       "en -> da -> de                             0.726201            4.738022   \n",
       "en -> sv -> nl -> de                       0.723059            4.754768   \n",
       "en -> sv -> da -> de                       0.717751            4.790199   \n",
       "en -> nl -> da -> de                       0.720725            4.770221   \n",
       "en -> sv -> nl -> da -> de                 0.713518            4.816309   \n",
       "en -> sv -> it -> nl -> da -> de           0.701176            4.896321   \n",
       "\n",
       "                                  Manhattan Distance  \n",
       "en -> de                                   60.131162  \n",
       "en -> sv -> de                             61.697789  \n",
       "en -> nl -> de                             60.995399  \n",
       "en -> da -> de                             61.567906  \n",
       "en -> sv -> nl -> de                       62.061841  \n",
       "en -> sv -> da -> de                       62.525221  \n",
       "en -> nl -> da -> de                       62.112542  \n",
       "en -> sv -> nl -> da -> de                 62.979380  \n",
       "en -> sv -> it -> nl -> da -> de           64.240493  "
      ]
     },
     "execution_count": 51,
     "metadata": {},
     "output_type": "execute_result"
    }
   ],
   "source": [
    "path = ['en', 'sv', 'it', 'nl', 'da', 'de']\n",
    "df2 = pd.DataFrame(data=[avaliate_path(path)], index=[' -> '.join(path)], columns=df.columns)\n",
    "exp3 = pd.concat([df, df2])\n",
    "exp3"
   ]
  },
  {
   "cell_type": "markdown",
   "id": "c4304f41",
   "metadata": {},
   "source": [
    "### Experiment #4: Portuguese - German - French - English - Spanish\n",
    "In this experiment, we intend to evaluate translations using languages from different groups."
   ]
  },
  {
   "cell_type": "code",
   "execution_count": 52,
   "id": "3ddc0304",
   "metadata": {},
   "outputs": [
    {
     "data": {
      "text/html": [
       "<div>\n",
       "<style scoped>\n",
       "    .dataframe tbody tr th:only-of-type {\n",
       "        vertical-align: middle;\n",
       "    }\n",
       "\n",
       "    .dataframe tbody tr th {\n",
       "        vertical-align: top;\n",
       "    }\n",
       "\n",
       "    .dataframe thead th {\n",
       "        text-align: right;\n",
       "    }\n",
       "</style>\n",
       "<table border=\"1\" class=\"dataframe\">\n",
       "  <thead>\n",
       "    <tr style=\"text-align: right;\">\n",
       "      <th></th>\n",
       "      <th>Cosine Similarity</th>\n",
       "      <th>Euclidean Distance</th>\n",
       "      <th>Manhattan Distance</th>\n",
       "    </tr>\n",
       "  </thead>\n",
       "  <tbody>\n",
       "    <tr>\n",
       "      <th>pt -&gt; es</th>\n",
       "      <td>0.750518</td>\n",
       "      <td>3.954440</td>\n",
       "      <td>49.712066</td>\n",
       "    </tr>\n",
       "    <tr>\n",
       "      <th>pt -&gt; de -&gt; es</th>\n",
       "      <td>0.713967</td>\n",
       "      <td>4.244940</td>\n",
       "      <td>54.845612</td>\n",
       "    </tr>\n",
       "    <tr>\n",
       "      <th>pt -&gt; fr -&gt; es</th>\n",
       "      <td>0.734747</td>\n",
       "      <td>4.065414</td>\n",
       "      <td>51.722281</td>\n",
       "    </tr>\n",
       "    <tr>\n",
       "      <th>pt -&gt; en -&gt; es</th>\n",
       "      <td>0.722473</td>\n",
       "      <td>4.178530</td>\n",
       "      <td>54.014994</td>\n",
       "    </tr>\n",
       "    <tr>\n",
       "      <th>pt -&gt; de -&gt; fr -&gt; es</th>\n",
       "      <td>0.706975</td>\n",
       "      <td>4.279639</td>\n",
       "      <td>55.455886</td>\n",
       "    </tr>\n",
       "    <tr>\n",
       "      <th>pt -&gt; de -&gt; en -&gt; es</th>\n",
       "      <td>0.696251</td>\n",
       "      <td>4.373202</td>\n",
       "      <td>56.851846</td>\n",
       "    </tr>\n",
       "    <tr>\n",
       "      <th>pt -&gt; fr -&gt; en -&gt; es</th>\n",
       "      <td>0.710485</td>\n",
       "      <td>4.250461</td>\n",
       "      <td>55.019113</td>\n",
       "    </tr>\n",
       "    <tr>\n",
       "      <th>pt -&gt; de -&gt; fr -&gt; en -&gt; es</th>\n",
       "      <td>0.697495</td>\n",
       "      <td>4.351858</td>\n",
       "      <td>56.566278</td>\n",
       "    </tr>\n",
       "  </tbody>\n",
       "</table>\n",
       "</div>"
      ],
      "text/plain": [
       "                            Cosine Similarity  Euclidean Distance  \\\n",
       "pt -> es                             0.750518            3.954440   \n",
       "pt -> de -> es                       0.713967            4.244940   \n",
       "pt -> fr -> es                       0.734747            4.065414   \n",
       "pt -> en -> es                       0.722473            4.178530   \n",
       "pt -> de -> fr -> es                 0.706975            4.279639   \n",
       "pt -> de -> en -> es                 0.696251            4.373202   \n",
       "pt -> fr -> en -> es                 0.710485            4.250461   \n",
       "pt -> de -> fr -> en -> es           0.697495            4.351858   \n",
       "\n",
       "                            Manhattan Distance  \n",
       "pt -> es                             49.712066  \n",
       "pt -> de -> es                       54.845612  \n",
       "pt -> fr -> es                       51.722281  \n",
       "pt -> en -> es                       54.014994  \n",
       "pt -> de -> fr -> es                 55.455886  \n",
       "pt -> de -> en -> es                 56.851846  \n",
       "pt -> fr -> en -> es                 55.019113  \n",
       "pt -> de -> fr -> en -> es           56.566278  "
      ]
     },
     "execution_count": 52,
     "metadata": {},
     "output_type": "execute_result"
    }
   ],
   "source": [
    "exp4 = avaliate_possible_paths(['pt', 'de', 'fr', 'en', 'es'])\n",
    "exp4"
   ]
  },
  {
   "cell_type": "markdown",
   "id": "47926541",
   "metadata": {},
   "source": [
    "### Experiment #5: English - Spanish - Swedish - Italian - German\n",
    "In this experiment, we intend to evaluate translations using languages from different groups."
   ]
  },
  {
   "cell_type": "code",
   "execution_count": 53,
   "id": "73d72124",
   "metadata": {},
   "outputs": [
    {
     "data": {
      "text/html": [
       "<div>\n",
       "<style scoped>\n",
       "    .dataframe tbody tr th:only-of-type {\n",
       "        vertical-align: middle;\n",
       "    }\n",
       "\n",
       "    .dataframe tbody tr th {\n",
       "        vertical-align: top;\n",
       "    }\n",
       "\n",
       "    .dataframe thead th {\n",
       "        text-align: right;\n",
       "    }\n",
       "</style>\n",
       "<table border=\"1\" class=\"dataframe\">\n",
       "  <thead>\n",
       "    <tr style=\"text-align: right;\">\n",
       "      <th></th>\n",
       "      <th>Cosine Similarity</th>\n",
       "      <th>Euclidean Distance</th>\n",
       "      <th>Manhattan Distance</th>\n",
       "    </tr>\n",
       "  </thead>\n",
       "  <tbody>\n",
       "    <tr>\n",
       "      <th>en -&gt; de</th>\n",
       "      <td>0.738375</td>\n",
       "      <td>4.653678</td>\n",
       "      <td>60.131162</td>\n",
       "    </tr>\n",
       "    <tr>\n",
       "      <th>en -&gt; es -&gt; de</th>\n",
       "      <td>0.725193</td>\n",
       "      <td>4.752190</td>\n",
       "      <td>61.762966</td>\n",
       "    </tr>\n",
       "    <tr>\n",
       "      <th>en -&gt; sv -&gt; de</th>\n",
       "      <td>0.726242</td>\n",
       "      <td>4.735488</td>\n",
       "      <td>61.697789</td>\n",
       "    </tr>\n",
       "    <tr>\n",
       "      <th>en -&gt; it -&gt; de</th>\n",
       "      <td>0.722264</td>\n",
       "      <td>4.764453</td>\n",
       "      <td>62.318824</td>\n",
       "    </tr>\n",
       "    <tr>\n",
       "      <th>en -&gt; es -&gt; sv -&gt; de</th>\n",
       "      <td>0.716135</td>\n",
       "      <td>4.808971</td>\n",
       "      <td>62.876090</td>\n",
       "    </tr>\n",
       "    <tr>\n",
       "      <th>en -&gt; es -&gt; it -&gt; de</th>\n",
       "      <td>0.710833</td>\n",
       "      <td>4.847731</td>\n",
       "      <td>63.563829</td>\n",
       "    </tr>\n",
       "    <tr>\n",
       "      <th>en -&gt; sv -&gt; it -&gt; de</th>\n",
       "      <td>0.713004</td>\n",
       "      <td>4.815400</td>\n",
       "      <td>63.057167</td>\n",
       "    </tr>\n",
       "    <tr>\n",
       "      <th>en -&gt; es -&gt; sv -&gt; it -&gt; de</th>\n",
       "      <td>0.707707</td>\n",
       "      <td>4.855580</td>\n",
       "      <td>63.686974</td>\n",
       "    </tr>\n",
       "  </tbody>\n",
       "</table>\n",
       "</div>"
      ],
      "text/plain": [
       "                            Cosine Similarity  Euclidean Distance  \\\n",
       "en -> de                             0.738375            4.653678   \n",
       "en -> es -> de                       0.725193            4.752190   \n",
       "en -> sv -> de                       0.726242            4.735488   \n",
       "en -> it -> de                       0.722264            4.764453   \n",
       "en -> es -> sv -> de                 0.716135            4.808971   \n",
       "en -> es -> it -> de                 0.710833            4.847731   \n",
       "en -> sv -> it -> de                 0.713004            4.815400   \n",
       "en -> es -> sv -> it -> de           0.707707            4.855580   \n",
       "\n",
       "                            Manhattan Distance  \n",
       "en -> de                             60.131162  \n",
       "en -> es -> de                       61.762966  \n",
       "en -> sv -> de                       61.697789  \n",
       "en -> it -> de                       62.318824  \n",
       "en -> es -> sv -> de                 62.876090  \n",
       "en -> es -> it -> de                 63.563829  \n",
       "en -> sv -> it -> de                 63.057167  \n",
       "en -> es -> sv -> it -> de           63.686974  "
      ]
     },
     "execution_count": 53,
     "metadata": {},
     "output_type": "execute_result"
    }
   ],
   "source": [
    "exp5 = avaliate_possible_paths(['en', 'es', 'sv', 'it', 'de'])\n",
    "exp5"
   ]
  },
  {
   "cell_type": "markdown",
   "id": "09768a36",
   "metadata": {},
   "source": [
    "### Saving results to spreadsheet"
   ]
  },
  {
   "cell_type": "code",
   "execution_count": 54,
   "id": "149a99ed",
   "metadata": {},
   "outputs": [],
   "source": [
    "path = 'results.xlsx'\n",
    "with pd.ExcelWriter(path) as writer:\n",
    "    #writer.book = openpyxl.load_workbook(path)\n",
    "    exp1.to_excel(writer, sheet_name='Experiment 1')\n",
    "    exp2.to_excel(writer, sheet_name='Experiment 2')\n",
    "    exp3.to_excel(writer, sheet_name='Experiment 3')\n",
    "    exp4.to_excel(writer, sheet_name='Experiment 4')\n",
    "    exp5.to_excel(writer, sheet_name='Experiment 5')"
   ]
  }
 ],
 "metadata": {
  "interpreter": {
   "hash": "cf92aa13fedf815d5c8dd192b8d835913fde3e8bc926b2a0ad6cc74ef2ba3ca2"
  },
  "kernelspec": {
   "display_name": "Python 3",
   "language": "python",
   "name": "python3"
  },
  "language_info": {
   "codemirror_mode": {
    "name": "ipython",
    "version": 3
   },
   "file_extension": ".py",
   "mimetype": "text/x-python",
   "name": "python",
   "nbconvert_exporter": "python",
   "pygments_lexer": "ipython3",
   "version": "3.9.9"
  }
 },
 "nbformat": 4,
 "nbformat_minor": 5
}
