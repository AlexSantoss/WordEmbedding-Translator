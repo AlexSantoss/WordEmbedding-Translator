{
 "cells": [
  {
   "attachments": {},
   "cell_type": "markdown",
   "id": "253770a5",
   "metadata": {},
   "source": [
    "# Translation of short phrases using an intermediate language:\n",
    "## A thesis on leveraging interlingual approaches"
   ]
  },
  {
   "attachments": {},
   "cell_type": "markdown",
   "id": "2e015f1b",
   "metadata": {},
   "source": [
    "## Libraries"
   ]
  },
  {
   "cell_type": "code",
   "execution_count": 1,
   "id": "7230eb8f",
   "metadata": {},
   "outputs": [],
   "source": [
    "import numpy as np\n",
    "import pandas as pd\n",
    "import itertools as it\n",
    "\n",
    "from gensim.models import KeyedVectors\n",
    "\n",
    "from sklearn.metrics.pairwise import cosine_similarity, euclidean_distances"
   ]
  },
  {
   "attachments": {},
   "cell_type": "markdown",
   "id": "a36ae151",
   "metadata": {},
   "source": [
    "## 1 - Loading data\n",
    "Loading the models and sentences used.\n",
    "- Models: https://fasttext.cc/docs/en/crawl-vectors.html\n",
    "- Sentences: https://github.com/alexa/massive"
   ]
  },
  {
   "cell_type": "code",
   "execution_count": 2,
   "id": "f117e715",
   "metadata": {},
   "outputs": [],
   "source": [
    "def load_files(model_path, sentences_path, limit = None):\n",
    "    '''\n",
    "    Load models from FastText folder and sentences from Amazon Massive folder.\n",
    "    \n",
    "    Params:\n",
    "    - model_path: path to the folder containing all models used, i.e., FastText\n",
    "    - sentences_path: path to the folder containing all sentences used, i.e., Amazon_Massive\n",
    "    - limit: define a limit in case your have low computer power, e.g., 5000\n",
    "    \n",
    "    Return:\n",
    "    Tuple containing the language model and its corresponding sentences\n",
    "    '''\n",
    "\n",
    "    model = KeyedVectors.load_word2vec_format(model_path, unicode_errors = 'replace', limit = limit)\n",
    "    sentences = pd.read_json(sentences_path, lines = True)['utt']\n",
    "    \n",
    "    return model, sentences"
   ]
  },
  {
   "attachments": {},
   "cell_type": "markdown",
   "id": "3ab38a6d",
   "metadata": {},
   "source": [
    "Defining data path."
   ]
  },
  {
   "cell_type": "code",
   "execution_count": 3,
   "id": "d4f7b818",
   "metadata": {},
   "outputs": [],
   "source": [
    "FASTTEXT_PATH = 'Datasets/FastText/'\n",
    "MASSIVE_PATH = 'Datasets/Amazon_Massive/'"
   ]
  },
  {
   "cell_type": "code",
   "execution_count": 4,
   "id": "553117db",
   "metadata": {},
   "outputs": [],
   "source": [
    "PATHS = {\n",
    "    'de': [ FASTTEXT_PATH + 'cc.de.300.vec', MASSIVE_PATH + 'de-DE.jsonl' ],\n",
    "    'en': [ FASTTEXT_PATH + 'cc.en.300.vec', MASSIVE_PATH + 'en-US.jsonl' ],\n",
    "    'es': [ FASTTEXT_PATH + 'cc.es.300.vec', MASSIVE_PATH + 'es-ES.jsonl' ],\n",
    "    'it': [ FASTTEXT_PATH + 'cc.it.300.vec', MASSIVE_PATH + 'it-IT.jsonl' ],\n",
    "    'pt': [ FASTTEXT_PATH + 'cc.pt.300.vec', MASSIVE_PATH + 'pt-PT.jsonl' ],\n",
    "    'sv': [ FASTTEXT_PATH + 'cc.sv.300.vec', MASSIVE_PATH + 'sv-SE.jsonl' ],\n",
    "}\n",
    "\n",
    "LANGUAGES = PATHS.keys()"
   ]
  },
  {
   "attachments": {},
   "cell_type": "markdown",
   "id": "c564e517",
   "metadata": {},
   "source": [
    "**Note**: the cell below takes approximately 5 to 7 minutes per model, if no limit is set."
   ]
  },
  {
   "cell_type": "code",
   "execution_count": 5,
   "id": "08bf0f8b",
   "metadata": {},
   "outputs": [
    {
     "name": "stdout",
     "output_type": "stream",
     "text": [
      "Loading Datasets/FastText/cc.de.300.vec...\n",
      "Finished loading Datasets/FastText/cc.de.300.vec\n",
      "\n",
      "Loading Datasets/FastText/cc.en.300.vec...\n",
      "Finished loading Datasets/FastText/cc.en.300.vec\n",
      "\n",
      "Loading Datasets/FastText/cc.es.300.vec...\n",
      "Finished loading Datasets/FastText/cc.es.300.vec\n",
      "\n",
      "Loading Datasets/FastText/cc.it.300.vec...\n",
      "Finished loading Datasets/FastText/cc.it.300.vec\n",
      "\n",
      "Loading Datasets/FastText/cc.pt.300.vec...\n",
      "Finished loading Datasets/FastText/cc.pt.300.vec\n",
      "\n",
      "Loading Datasets/FastText/cc.sv.300.vec...\n",
      "Finished loading Datasets/FastText/cc.sv.300.vec\n",
      "\n",
      "\n",
      "All models and sentences are now loaded!\n"
     ]
    }
   ],
   "source": [
    "MODELS, SENTENCES = {}, {}\n",
    "\n",
    "for language, value in PATHS.items():\n",
    "    model = value[0]\n",
    "    sentences = value[1]\n",
    "\n",
    "    print(f'Loading {model}...')\n",
    "    MODELS[language], SENTENCES[language] = load_files(model, sentences, 100000)\n",
    "    print(f'Finished loading {model}\\n')\n",
    "\n",
    "print('\\nAll models and sentences are now loaded!')"
   ]
  },
  {
   "attachments": {},
   "cell_type": "markdown",
   "id": "5e14fb99",
   "metadata": {},
   "source": [
    "## 2 - Preparing data"
   ]
  },
  {
   "cell_type": "code",
   "execution_count": 6,
   "id": "9bceeb1a",
   "metadata": {},
   "outputs": [],
   "source": [
    "SAMPLES = { key: [] for key in LANGUAGES }"
   ]
  },
  {
   "cell_type": "code",
   "execution_count": 7,
   "id": "e67d11b5",
   "metadata": {},
   "outputs": [],
   "source": [
    "# Since all sentence files have the same length, we chose one at random for the range function.\n",
    "# We prove this in the cell below\n",
    "for idx in range(len(SENTENCES['en'])):\n",
    "    \n",
    "    actual_sentence = { key: [] for key in LANGUAGES }\n",
    "    \n",
    "    try:\n",
    "        for lang, sent in SENTENCES.items():\n",
    "            for word in sent[idx].split(' '):\n",
    "                actual_sentence[lang].append(MODELS[lang][word])\n",
    "\n",
    "    except KeyError:\n",
    "        continue\n",
    "    \n",
    "    for key, value in actual_sentence.items():\n",
    "        SAMPLES[key].append([SENTENCES[key][idx], sum(value)])"
   ]
  },
  {
   "cell_type": "code",
   "execution_count": 8,
   "id": "e5d43f97",
   "metadata": {},
   "outputs": [
    {
     "name": "stdout",
     "output_type": "stream",
     "text": [
      "Total sentences in de file: 16521 -> Model de samples: 2930 (17.74%)\n",
      "Total sentences in en file: 16521 -> Model en samples: 2930 (17.74%)\n",
      "Total sentences in es file: 16521 -> Model es samples: 2930 (17.74%)\n",
      "Total sentences in it file: 16521 -> Model it samples: 2930 (17.74%)\n",
      "Total sentences in pt file: 16521 -> Model pt samples: 2930 (17.74%)\n",
      "Total sentences in sv file: 16521 -> Model sv samples: 2930 (17.74%)\n"
     ]
    }
   ],
   "source": [
    "for key in SENTENCES:\n",
    "    SIZE_SAMPLES = len(SAMPLES[key])\n",
    "    SIZE_SENTENCES = len(SENTENCES[key])\n",
    "    print(\n",
    "        f'Total sentences in { key } file: { SIZE_SENTENCES }'\n",
    "        f' -> Model { key } samples: { SIZE_SAMPLES } ({ SIZE_SAMPLES / SIZE_SENTENCES * 100:.2f}%)'\n",
    "    )"
   ]
  },
  {
   "attachments": {},
   "cell_type": "markdown",
   "id": "2aefab70",
   "metadata": {},
   "source": [
    "Splitting into train and test."
   ]
  },
  {
   "cell_type": "code",
   "execution_count": 9,
   "id": "1fac669b",
   "metadata": {},
   "outputs": [],
   "source": [
    "SPLIT_RATE = int(SIZE_SAMPLES * 0.7)\n",
    "\n",
    "TRAIN_SET = { key: SAMPLES[key][:SPLIT_RATE] for key in LANGUAGES }\n",
    "TEST_SET = { key: SAMPLES[key][SPLIT_RATE:] for key in LANGUAGES }"
   ]
  },
  {
   "attachments": {},
   "cell_type": "markdown",
   "id": "99f3cca3",
   "metadata": {},
   "source": [
    "## 3 - Evaluating Control Group"
   ]
  },
  {
   "attachments": {},
   "cell_type": "markdown",
   "id": "460e30dd",
   "metadata": {},
   "source": [
    "Theorically speaking, translating the vector that one sentence represents to another should result in a similar sentence. For that purpose, we evaluate our results using the cosine similarity, which range is from -1 to 1."
   ]
  },
  {
   "cell_type": "code",
   "execution_count": 10,
   "id": "d475860e",
   "metadata": {},
   "outputs": [],
   "source": [
    "TRANSLATIONS = { key: { lang: None for lang in LANGUAGES if lang != key } for key in LANGUAGES }\n",
    "\n",
    "for origin, target in it.permutations(LANGUAGES, 2): \n",
    "\n",
    "    samples_origin = [sample[1] for sample in TRAIN_SET[origin]]\n",
    "    samples_target = [sample[1] for sample in TRAIN_SET[target]]\n",
    "\n",
    "    U, Sig, Vt = np.linalg.svd(np.transpose(samples_origin) @ samples_target)\n",
    "    \n",
    "    TRANSLATOR = np.transpose(Vt) @ np.transpose(U)\n",
    "    TRANSLATIONS[origin][target] = TRANSLATOR"
   ]
  },
  {
   "cell_type": "code",
   "execution_count": 11,
   "id": "78446c3f",
   "metadata": {},
   "outputs": [],
   "source": [
    "def evaluate_single_cosine_similarity(origin_lang, target_lang):\n",
    "    '''\n",
    "    Evaluate cosine similarity between single sentences.\n",
    "    Cosine similarity has an interval from -1 to 1, and the closer to 1 the value is, more similar the params are.\n",
    "\n",
    "    Params:\n",
    "    - origin_lang: language in which the words in word_list are written\n",
    "    - target_lang: language you wish to know the translation\n",
    "\n",
    "    Example of usage:\n",
    "    evaluate_single_cosine_similarity('pt', 'en')\n",
    "    '''\n",
    "    \n",
    "    for index in range(5):\n",
    "        print(TEST_SET[origin_lang][index][0], '->', TEST_SET[target_lang][index][0])\n",
    "\n",
    "        vector_translated = TRANSLATIONS[origin_lang][target_lang] @ TEST_SET[origin_lang][index][1]\n",
    "        vector_target = TEST_SET[target_lang][index][1]\n",
    "\n",
    "        print(\"Cossine similarity:\", cosine_similarity([vector_translated], [vector_target])[0][0], \"\\n\")"
   ]
  },
  {
   "attachments": {},
   "cell_type": "markdown",
   "id": "ffb53fcd",
   "metadata": {},
   "source": [
    "### Portuguese -> Spanish"
   ]
  },
  {
   "cell_type": "code",
   "execution_count": 12,
   "id": "b7457740",
   "metadata": {},
   "outputs": [
    {
     "name": "stdout",
     "output_type": "stream",
     "text": [
      "verificar a minha lista -> comprueba mi lista\n",
      "Cossine similarity: 0.7896989 \n",
      "\n",
      "salta para o próximo episódio -> salta al siguiente episodio\n",
      "Cossine similarity: 0.7312537 \n",
      "\n",
      "próxima -> siguiente\n",
      "Cossine similarity: 0.4090119 \n",
      "\n",
      "o próximo -> siguiente\n",
      "Cossine similarity: 0.32732537 \n",
      "\n",
      "pass -> la proxima\n",
      "Cossine similarity: 0.040762633 \n",
      "\n"
     ]
    }
   ],
   "source": [
    "evaluate_single_cosine_similarity('pt', 'es')"
   ]
  },
  {
   "attachments": {},
   "cell_type": "markdown",
   "id": "ac78c26e",
   "metadata": {},
   "source": [
    "### English -> German"
   ]
  },
  {
   "cell_type": "code",
   "execution_count": 13,
   "id": "d7e394f7",
   "metadata": {},
   "outputs": [
    {
     "name": "stdout",
     "output_type": "stream",
     "text": [
      "check my list -> meine liste überprüfen\n",
      "Cossine similarity: 0.83399355 \n",
      "\n",
      "skip to next episode -> springe zur nächsten folge\n",
      "Cossine similarity: 0.6362786 \n",
      "\n",
      "next -> nächste\n",
      "Cossine similarity: 0.7237926 \n",
      "\n",
      "next one -> der nächste\n",
      "Cossine similarity: 0.61569357 \n",
      "\n",
      "skip -> überspringen\n",
      "Cossine similarity: 0.39044032 \n",
      "\n"
     ]
    }
   ],
   "source": [
    "evaluate_single_cosine_similarity('en', 'de')"
   ]
  },
  {
   "attachments": {},
   "cell_type": "markdown",
   "id": "e4ad78e8",
   "metadata": {},
   "source": [
    "### Avaliating path\n",
    "We use the following metrics for that purpose:\n",
    "- Cosine similarity\n",
    "- Euclidean distance"
   ]
  },
  {
   "cell_type": "code",
   "execution_count": 14,
   "id": "cc908230",
   "metadata": {},
   "outputs": [],
   "source": [
    "def pairwise(iterable):\n",
    "    '''\n",
    "    Return successive overlapping pairs taken from the input iterable.\n",
    "    The number of 2-tuples in the output iterator will be one fewer than the number of inputs. \n",
    "    It will be empty if the input iterable has fewer than two values.\n",
    "    pairwise('ABCDEFG') --> AB BC CD DE EF FG\n",
    "\n",
    "    Source: https://docs.python.org/3/library/itertools.html#itertools.pairwise\n",
    "    '''\n",
    "    a, b = it.tee(iterable)\n",
    "    next(b, None)\n",
    "    return zip(a, b)"
   ]
  },
  {
   "cell_type": "code",
   "execution_count": 15,
   "id": "426214bb",
   "metadata": {},
   "outputs": [],
   "source": [
    "def avaliate_path(path):\n",
    "    '''\n",
    "    Avaliate the translation path using cosine similarity, euclidean distance and manhattan distance.\n",
    "\n",
    "    Params:\n",
    "    - path: path of desired translation\n",
    "    \n",
    "    Return:\n",
    "    - Score of each avaliation method\n",
    "    \n",
    "    Example of usage:\n",
    "    avaliate_path(['pt', 'en', 'es'])\n",
    "    '''\n",
    "    \n",
    "    translation_matrix = np.identity(300)\n",
    "\n",
    "    for (origin, target) in pairwise(path):\n",
    "        translation_matrix = TRANSLATIONS[origin][target] @ translation_matrix\n",
    "    \n",
    "    vectors = [translation_matrix @ v for _, v in TEST_SET[path[0]] ]\n",
    "    vectors_target = [v for _, v in TEST_SET[path[-1]]]\n",
    "    \n",
    "    mean_cos_sim = sum([cosine_similarity([v1], [v2]) for v1, v2 in zip(vectors, vectors_target)])/ len(vectors)\n",
    "    mean_euc_dist = sum([euclidean_distances([v1], [v2]) for v1, v2 in zip(vectors, vectors_target)])/ len(vectors)\n",
    "    \n",
    "    return mean_cos_sim[0][0], mean_euc_dist[0][0]"
   ]
  },
  {
   "cell_type": "code",
   "execution_count": 16,
   "id": "4005bbfd",
   "metadata": {},
   "outputs": [],
   "source": [
    "def avaliate_possible_paths(languages):\n",
    "    '''\n",
    "    Avaliate possible paths from first to last language on the list, changing the languages in the middle\n",
    "    \n",
    "    Params:\n",
    "    - languages: list of languages\n",
    "    \n",
    "    Return:\n",
    "    - Dataframe with the score of each path on cossine similarity, euclidean distance and manhattan distance\n",
    "    \n",
    "    Example of usage:\n",
    "    avaliate_paths(['pt', 'en', 'es'])\n",
    "    '''\n",
    "    \n",
    "    start = languages[0]\n",
    "    end = languages[-1]\n",
    "    \n",
    "    paths = [[start, end]]\n",
    "    for i in range(len(languages) - 2):\n",
    "        for comb in it.combinations(languages[1: -1], i + 1):\n",
    "            paths.append([start] + list(comb) + [end])\n",
    "    \n",
    "    scores = [avaliate_path(p) for p in paths]\n",
    "    index = [ ' -> '.join(p) for p in paths]\n",
    "    return pd.DataFrame(data=scores, columns=['Cosine Similarity', 'Euclidean Distance'], index = index)\n"
   ]
  },
  {
   "attachments": {},
   "cell_type": "markdown",
   "id": "866007a0",
   "metadata": {},
   "source": [
    "## 4 - Study Cases"
   ]
  },
  {
   "attachments": {},
   "cell_type": "markdown",
   "id": "ef2c8082",
   "metadata": {},
   "source": [
    "### Study Case #1: Portuguese - Italian - Spanish\n",
    "In this case, we intend to evaluate how good is a translation between two languages from the Romance language family, such as Portuguese and Spanish, and if adding a language from the same family, such as Italian, affects the quality of the translation."
   ]
  },
  {
   "cell_type": "code",
   "execution_count": 17,
   "id": "b908b884",
   "metadata": {},
   "outputs": [
    {
     "data": {
      "text/html": [
       "<div>\n",
       "<style scoped>\n",
       "    .dataframe tbody tr th:only-of-type {\n",
       "        vertical-align: middle;\n",
       "    }\n",
       "\n",
       "    .dataframe tbody tr th {\n",
       "        vertical-align: top;\n",
       "    }\n",
       "\n",
       "    .dataframe thead th {\n",
       "        text-align: right;\n",
       "    }\n",
       "</style>\n",
       "<table border=\"1\" class=\"dataframe\">\n",
       "  <thead>\n",
       "    <tr style=\"text-align: right;\">\n",
       "      <th></th>\n",
       "      <th>Cosine Similarity</th>\n",
       "      <th>Euclidean Distance</th>\n",
       "    </tr>\n",
       "  </thead>\n",
       "  <tbody>\n",
       "    <tr>\n",
       "      <th>pt -&gt; es</th>\n",
       "      <td>0.745831</td>\n",
       "      <td>3.608248</td>\n",
       "    </tr>\n",
       "    <tr>\n",
       "      <th>pt -&gt; it -&gt; es</th>\n",
       "      <td>0.725382</td>\n",
       "      <td>3.728033</td>\n",
       "    </tr>\n",
       "  </tbody>\n",
       "</table>\n",
       "</div>"
      ],
      "text/plain": [
       "                Cosine Similarity  Euclidean Distance\n",
       "pt -> es                 0.745831            3.608248\n",
       "pt -> it -> es           0.725382            3.728033"
      ]
     },
     "execution_count": 17,
     "metadata": {},
     "output_type": "execute_result"
    }
   ],
   "source": [
    "exp1 = avaliate_possible_paths(['pt', 'it', 'es'])\n",
    "exp1"
   ]
  },
  {
   "attachments": {},
   "cell_type": "markdown",
   "id": "9cf2bb3d",
   "metadata": {},
   "source": [
    "### Study Case #2: English - Swedish - German\n",
    "In this case, we intend to evaluate how good is a translation between two languages from the Anglo-Saxon language family, such as English and German, and if adding a language from the same family, such as Swedish, affects the quality of the translation."
   ]
  },
  {
   "cell_type": "code",
   "execution_count": 18,
   "id": "2dfa460b",
   "metadata": {
    "scrolled": true
   },
   "outputs": [
    {
     "data": {
      "text/html": [
       "<div>\n",
       "<style scoped>\n",
       "    .dataframe tbody tr th:only-of-type {\n",
       "        vertical-align: middle;\n",
       "    }\n",
       "\n",
       "    .dataframe tbody tr th {\n",
       "        vertical-align: top;\n",
       "    }\n",
       "\n",
       "    .dataframe thead th {\n",
       "        text-align: right;\n",
       "    }\n",
       "</style>\n",
       "<table border=\"1\" class=\"dataframe\">\n",
       "  <thead>\n",
       "    <tr style=\"text-align: right;\">\n",
       "      <th></th>\n",
       "      <th>Cosine Similarity</th>\n",
       "      <th>Euclidean Distance</th>\n",
       "    </tr>\n",
       "  </thead>\n",
       "  <tbody>\n",
       "    <tr>\n",
       "      <th>en -&gt; sv</th>\n",
       "      <td>0.770322</td>\n",
       "      <td>4.096114</td>\n",
       "    </tr>\n",
       "    <tr>\n",
       "      <th>en -&gt; de -&gt; sv</th>\n",
       "      <td>0.750700</td>\n",
       "      <td>4.223161</td>\n",
       "    </tr>\n",
       "  </tbody>\n",
       "</table>\n",
       "</div>"
      ],
      "text/plain": [
       "                Cosine Similarity  Euclidean Distance\n",
       "en -> sv                 0.770322            4.096114\n",
       "en -> de -> sv           0.750700            4.223161"
      ]
     },
     "execution_count": 18,
     "metadata": {},
     "output_type": "execute_result"
    }
   ],
   "source": [
    "exp2 = avaliate_possible_paths(['en', 'de', 'sv'])\n",
    "exp2"
   ]
  },
  {
   "attachments": {},
   "cell_type": "markdown",
   "id": "4e11951d",
   "metadata": {},
   "source": [
    "### Study Case #3: Portuguese - English - Spanish\n",
    "In this case, we intend to evaluate how good is a translation between two languages from the Romance language family, such as Portuguese and Spanish, and if adding a language from an outer group, such as English from the Anglo-Saxon, affects the quality of the translation."
   ]
  },
  {
   "cell_type": "code",
   "execution_count": 19,
   "id": "d77458df",
   "metadata": {},
   "outputs": [
    {
     "data": {
      "text/html": [
       "<div>\n",
       "<style scoped>\n",
       "    .dataframe tbody tr th:only-of-type {\n",
       "        vertical-align: middle;\n",
       "    }\n",
       "\n",
       "    .dataframe tbody tr th {\n",
       "        vertical-align: top;\n",
       "    }\n",
       "\n",
       "    .dataframe thead th {\n",
       "        text-align: right;\n",
       "    }\n",
       "</style>\n",
       "<table border=\"1\" class=\"dataframe\">\n",
       "  <thead>\n",
       "    <tr style=\"text-align: right;\">\n",
       "      <th></th>\n",
       "      <th>Cosine Similarity</th>\n",
       "      <th>Euclidean Distance</th>\n",
       "    </tr>\n",
       "  </thead>\n",
       "  <tbody>\n",
       "    <tr>\n",
       "      <th>pt -&gt; es</th>\n",
       "      <td>0.745831</td>\n",
       "      <td>3.608248</td>\n",
       "    </tr>\n",
       "    <tr>\n",
       "      <th>pt -&gt; en -&gt; es</th>\n",
       "      <td>0.718346</td>\n",
       "      <td>3.794853</td>\n",
       "    </tr>\n",
       "  </tbody>\n",
       "</table>\n",
       "</div>"
      ],
      "text/plain": [
       "                Cosine Similarity  Euclidean Distance\n",
       "pt -> es                 0.745831            3.608248\n",
       "pt -> en -> es           0.718346            3.794853"
      ]
     },
     "execution_count": 19,
     "metadata": {},
     "output_type": "execute_result"
    }
   ],
   "source": [
    "exp3 = avaliate_possible_paths(['pt', 'en', 'es'])\n",
    "exp3"
   ]
  },
  {
   "attachments": {},
   "cell_type": "markdown",
   "id": "c4304f41",
   "metadata": {},
   "source": [
    "### Study Case #4: English - Portuguese - German\n",
    "In this case, we intend to evaluate how good is a translation between two languages from the Anglo-Saxon language family, such as English and German, and if adding a language from an outer group, such as Portuguese from the Romance, affects the quality of the translation."
   ]
  },
  {
   "cell_type": "code",
   "execution_count": 20,
   "id": "3ddc0304",
   "metadata": {},
   "outputs": [
    {
     "data": {
      "text/html": [
       "<div>\n",
       "<style scoped>\n",
       "    .dataframe tbody tr th:only-of-type {\n",
       "        vertical-align: middle;\n",
       "    }\n",
       "\n",
       "    .dataframe tbody tr th {\n",
       "        vertical-align: top;\n",
       "    }\n",
       "\n",
       "    .dataframe thead th {\n",
       "        text-align: right;\n",
       "    }\n",
       "</style>\n",
       "<table border=\"1\" class=\"dataframe\">\n",
       "  <thead>\n",
       "    <tr style=\"text-align: right;\">\n",
       "      <th></th>\n",
       "      <th>Cosine Similarity</th>\n",
       "      <th>Euclidean Distance</th>\n",
       "    </tr>\n",
       "  </thead>\n",
       "  <tbody>\n",
       "    <tr>\n",
       "      <th>pt -&gt; es</th>\n",
       "      <td>0.745831</td>\n",
       "      <td>3.608248</td>\n",
       "    </tr>\n",
       "    <tr>\n",
       "      <th>pt -&gt; en -&gt; es</th>\n",
       "      <td>0.718346</td>\n",
       "      <td>3.794853</td>\n",
       "    </tr>\n",
       "  </tbody>\n",
       "</table>\n",
       "</div>"
      ],
      "text/plain": [
       "                Cosine Similarity  Euclidean Distance\n",
       "pt -> es                 0.745831            3.608248\n",
       "pt -> en -> es           0.718346            3.794853"
      ]
     },
     "execution_count": 20,
     "metadata": {},
     "output_type": "execute_result"
    }
   ],
   "source": [
    "exp4 = avaliate_possible_paths(['pt', 'en', 'es'])\n",
    "exp4"
   ]
  },
  {
   "attachments": {},
   "cell_type": "markdown",
   "id": "ccc69518",
   "metadata": {},
   "source": [
    "## Experiments"
   ]
  },
  {
   "attachments": {},
   "cell_type": "markdown",
   "id": "47926541",
   "metadata": {},
   "source": [
    "### Experiment #1: Portuguese - Spanish - German\n",
    "In this experiment, we intend to evaluate translations using languages from different groups."
   ]
  },
  {
   "cell_type": "code",
   "execution_count": 21,
   "id": "73d72124",
   "metadata": {},
   "outputs": [
    {
     "data": {
      "text/html": [
       "<div>\n",
       "<style scoped>\n",
       "    .dataframe tbody tr th:only-of-type {\n",
       "        vertical-align: middle;\n",
       "    }\n",
       "\n",
       "    .dataframe tbody tr th {\n",
       "        vertical-align: top;\n",
       "    }\n",
       "\n",
       "    .dataframe thead th {\n",
       "        text-align: right;\n",
       "    }\n",
       "</style>\n",
       "<table border=\"1\" class=\"dataframe\">\n",
       "  <thead>\n",
       "    <tr style=\"text-align: right;\">\n",
       "      <th></th>\n",
       "      <th>Cosine Similarity</th>\n",
       "      <th>Euclidean Distance</th>\n",
       "    </tr>\n",
       "  </thead>\n",
       "  <tbody>\n",
       "    <tr>\n",
       "      <th>pt -&gt; de</th>\n",
       "      <td>0.646820</td>\n",
       "      <td>4.090184</td>\n",
       "    </tr>\n",
       "    <tr>\n",
       "      <th>pt -&gt; es -&gt; de</th>\n",
       "      <td>0.640827</td>\n",
       "      <td>4.115533</td>\n",
       "    </tr>\n",
       "  </tbody>\n",
       "</table>\n",
       "</div>"
      ],
      "text/plain": [
       "                Cosine Similarity  Euclidean Distance\n",
       "pt -> de                 0.646820            4.090184\n",
       "pt -> es -> de           0.640827            4.115533"
      ]
     },
     "execution_count": 21,
     "metadata": {},
     "output_type": "execute_result"
    }
   ],
   "source": [
    "exp5 = avaliate_possible_paths(['pt', 'es', 'de'])\n",
    "exp5"
   ]
  },
  {
   "attachments": {},
   "cell_type": "markdown",
   "id": "35631075",
   "metadata": {},
   "source": [
    "### Experiment #2: Portuguese - Swedish - German "
   ]
  },
  {
   "cell_type": "code",
   "execution_count": 22,
   "id": "41a7d5fd",
   "metadata": {},
   "outputs": [
    {
     "data": {
      "text/html": [
       "<div>\n",
       "<style scoped>\n",
       "    .dataframe tbody tr th:only-of-type {\n",
       "        vertical-align: middle;\n",
       "    }\n",
       "\n",
       "    .dataframe tbody tr th {\n",
       "        vertical-align: top;\n",
       "    }\n",
       "\n",
       "    .dataframe thead th {\n",
       "        text-align: right;\n",
       "    }\n",
       "</style>\n",
       "<table border=\"1\" class=\"dataframe\">\n",
       "  <thead>\n",
       "    <tr style=\"text-align: right;\">\n",
       "      <th></th>\n",
       "      <th>Cosine Similarity</th>\n",
       "      <th>Euclidean Distance</th>\n",
       "    </tr>\n",
       "  </thead>\n",
       "  <tbody>\n",
       "    <tr>\n",
       "      <th>pt -&gt; de</th>\n",
       "      <td>0.646820</td>\n",
       "      <td>4.090184</td>\n",
       "    </tr>\n",
       "    <tr>\n",
       "      <th>pt -&gt; sv -&gt; de</th>\n",
       "      <td>0.633571</td>\n",
       "      <td>4.161656</td>\n",
       "    </tr>\n",
       "  </tbody>\n",
       "</table>\n",
       "</div>"
      ],
      "text/plain": [
       "                Cosine Similarity  Euclidean Distance\n",
       "pt -> de                 0.646820            4.090184\n",
       "pt -> sv -> de           0.633571            4.161656"
      ]
     },
     "execution_count": 22,
     "metadata": {},
     "output_type": "execute_result"
    }
   ],
   "source": [
    "exp6 = avaliate_possible_paths(['pt', 'sv', 'de'])\n",
    "exp6"
   ]
  },
  {
   "attachments": {},
   "cell_type": "markdown",
   "id": "cb19ed3b",
   "metadata": {},
   "source": [
    "### Experiment #3: English - Swedish - Italian"
   ]
  },
  {
   "cell_type": "code",
   "execution_count": 23,
   "id": "f723a889",
   "metadata": {},
   "outputs": [
    {
     "data": {
      "text/html": [
       "<div>\n",
       "<style scoped>\n",
       "    .dataframe tbody tr th:only-of-type {\n",
       "        vertical-align: middle;\n",
       "    }\n",
       "\n",
       "    .dataframe tbody tr th {\n",
       "        vertical-align: top;\n",
       "    }\n",
       "\n",
       "    .dataframe thead th {\n",
       "        text-align: right;\n",
       "    }\n",
       "</style>\n",
       "<table border=\"1\" class=\"dataframe\">\n",
       "  <thead>\n",
       "    <tr style=\"text-align: right;\">\n",
       "      <th></th>\n",
       "      <th>Cosine Similarity</th>\n",
       "      <th>Euclidean Distance</th>\n",
       "    </tr>\n",
       "  </thead>\n",
       "  <tbody>\n",
       "    <tr>\n",
       "      <th>en -&gt; it</th>\n",
       "      <td>0.700218</td>\n",
       "      <td>4.791466</td>\n",
       "    </tr>\n",
       "    <tr>\n",
       "      <th>en -&gt; sv -&gt; it</th>\n",
       "      <td>0.678620</td>\n",
       "      <td>4.928406</td>\n",
       "    </tr>\n",
       "  </tbody>\n",
       "</table>\n",
       "</div>"
      ],
      "text/plain": [
       "                Cosine Similarity  Euclidean Distance\n",
       "en -> it                 0.700218            4.791466\n",
       "en -> sv -> it           0.678620            4.928406"
      ]
     },
     "execution_count": 23,
     "metadata": {},
     "output_type": "execute_result"
    }
   ],
   "source": [
    "exp7 = avaliate_possible_paths(['en', 'sv', 'it'])\n",
    "exp7"
   ]
  },
  {
   "attachments": {},
   "cell_type": "markdown",
   "id": "f8fd5770",
   "metadata": {},
   "source": [
    "### Experiment #4: English - Spanish - Italian"
   ]
  },
  {
   "cell_type": "code",
   "execution_count": 24,
   "id": "d04b0f76",
   "metadata": {},
   "outputs": [
    {
     "data": {
      "text/html": [
       "<div>\n",
       "<style scoped>\n",
       "    .dataframe tbody tr th:only-of-type {\n",
       "        vertical-align: middle;\n",
       "    }\n",
       "\n",
       "    .dataframe tbody tr th {\n",
       "        vertical-align: top;\n",
       "    }\n",
       "\n",
       "    .dataframe thead th {\n",
       "        text-align: right;\n",
       "    }\n",
       "</style>\n",
       "<table border=\"1\" class=\"dataframe\">\n",
       "  <thead>\n",
       "    <tr style=\"text-align: right;\">\n",
       "      <th></th>\n",
       "      <th>Cosine Similarity</th>\n",
       "      <th>Euclidean Distance</th>\n",
       "    </tr>\n",
       "  </thead>\n",
       "  <tbody>\n",
       "    <tr>\n",
       "      <th>en -&gt; it</th>\n",
       "      <td>0.700218</td>\n",
       "      <td>4.791466</td>\n",
       "    </tr>\n",
       "    <tr>\n",
       "      <th>en -&gt; es -&gt; it</th>\n",
       "      <td>0.688069</td>\n",
       "      <td>4.861872</td>\n",
       "    </tr>\n",
       "  </tbody>\n",
       "</table>\n",
       "</div>"
      ],
      "text/plain": [
       "                Cosine Similarity  Euclidean Distance\n",
       "en -> it                 0.700218            4.791466\n",
       "en -> es -> it           0.688069            4.861872"
      ]
     },
     "execution_count": 24,
     "metadata": {},
     "output_type": "execute_result"
    }
   ],
   "source": [
    "exp8 = avaliate_possible_paths(['en', 'es', 'it'])\n",
    "exp8"
   ]
  },
  {
   "attachments": {},
   "cell_type": "markdown",
   "id": "09768a36",
   "metadata": {},
   "source": [
    "## Saving results to spreadsheet"
   ]
  },
  {
   "cell_type": "code",
   "execution_count": 25,
   "id": "149a99ed",
   "metadata": {},
   "outputs": [],
   "source": [
    "path = 'results.xlsx'\n",
    "with pd.ExcelWriter(path) as writer:\n",
    "    exp1.to_excel(writer, sheet_name = 'Study case 1')\n",
    "    exp2.to_excel(writer, sheet_name = 'Study case 2')\n",
    "    exp3.to_excel(writer, sheet_name = 'Study case 3')\n",
    "    exp4.to_excel(writer, sheet_name = 'Study case 4')\n",
    "    exp5.to_excel(writer, sheet_name = 'Experiment 1')\n",
    "    exp6.to_excel(writer, sheet_name = 'Experiment 2')\n",
    "    exp7.to_excel(writer, sheet_name = 'Experiment 3')\n",
    "    exp8.to_excel(writer, sheet_name = 'Experiment 4')"
   ]
  }
 ],
 "metadata": {
  "interpreter": {
   "hash": "cf92aa13fedf815d5c8dd192b8d835913fde3e8bc926b2a0ad6cc74ef2ba3ca2"
  },
  "kernelspec": {
   "display_name": "Python 3",
   "language": "python",
   "name": "python3"
  },
  "language_info": {
   "codemirror_mode": {
    "name": "ipython",
    "version": 3
   },
   "file_extension": ".py",
   "mimetype": "text/x-python",
   "name": "python",
   "nbconvert_exporter": "python",
   "pygments_lexer": "ipython3",
   "version": "3.11.3"
  }
 },
 "nbformat": 4,
 "nbformat_minor": 5
}
