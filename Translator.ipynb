{
 "cells": [
  {
   "cell_type": "code",
   "execution_count": 34,
   "id": "7230eb8f",
   "metadata": {},
   "outputs": [],
   "source": [
    "from gensim.models import KeyedVectors\n",
    "import numpy as np\n",
    "import pandas as pd\n",
    "import random as rd\n",
    "import itertools as it\n",
    "import matplotlib.pyplot as plt"
   ]
  },
  {
   "cell_type": "markdown",
   "id": "a36ae151",
   "metadata": {},
   "source": [
    "# 1-Loading Things\n",
    "Loading the models, sentences and analogies used.\n",
    "Models: https://fasttext.cc/docs/en/crawl-vectors.html\n",
    "Sentences: https://github.com/alexa/massive"
   ]
  },
  {
   "cell_type": "code",
   "execution_count": 31,
   "id": "f117e715",
   "metadata": {},
   "outputs": [],
   "source": [
    "def load_files(model_path, sentences_path, limit=None):\n",
    "    model = KeyedVectors.load_word2vec_format(model_path, unicode_errors='replace', limit=limit)\n",
    "    sentences = pd.read_json(sentences_path, lines = True)['utt']\n",
    "    return model, sentences"
   ]
  },
  {
   "cell_type": "code",
   "execution_count": 32,
   "id": "553117db",
   "metadata": {},
   "outputs": [],
   "source": [
    "#Paths; order: model path, sentences path\n",
    "paths = {\n",
    "    'pt': ['datasets/cc.pt.300.vec', 'datasets/1.0/data/pt-PT.jsonl'],\n",
    "    'en': ['datasets/cc.en.300.vec', 'datasets/1.0/data/en-US.jsonl'],\n",
    "    'es': ['datasets/cc.es.300.vec', 'datasets/1.0/data/es-ES.jsonl']\n",
    "}\n",
    "languages = paths.keys()\n",
    "\n",
    "#Load\n",
    "models = {}\n",
    "sentences = {}\n",
    "for k, v in paths.items():\n",
    "    models[k], sentences[k] = load_files(v[0], v[1], limit=500_000)"
   ]
  },
  {
   "cell_type": "markdown",
   "id": "5e14fb99",
   "metadata": {},
   "source": [
    "# 2-Preparing Data"
   ]
  },
  {
   "cell_type": "code",
   "execution_count": 33,
   "id": "e67d11b5",
   "metadata": {},
   "outputs": [
    {
     "data": {
      "text/plain": [
       "'16521 -> 12839 (77.71%)'"
      ]
     },
     "execution_count": 33,
     "metadata": {},
     "output_type": "execute_result"
    }
   ],
   "source": [
    "samples = {k: [] for k in languages}\n",
    "for idx in range(16521):\n",
    "    actual_sentence = {k: [] for k in languages}\n",
    "    try:\n",
    "        for l, s in sentences.items():\n",
    "            for w in s[idx].split(' '):\n",
    "                actual_sentence[l].append( models[l][w] )\n",
    "    except KeyError:\n",
    "        continue\n",
    "    \n",
    "    for k, v in actual_sentence.items():\n",
    "        samples[k].append(sum(v))\n",
    "f'{ len(sentences[\"en\"]) } -> { len(samples[\"en\"]) } ({ len(samples[\"en\"]) / len(sentences[\"en\"]) *100:.2f}%)'"
   ]
  },
  {
   "cell_type": "markdown",
   "id": "8cf7d5e4",
   "metadata": {},
   "source": [
    "# 3-Making the translation"
   ]
  },
  {
   "cell_type": "code",
   "execution_count": 35,
   "id": "df5bc3de",
   "metadata": {},
   "outputs": [],
   "source": [
    "#compute the translator matrix\n",
    "translations = {k: { j: None for j in languages if j != k} for k in languages}\n",
    "for origin, target in it.permutations(languages, 2): #can use combinations and transpose translator to speedup and similar results\n",
    "    U, Sig, Vt = np.linalg.svd(np.transpose( samples[origin] )@ samples[target])\n",
    "    translator = np.transpose(Vt) @ np.transpose(U)\n",
    "    translations[origin][target] = translator"
   ]
  },
  {
   "cell_type": "code",
   "execution_count": 42,
   "id": "df51c77c",
   "metadata": {},
   "outputs": [
    {
     "data": {
      "text/plain": [
       "[('zapato', 0.6466608643531799),\n",
       " ('zapatos', 0.5412116050720215),\n",
       " ('vestido', 0.5243082642555237),\n",
       " ('calzado', 0.512926459312439),\n",
       " ('bolso', 0.5040846467018127),\n",
       " ('tacón', 0.5010794401168823),\n",
       " ('tacones', 0.49396854639053345),\n",
       " ('abriguito', 0.4819582998752594),\n",
       " ('zapatito', 0.4813190698623657),\n",
       " ('vestidito', 0.4792330861091614)]"
      ]
     },
     "execution_count": 42,
     "metadata": {},
     "output_type": "execute_result"
    }
   ],
   "source": [
    "models['es'].most_similar(translations['pt']['es'] @ models['pt']['sapato'])"
   ]
  },
  {
   "cell_type": "markdown",
   "id": "246e534a",
   "metadata": {},
   "source": [
    "# 4-Evaluate *future work\n",
    "Two ways to evaluate a path between two languages"
   ]
  },
  {
   "cell_type": "code",
   "execution_count": 43,
   "id": "116764ce",
   "metadata": {},
   "outputs": [],
   "source": [
    "word = 'sapato'"
   ]
  },
  {
   "cell_type": "code",
   "execution_count": 51,
   "id": "b1c08d96",
   "metadata": {},
   "outputs": [
    {
     "name": "stdout",
     "output_type": "stream",
     "text": [
      "shoes\n"
     ]
    },
    {
     "data": {
      "text/plain": [
       "('zapatos', 0.6335018873214722)"
      ]
     },
     "execution_count": 51,
     "metadata": {},
     "output_type": "execute_result"
    }
   ],
   "source": [
    "#Getting the most similar word in each language it pass\n",
    "#Most expensive (uses most_similar multiple times) and try to aproximate a word each time\n",
    "english_word = models['en'].most_similar(translations['pt']['en'] @models['pt'][word])[0][0]\n",
    "print(english_word)\n",
    "models['es'].most_similar(translations['en']['es'] @ models['en'][english_word])[0]"
   ]
  },
  {
   "cell_type": "code",
   "execution_count": 63,
   "id": "db82fc41",
   "metadata": {},
   "outputs": [
    {
     "name": "stdout",
     "output_type": "stream",
     "text": [
      "<class 'numpy.ndarray'> 300\n"
     ]
    },
    {
     "data": {
      "text/plain": [
       "('zapato', 0.5794187188148499)"
      ]
     },
     "execution_count": 63,
     "metadata": {},
     "output_type": "execute_result"
    }
   ],
   "source": [
    "#Using the vector transformed to each subspace\n",
    "#Uses most_similar and try to approximate the word just one time \n",
    "english_vector = translations['pt']['en'] @models['pt'][word]\n",
    "print(type(english_vector), len(english_vector))\n",
    "models['es'].most_similar(translations['en']['es'] @ english_vector)[0]"
   ]
  }
 ],
 "metadata": {
  "kernelspec": {
   "display_name": "Python 3",
   "language": "python",
   "name": "python3"
  },
  "language_info": {
   "codemirror_mode": {
    "name": "ipython",
    "version": 3
   },
   "file_extension": ".py",
   "mimetype": "text/x-python",
   "name": "python",
   "nbconvert_exporter": "python",
   "pygments_lexer": "ipython3",
   "version": "3.10.4"
  }
 },
 "nbformat": 4,
 "nbformat_minor": 5
}
